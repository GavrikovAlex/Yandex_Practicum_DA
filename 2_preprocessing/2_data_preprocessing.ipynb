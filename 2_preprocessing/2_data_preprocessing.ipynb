{
 "cells": [
  {
   "cell_type": "markdown",
   "id": "9a69c1c2",
   "metadata": {
    "deletable": false,
    "editable": false,
    "id": "c81daeeb"
   },
   "source": [
    "# Исследование надежности заемщиков\n"
   ]
  },
  {
   "cell_type": "markdown",
   "id": "c75a9fc9",
   "metadata": {
    "deletable": false,
    "editable": false,
    "id": "827c20bf"
   },
   "source": [
    "Во второй части проекта вы выполните шаги 3 и 4. Их вручную проверит ревьюер.\n",
    "Чтобы вам не пришлось писать код заново для шагов 1 и 2, мы добавили авторские решения в ячейки с кодом. \n",
    "\n"
   ]
  },
  {
   "cell_type": "markdown",
   "id": "b83648c7",
   "metadata": {
    "deletable": false,
    "editable": false,
    "id": "744d7639"
   },
   "source": [
    "## Откройте таблицу и изучите общую информацию о данных"
   ]
  },
  {
   "cell_type": "markdown",
   "id": "5108ed75",
   "metadata": {
    "deletable": false,
    "editable": false,
    "id": "e7a14c31"
   },
   "source": [
    "**Задание 1. Импортируйте библиотеку pandas. Считайте данные из csv-файла в датафрейм и сохраните в переменную `data`. Путь к файлу:**\n",
    "\n",
    "`/datasets/data.csv`"
   ]
  },
  {
   "cell_type": "code",
   "execution_count": 67,
   "id": "bf280b30",
   "metadata": {
    "deletable": false,
    "id": "7bcf75c9"
   },
   "outputs": [],
   "source": [
    "import pandas as pd\n",
    "\n",
    "try:\n",
    "    data = pd.read_csv('/datasets/data.csv')\n",
    "except:\n",
    "    data = pd.read_csv('https://code.s3.yandex.net/datasets/data.csv')"
   ]
  },
  {
   "cell_type": "markdown",
   "id": "eb45d64f",
   "metadata": {
    "deletable": false,
    "editable": false,
    "id": "b8038fe3"
   },
   "source": [
    "**Задание 2. Выведите первые 20 строчек датафрейма `data` на экран.**"
   ]
  },
  {
   "cell_type": "code",
   "execution_count": 68,
   "id": "c174c247",
   "metadata": {
    "deletable": false,
    "id": "2a7cab99",
    "outputId": "1a8f3ef2-d323-4ec2-ddf7-89670b5944c4"
   },
   "outputs": [
    {
     "data": {
      "text/html": [
       "<div>\n",
       "<style scoped>\n",
       "    .dataframe tbody tr th:only-of-type {\n",
       "        vertical-align: middle;\n",
       "    }\n",
       "\n",
       "    .dataframe tbody tr th {\n",
       "        vertical-align: top;\n",
       "    }\n",
       "\n",
       "    .dataframe thead th {\n",
       "        text-align: right;\n",
       "    }\n",
       "</style>\n",
       "<table border=\"1\" class=\"dataframe\">\n",
       "  <thead>\n",
       "    <tr style=\"text-align: right;\">\n",
       "      <th></th>\n",
       "      <th>children</th>\n",
       "      <th>days_employed</th>\n",
       "      <th>dob_years</th>\n",
       "      <th>education</th>\n",
       "      <th>education_id</th>\n",
       "      <th>family_status</th>\n",
       "      <th>family_status_id</th>\n",
       "      <th>gender</th>\n",
       "      <th>income_type</th>\n",
       "      <th>debt</th>\n",
       "      <th>total_income</th>\n",
       "      <th>purpose</th>\n",
       "    </tr>\n",
       "  </thead>\n",
       "  <tbody>\n",
       "    <tr>\n",
       "      <th>0</th>\n",
       "      <td>1</td>\n",
       "      <td>-8437.673028</td>\n",
       "      <td>42</td>\n",
       "      <td>высшее</td>\n",
       "      <td>0</td>\n",
       "      <td>женат / замужем</td>\n",
       "      <td>0</td>\n",
       "      <td>F</td>\n",
       "      <td>сотрудник</td>\n",
       "      <td>0</td>\n",
       "      <td>253875.639453</td>\n",
       "      <td>покупка жилья</td>\n",
       "    </tr>\n",
       "    <tr>\n",
       "      <th>1</th>\n",
       "      <td>1</td>\n",
       "      <td>-4024.803754</td>\n",
       "      <td>36</td>\n",
       "      <td>среднее</td>\n",
       "      <td>1</td>\n",
       "      <td>женат / замужем</td>\n",
       "      <td>0</td>\n",
       "      <td>F</td>\n",
       "      <td>сотрудник</td>\n",
       "      <td>0</td>\n",
       "      <td>112080.014102</td>\n",
       "      <td>приобретение автомобиля</td>\n",
       "    </tr>\n",
       "    <tr>\n",
       "      <th>2</th>\n",
       "      <td>0</td>\n",
       "      <td>-5623.422610</td>\n",
       "      <td>33</td>\n",
       "      <td>Среднее</td>\n",
       "      <td>1</td>\n",
       "      <td>женат / замужем</td>\n",
       "      <td>0</td>\n",
       "      <td>M</td>\n",
       "      <td>сотрудник</td>\n",
       "      <td>0</td>\n",
       "      <td>145885.952297</td>\n",
       "      <td>покупка жилья</td>\n",
       "    </tr>\n",
       "    <tr>\n",
       "      <th>3</th>\n",
       "      <td>3</td>\n",
       "      <td>-4124.747207</td>\n",
       "      <td>32</td>\n",
       "      <td>среднее</td>\n",
       "      <td>1</td>\n",
       "      <td>женат / замужем</td>\n",
       "      <td>0</td>\n",
       "      <td>M</td>\n",
       "      <td>сотрудник</td>\n",
       "      <td>0</td>\n",
       "      <td>267628.550329</td>\n",
       "      <td>дополнительное образование</td>\n",
       "    </tr>\n",
       "    <tr>\n",
       "      <th>4</th>\n",
       "      <td>0</td>\n",
       "      <td>340266.072047</td>\n",
       "      <td>53</td>\n",
       "      <td>среднее</td>\n",
       "      <td>1</td>\n",
       "      <td>гражданский брак</td>\n",
       "      <td>1</td>\n",
       "      <td>F</td>\n",
       "      <td>пенсионер</td>\n",
       "      <td>0</td>\n",
       "      <td>158616.077870</td>\n",
       "      <td>сыграть свадьбу</td>\n",
       "    </tr>\n",
       "    <tr>\n",
       "      <th>5</th>\n",
       "      <td>0</td>\n",
       "      <td>-926.185831</td>\n",
       "      <td>27</td>\n",
       "      <td>высшее</td>\n",
       "      <td>0</td>\n",
       "      <td>гражданский брак</td>\n",
       "      <td>1</td>\n",
       "      <td>M</td>\n",
       "      <td>компаньон</td>\n",
       "      <td>0</td>\n",
       "      <td>255763.565419</td>\n",
       "      <td>покупка жилья</td>\n",
       "    </tr>\n",
       "    <tr>\n",
       "      <th>6</th>\n",
       "      <td>0</td>\n",
       "      <td>-2879.202052</td>\n",
       "      <td>43</td>\n",
       "      <td>высшее</td>\n",
       "      <td>0</td>\n",
       "      <td>женат / замужем</td>\n",
       "      <td>0</td>\n",
       "      <td>F</td>\n",
       "      <td>компаньон</td>\n",
       "      <td>0</td>\n",
       "      <td>240525.971920</td>\n",
       "      <td>операции с жильем</td>\n",
       "    </tr>\n",
       "    <tr>\n",
       "      <th>7</th>\n",
       "      <td>0</td>\n",
       "      <td>-152.779569</td>\n",
       "      <td>50</td>\n",
       "      <td>СРЕДНЕЕ</td>\n",
       "      <td>1</td>\n",
       "      <td>женат / замужем</td>\n",
       "      <td>0</td>\n",
       "      <td>M</td>\n",
       "      <td>сотрудник</td>\n",
       "      <td>0</td>\n",
       "      <td>135823.934197</td>\n",
       "      <td>образование</td>\n",
       "    </tr>\n",
       "    <tr>\n",
       "      <th>8</th>\n",
       "      <td>2</td>\n",
       "      <td>-6929.865299</td>\n",
       "      <td>35</td>\n",
       "      <td>ВЫСШЕЕ</td>\n",
       "      <td>0</td>\n",
       "      <td>гражданский брак</td>\n",
       "      <td>1</td>\n",
       "      <td>F</td>\n",
       "      <td>сотрудник</td>\n",
       "      <td>0</td>\n",
       "      <td>95856.832424</td>\n",
       "      <td>на проведение свадьбы</td>\n",
       "    </tr>\n",
       "    <tr>\n",
       "      <th>9</th>\n",
       "      <td>0</td>\n",
       "      <td>-2188.756445</td>\n",
       "      <td>41</td>\n",
       "      <td>среднее</td>\n",
       "      <td>1</td>\n",
       "      <td>женат / замужем</td>\n",
       "      <td>0</td>\n",
       "      <td>M</td>\n",
       "      <td>сотрудник</td>\n",
       "      <td>0</td>\n",
       "      <td>144425.938277</td>\n",
       "      <td>покупка жилья для семьи</td>\n",
       "    </tr>\n",
       "    <tr>\n",
       "      <th>10</th>\n",
       "      <td>2</td>\n",
       "      <td>-4171.483647</td>\n",
       "      <td>36</td>\n",
       "      <td>высшее</td>\n",
       "      <td>0</td>\n",
       "      <td>женат / замужем</td>\n",
       "      <td>0</td>\n",
       "      <td>M</td>\n",
       "      <td>компаньон</td>\n",
       "      <td>0</td>\n",
       "      <td>113943.491460</td>\n",
       "      <td>покупка недвижимости</td>\n",
       "    </tr>\n",
       "    <tr>\n",
       "      <th>11</th>\n",
       "      <td>0</td>\n",
       "      <td>-792.701887</td>\n",
       "      <td>40</td>\n",
       "      <td>среднее</td>\n",
       "      <td>1</td>\n",
       "      <td>женат / замужем</td>\n",
       "      <td>0</td>\n",
       "      <td>F</td>\n",
       "      <td>сотрудник</td>\n",
       "      <td>0</td>\n",
       "      <td>77069.234271</td>\n",
       "      <td>покупка коммерческой недвижимости</td>\n",
       "    </tr>\n",
       "    <tr>\n",
       "      <th>12</th>\n",
       "      <td>0</td>\n",
       "      <td>NaN</td>\n",
       "      <td>65</td>\n",
       "      <td>среднее</td>\n",
       "      <td>1</td>\n",
       "      <td>гражданский брак</td>\n",
       "      <td>1</td>\n",
       "      <td>M</td>\n",
       "      <td>пенсионер</td>\n",
       "      <td>0</td>\n",
       "      <td>NaN</td>\n",
       "      <td>сыграть свадьбу</td>\n",
       "    </tr>\n",
       "    <tr>\n",
       "      <th>13</th>\n",
       "      <td>0</td>\n",
       "      <td>-1846.641941</td>\n",
       "      <td>54</td>\n",
       "      <td>неоконченное высшее</td>\n",
       "      <td>2</td>\n",
       "      <td>женат / замужем</td>\n",
       "      <td>0</td>\n",
       "      <td>F</td>\n",
       "      <td>сотрудник</td>\n",
       "      <td>0</td>\n",
       "      <td>130458.228857</td>\n",
       "      <td>приобретение автомобиля</td>\n",
       "    </tr>\n",
       "    <tr>\n",
       "      <th>14</th>\n",
       "      <td>0</td>\n",
       "      <td>-1844.956182</td>\n",
       "      <td>56</td>\n",
       "      <td>высшее</td>\n",
       "      <td>0</td>\n",
       "      <td>гражданский брак</td>\n",
       "      <td>1</td>\n",
       "      <td>F</td>\n",
       "      <td>компаньон</td>\n",
       "      <td>1</td>\n",
       "      <td>165127.911772</td>\n",
       "      <td>покупка жилой недвижимости</td>\n",
       "    </tr>\n",
       "    <tr>\n",
       "      <th>15</th>\n",
       "      <td>1</td>\n",
       "      <td>-972.364419</td>\n",
       "      <td>26</td>\n",
       "      <td>среднее</td>\n",
       "      <td>1</td>\n",
       "      <td>женат / замужем</td>\n",
       "      <td>0</td>\n",
       "      <td>F</td>\n",
       "      <td>сотрудник</td>\n",
       "      <td>0</td>\n",
       "      <td>116820.904450</td>\n",
       "      <td>строительство собственной недвижимости</td>\n",
       "    </tr>\n",
       "    <tr>\n",
       "      <th>16</th>\n",
       "      <td>0</td>\n",
       "      <td>-1719.934226</td>\n",
       "      <td>35</td>\n",
       "      <td>среднее</td>\n",
       "      <td>1</td>\n",
       "      <td>женат / замужем</td>\n",
       "      <td>0</td>\n",
       "      <td>F</td>\n",
       "      <td>сотрудник</td>\n",
       "      <td>0</td>\n",
       "      <td>289202.704229</td>\n",
       "      <td>недвижимость</td>\n",
       "    </tr>\n",
       "    <tr>\n",
       "      <th>17</th>\n",
       "      <td>0</td>\n",
       "      <td>-2369.999720</td>\n",
       "      <td>33</td>\n",
       "      <td>высшее</td>\n",
       "      <td>0</td>\n",
       "      <td>гражданский брак</td>\n",
       "      <td>1</td>\n",
       "      <td>M</td>\n",
       "      <td>сотрудник</td>\n",
       "      <td>0</td>\n",
       "      <td>90410.586745</td>\n",
       "      <td>строительство недвижимости</td>\n",
       "    </tr>\n",
       "    <tr>\n",
       "      <th>18</th>\n",
       "      <td>0</td>\n",
       "      <td>400281.136913</td>\n",
       "      <td>53</td>\n",
       "      <td>среднее</td>\n",
       "      <td>1</td>\n",
       "      <td>вдовец / вдова</td>\n",
       "      <td>2</td>\n",
       "      <td>F</td>\n",
       "      <td>пенсионер</td>\n",
       "      <td>0</td>\n",
       "      <td>56823.777243</td>\n",
       "      <td>на покупку подержанного автомобиля</td>\n",
       "    </tr>\n",
       "    <tr>\n",
       "      <th>19</th>\n",
       "      <td>0</td>\n",
       "      <td>-10038.818549</td>\n",
       "      <td>48</td>\n",
       "      <td>СРЕДНЕЕ</td>\n",
       "      <td>1</td>\n",
       "      <td>в разводе</td>\n",
       "      <td>3</td>\n",
       "      <td>F</td>\n",
       "      <td>сотрудник</td>\n",
       "      <td>0</td>\n",
       "      <td>242831.107982</td>\n",
       "      <td>на покупку своего автомобиля</td>\n",
       "    </tr>\n",
       "  </tbody>\n",
       "</table>\n",
       "</div>"
      ],
      "text/plain": [
       "    children  days_employed  dob_years            education  education_id  \\\n",
       "0          1   -8437.673028         42               высшее             0   \n",
       "1          1   -4024.803754         36              среднее             1   \n",
       "2          0   -5623.422610         33              Среднее             1   \n",
       "3          3   -4124.747207         32              среднее             1   \n",
       "4          0  340266.072047         53              среднее             1   \n",
       "5          0    -926.185831         27               высшее             0   \n",
       "6          0   -2879.202052         43               высшее             0   \n",
       "7          0    -152.779569         50              СРЕДНЕЕ             1   \n",
       "8          2   -6929.865299         35               ВЫСШЕЕ             0   \n",
       "9          0   -2188.756445         41              среднее             1   \n",
       "10         2   -4171.483647         36               высшее             0   \n",
       "11         0    -792.701887         40              среднее             1   \n",
       "12         0            NaN         65              среднее             1   \n",
       "13         0   -1846.641941         54  неоконченное высшее             2   \n",
       "14         0   -1844.956182         56               высшее             0   \n",
       "15         1    -972.364419         26              среднее             1   \n",
       "16         0   -1719.934226         35              среднее             1   \n",
       "17         0   -2369.999720         33               высшее             0   \n",
       "18         0  400281.136913         53              среднее             1   \n",
       "19         0  -10038.818549         48              СРЕДНЕЕ             1   \n",
       "\n",
       "       family_status  family_status_id gender income_type  debt  \\\n",
       "0    женат / замужем                 0      F   сотрудник     0   \n",
       "1    женат / замужем                 0      F   сотрудник     0   \n",
       "2    женат / замужем                 0      M   сотрудник     0   \n",
       "3    женат / замужем                 0      M   сотрудник     0   \n",
       "4   гражданский брак                 1      F   пенсионер     0   \n",
       "5   гражданский брак                 1      M   компаньон     0   \n",
       "6    женат / замужем                 0      F   компаньон     0   \n",
       "7    женат / замужем                 0      M   сотрудник     0   \n",
       "8   гражданский брак                 1      F   сотрудник     0   \n",
       "9    женат / замужем                 0      M   сотрудник     0   \n",
       "10   женат / замужем                 0      M   компаньон     0   \n",
       "11   женат / замужем                 0      F   сотрудник     0   \n",
       "12  гражданский брак                 1      M   пенсионер     0   \n",
       "13   женат / замужем                 0      F   сотрудник     0   \n",
       "14  гражданский брак                 1      F   компаньон     1   \n",
       "15   женат / замужем                 0      F   сотрудник     0   \n",
       "16   женат / замужем                 0      F   сотрудник     0   \n",
       "17  гражданский брак                 1      M   сотрудник     0   \n",
       "18    вдовец / вдова                 2      F   пенсионер     0   \n",
       "19         в разводе                 3      F   сотрудник     0   \n",
       "\n",
       "     total_income                                 purpose  \n",
       "0   253875.639453                           покупка жилья  \n",
       "1   112080.014102                 приобретение автомобиля  \n",
       "2   145885.952297                           покупка жилья  \n",
       "3   267628.550329              дополнительное образование  \n",
       "4   158616.077870                         сыграть свадьбу  \n",
       "5   255763.565419                           покупка жилья  \n",
       "6   240525.971920                       операции с жильем  \n",
       "7   135823.934197                             образование  \n",
       "8    95856.832424                   на проведение свадьбы  \n",
       "9   144425.938277                 покупка жилья для семьи  \n",
       "10  113943.491460                    покупка недвижимости  \n",
       "11   77069.234271       покупка коммерческой недвижимости  \n",
       "12            NaN                         сыграть свадьбу  \n",
       "13  130458.228857                 приобретение автомобиля  \n",
       "14  165127.911772              покупка жилой недвижимости  \n",
       "15  116820.904450  строительство собственной недвижимости  \n",
       "16  289202.704229                            недвижимость  \n",
       "17   90410.586745              строительство недвижимости  \n",
       "18   56823.777243      на покупку подержанного автомобиля  \n",
       "19  242831.107982            на покупку своего автомобиля  "
      ]
     },
     "execution_count": 68,
     "metadata": {},
     "output_type": "execute_result"
    }
   ],
   "source": [
    "data.head(20)"
   ]
  },
  {
   "cell_type": "markdown",
   "id": "5f0355aa",
   "metadata": {
    "deletable": false,
    "editable": false,
    "id": "1c12e233"
   },
   "source": [
    "**Задание 3. Выведите основную информацию о датафрейме с помощью метода `info()`.**"
   ]
  },
  {
   "cell_type": "code",
   "execution_count": 69,
   "id": "5f04095d",
   "metadata": {
    "deletable": false,
    "id": "2b757bca",
    "outputId": "15376089-8dad-46c9-b520-c05248d43158"
   },
   "outputs": [
    {
     "name": "stdout",
     "output_type": "stream",
     "text": [
      "<class 'pandas.core.frame.DataFrame'>\n",
      "RangeIndex: 21525 entries, 0 to 21524\n",
      "Data columns (total 12 columns):\n",
      " #   Column            Non-Null Count  Dtype  \n",
      "---  ------            --------------  -----  \n",
      " 0   children          21525 non-null  int64  \n",
      " 1   days_employed     19351 non-null  float64\n",
      " 2   dob_years         21525 non-null  int64  \n",
      " 3   education         21525 non-null  object \n",
      " 4   education_id      21525 non-null  int64  \n",
      " 5   family_status     21525 non-null  object \n",
      " 6   family_status_id  21525 non-null  int64  \n",
      " 7   gender            21525 non-null  object \n",
      " 8   income_type       21525 non-null  object \n",
      " 9   debt              21525 non-null  int64  \n",
      " 10  total_income      19351 non-null  float64\n",
      " 11  purpose           21525 non-null  object \n",
      "dtypes: float64(2), int64(5), object(5)\n",
      "memory usage: 2.0+ MB\n"
     ]
    }
   ],
   "source": [
    "data.info()"
   ]
  },
  {
   "cell_type": "markdown",
   "id": "81363c11",
   "metadata": {
    "deletable": false,
    "editable": false,
    "id": "333ec665"
   },
   "source": [
    "## Предобработка данных"
   ]
  },
  {
   "cell_type": "markdown",
   "id": "bbd77aab",
   "metadata": {
    "deletable": false,
    "editable": false,
    "id": "02d92d53"
   },
   "source": [
    "### Удаление пропусков"
   ]
  },
  {
   "cell_type": "markdown",
   "id": "95e0a827",
   "metadata": {
    "deletable": false,
    "editable": false,
    "id": "cd84967c"
   },
   "source": [
    "**Задание 4. Выведите количество пропущенных значений для каждого столбца. Используйте комбинацию двух методов.**"
   ]
  },
  {
   "cell_type": "code",
   "execution_count": 70,
   "id": "a2999b16",
   "metadata": {
    "deletable": false,
    "id": "7f9b2309",
    "outputId": "81f4d817-781c-465c-ed15-91ce4446810d"
   },
   "outputs": [
    {
     "data": {
      "text/plain": [
       "children               0\n",
       "days_employed       2174\n",
       "dob_years              0\n",
       "education              0\n",
       "education_id           0\n",
       "family_status          0\n",
       "family_status_id       0\n",
       "gender                 0\n",
       "income_type            0\n",
       "debt                   0\n",
       "total_income        2174\n",
       "purpose                0\n",
       "dtype: int64"
      ]
     },
     "execution_count": 70,
     "metadata": {},
     "output_type": "execute_result"
    }
   ],
   "source": [
    "data.isna().sum()"
   ]
  },
  {
   "cell_type": "markdown",
   "id": "78b9f943",
   "metadata": {
    "deletable": false,
    "editable": false,
    "id": "db86e27b"
   },
   "source": [
    "**Задание 5. В двух столбцах есть пропущенные значения. Один из них — `days_employed`. Пропуски в этом столбце вы обработаете на следующем этапе. Другой столбец с пропущенными значениями — `total_income` — хранит данные о доходах. На сумму дохода сильнее всего влияет тип занятости, поэтому заполнить пропуски в этом столбце нужно медианным значением по каждому типу из столбца `income_type`. Например, у человека с типом занятости `сотрудник` пропуск в столбце `total_income` должен быть заполнен медианным доходом среди всех записей с тем же типом.**"
   ]
  },
  {
   "cell_type": "code",
   "execution_count": 71,
   "id": "2d0f0f6a",
   "metadata": {
    "deletable": false,
    "id": "42006a93"
   },
   "outputs": [],
   "source": [
    "for t in data['income_type'].unique():\n",
    "    data.loc[(data['income_type'] == t) & (data['total_income'].isna()), 'total_income'] = \\\n",
    "    data.loc[(data['income_type'] == t), 'total_income'].median()"
   ]
  },
  {
   "cell_type": "markdown",
   "id": "c886324a",
   "metadata": {
    "deletable": false,
    "editable": false,
    "id": "89da5ece"
   },
   "source": [
    "### Обработка аномальных значений"
   ]
  },
  {
   "cell_type": "markdown",
   "id": "2ffb594e",
   "metadata": {
    "deletable": false,
    "editable": false,
    "id": "57964554"
   },
   "source": [
    "**Задание 6. В данных могут встречаться артефакты (аномалии) — значения, которые не отражают действительность и появились по какой-то ошибке. таким артефактом будет отрицательное количество дней трудового стажа в столбце `days_employed`. Для реальных данных это нормально. Обработайте значения в этом столбце: замените все отрицательные значения положительными с помощью метода `abs()`.**"
   ]
  },
  {
   "cell_type": "code",
   "execution_count": 72,
   "id": "7e4dd44a",
   "metadata": {
    "deletable": false,
    "id": "f6f055bf"
   },
   "outputs": [],
   "source": [
    "data['days_employed'] = data['days_employed'].abs()"
   ]
  },
  {
   "cell_type": "markdown",
   "id": "6a650efe",
   "metadata": {
    "deletable": false,
    "editable": false,
    "id": "6107dd2f"
   },
   "source": [
    "**Задание 7. Для каждого типа занятости выведите медианное значение трудового стажа `days_employed` в днях.**"
   ]
  },
  {
   "cell_type": "code",
   "execution_count": 73,
   "id": "c741d3e2",
   "metadata": {
    "deletable": false,
    "id": "85a5faf6",
    "outputId": "801ef80e-522b-4668-f34e-565af7432bcf"
   },
   "outputs": [
    {
     "data": {
      "text/plain": [
       "income_type\n",
       "безработный        366413.652744\n",
       "в декрете            3296.759962\n",
       "госслужащий          2689.368353\n",
       "компаньон            1547.382223\n",
       "пенсионер          365213.306266\n",
       "предприниматель       520.848083\n",
       "сотрудник            1574.202821\n",
       "студент               578.751554\n",
       "Name: days_employed, dtype: float64"
      ]
     },
     "execution_count": 73,
     "metadata": {},
     "output_type": "execute_result"
    }
   ],
   "source": [
    "data.groupby('income_type')['days_employed'].agg('median')"
   ]
  },
  {
   "cell_type": "markdown",
   "id": "9aa97e76",
   "metadata": {
    "deletable": false,
    "editable": false,
    "id": "38d1a030"
   },
   "source": [
    "У двух типов (безработные и пенсионеры) получатся аномально большие значения. Исправить такие значения сложно, поэтому оставьте их как есть. Тем более этот столбец не понадобится вам для исследования."
   ]
  },
  {
   "cell_type": "markdown",
   "id": "7a64a28f",
   "metadata": {
    "deletable": false,
    "editable": false,
    "id": "d8a9f147"
   },
   "source": [
    "**Задание 8. Выведите перечень уникальных значений столбца `children`.**"
   ]
  },
  {
   "cell_type": "code",
   "execution_count": 74,
   "id": "b4b7ac6e",
   "metadata": {
    "deletable": false,
    "id": "ef5056eb",
    "outputId": "6975b15c-7f95-4697-d16d-a0c79b657b03"
   },
   "outputs": [
    {
     "data": {
      "text/plain": [
       "array([ 1,  0,  3,  2, -1,  4, 20,  5])"
      ]
     },
     "execution_count": 74,
     "metadata": {},
     "output_type": "execute_result"
    }
   ],
   "source": [
    "data['children'].unique()"
   ]
  },
  {
   "cell_type": "markdown",
   "id": "10fffde8",
   "metadata": {
    "deletable": false,
    "editable": false,
    "id": "40b9ebf2"
   },
   "source": [
    "**Задание 9. В столбце `children` есть два аномальных значения. Удалите строки, в которых встречаются такие аномальные значения из датафрейма `data`.**"
   ]
  },
  {
   "cell_type": "code",
   "execution_count": 75,
   "id": "8b968cf3",
   "metadata": {
    "deletable": false,
    "id": "3ff9801d"
   },
   "outputs": [],
   "source": [
    "data = data[(data['children'] != -1) & (data['children'] != 20)]"
   ]
  },
  {
   "cell_type": "markdown",
   "id": "a510f41e",
   "metadata": {
    "deletable": false,
    "editable": false,
    "id": "bbc4d0ce"
   },
   "source": [
    "**Задание 10. Ещё раз выведите перечень уникальных значений столбца `children`, чтобы убедиться, что артефакты удалены.**"
   ]
  },
  {
   "cell_type": "code",
   "execution_count": 76,
   "id": "c7a2c959",
   "metadata": {
    "deletable": false,
    "id": "ad4fa8b7",
    "outputId": "b2097101-d49d-44d9-901b-32a65c9463d1"
   },
   "outputs": [
    {
     "data": {
      "text/plain": [
       "array([1, 0, 3, 2, 4, 5])"
      ]
     },
     "execution_count": 76,
     "metadata": {},
     "output_type": "execute_result"
    }
   ],
   "source": [
    "data['children'].unique()"
   ]
  },
  {
   "cell_type": "markdown",
   "id": "3915006a",
   "metadata": {
    "deletable": false,
    "editable": false,
    "id": "75440b63"
   },
   "source": [
    "### Удаление пропусков (продолжение)"
   ]
  },
  {
   "cell_type": "markdown",
   "id": "ba12d80e",
   "metadata": {
    "deletable": false,
    "editable": false,
    "id": "f4ea573f"
   },
   "source": [
    "**Задание 11. Заполните пропуски в столбце `days_employed` медианными значениями по каждого типа занятости `income_type`.**"
   ]
  },
  {
   "cell_type": "code",
   "execution_count": 77,
   "id": "22d37a15",
   "metadata": {
    "deletable": false,
    "id": "af6b1a7e"
   },
   "outputs": [],
   "source": [
    "for t in data['income_type'].unique():\n",
    "    data.loc[(data['income_type'] == t) & (data['days_employed'].isna()), 'days_employed'] = \\\n",
    "    data.loc[(data['income_type'] == t), 'days_employed'].median()"
   ]
  },
  {
   "cell_type": "markdown",
   "id": "cb718ada",
   "metadata": {
    "deletable": false,
    "editable": false,
    "id": "2753f40d"
   },
   "source": [
    "**Задание 12. Убедитесь, что все пропуски заполнены. Проверьте себя и ещё раз выведите количество пропущенных значений для каждого столбца с помощью двух методов.**"
   ]
  },
  {
   "cell_type": "code",
   "execution_count": 78,
   "id": "7507094c",
   "metadata": {
    "deletable": false,
    "id": "55f78bc2",
    "outputId": "8da1e4e1-358e-4e87-98c9-f261bce0a7b2"
   },
   "outputs": [
    {
     "data": {
      "text/plain": [
       "children            0\n",
       "days_employed       0\n",
       "dob_years           0\n",
       "education           0\n",
       "education_id        0\n",
       "family_status       0\n",
       "family_status_id    0\n",
       "gender              0\n",
       "income_type         0\n",
       "debt                0\n",
       "total_income        0\n",
       "purpose             0\n",
       "dtype: int64"
      ]
     },
     "execution_count": 78,
     "metadata": {},
     "output_type": "execute_result"
    }
   ],
   "source": [
    "data.isna().sum()"
   ]
  },
  {
   "cell_type": "markdown",
   "id": "630c2f7e",
   "metadata": {
    "deletable": false,
    "editable": false,
    "id": "ddc81e43"
   },
   "source": [
    "### Изменение типов данных"
   ]
  },
  {
   "cell_type": "markdown",
   "id": "1ab00cb6",
   "metadata": {
    "deletable": false,
    "editable": false,
    "id": "42d19d24"
   },
   "source": [
    "**Задание 13. Замените вещественный тип данных в столбце `total_income` на целочисленный с помощью метода `astype()`.**"
   ]
  },
  {
   "cell_type": "code",
   "execution_count": 79,
   "id": "9d7bfccb",
   "metadata": {
    "deletable": false,
    "id": "920b65ad"
   },
   "outputs": [],
   "source": [
    "data['total_income'] = data['total_income'].astype(int)"
   ]
  },
  {
   "cell_type": "markdown",
   "id": "83e1eec1",
   "metadata": {
    "deletable": false,
    "editable": false,
    "id": "80c420ba"
   },
   "source": [
    "### Обработка дубликатов"
   ]
  },
  {
   "cell_type": "markdown",
   "id": "3028323d",
   "metadata": {
    "deletable": false,
    "editable": false
   },
   "source": [
    "**Задание 14. Обработайте неявные дубликаты в столбце `education`. В этом столбце есть одни и те же значения, но записанные по-разному: с использованием заглавных и строчных букв. Приведите их к нижнему регистру. Проверьте остальные столбцы.**"
   ]
  },
  {
   "cell_type": "code",
   "execution_count": 80,
   "id": "8a3c7947",
   "metadata": {
    "deletable": false
   },
   "outputs": [],
   "source": [
    "data['education'] = data['education'].str.lower()"
   ]
  },
  {
   "cell_type": "markdown",
   "id": "bb28856b",
   "metadata": {
    "deletable": false,
    "editable": false,
    "id": "dc587695"
   },
   "source": [
    "**Задание 15. Выведите на экран количество строк-дубликатов в данных. Если такие строки присутствуют, удалите их.**"
   ]
  },
  {
   "cell_type": "code",
   "execution_count": 81,
   "id": "d3e0df26",
   "metadata": {
    "deletable": false,
    "id": "3ee445e4",
    "outputId": "9684deba-1934-42d1-99e1-cda61740f822"
   },
   "outputs": [
    {
     "data": {
      "text/plain": [
       "71"
      ]
     },
     "execution_count": 81,
     "metadata": {},
     "output_type": "execute_result"
    }
   ],
   "source": [
    "data.duplicated().sum()"
   ]
  },
  {
   "cell_type": "code",
   "execution_count": 82,
   "id": "394e497c",
   "metadata": {
    "deletable": false,
    "id": "8575fe05"
   },
   "outputs": [],
   "source": [
    "data = data.drop_duplicates()"
   ]
  },
  {
   "cell_type": "markdown",
   "id": "a9770354",
   "metadata": {
    "deletable": false,
    "editable": false,
    "id": "9904cf55"
   },
   "source": [
    "### Категоризация данных"
   ]
  },
  {
   "cell_type": "markdown",
   "id": "731bb2c5",
   "metadata": {
    "deletable": false,
    "editable": false,
    "id": "72fcc8a2"
   },
   "source": [
    "**Задание 16. На основании диапазонов, указанных ниже, создайте в датафрейме `data` столбец `total_income_category` с категориями:**\n",
    "\n",
    "- 0–30000 — `'E'`;\n",
    "- 30001–50000 — `'D'`;\n",
    "- 50001–200000 — `'C'`;\n",
    "- 200001–1000000 — `'B'`;\n",
    "- 1000001 и выше — `'A'`.\n",
    "\n",
    "\n",
    "**Например, кредитополучателю с доходом 25000 нужно назначить категорию `'E'`, а клиенту, получающему 235000, — `'B'`. Используйте собственную функцию с именем `categorize_income()` и метод `apply()`.**"
   ]
  },
  {
   "cell_type": "code",
   "execution_count": 83,
   "id": "cce2a731",
   "metadata": {
    "deletable": false,
    "id": "e1771346"
   },
   "outputs": [],
   "source": [
    "def categorize_income(income):\n",
    "    try:\n",
    "        if 0 <= income <= 30000:\n",
    "            return 'E'\n",
    "        elif 30001 <= income <= 50000:\n",
    "            return 'D'\n",
    "        elif 50001 <= income <= 200000:\n",
    "            return 'C'\n",
    "        elif 200001 <= income <= 1000000:\n",
    "            return 'B'\n",
    "        elif income >= 1000001:\n",
    "            return 'A'\n",
    "    except:\n",
    "        pass"
   ]
  },
  {
   "cell_type": "code",
   "execution_count": 84,
   "id": "8d85a9fd",
   "metadata": {
    "deletable": false,
    "id": "d5f3586d"
   },
   "outputs": [],
   "source": [
    "data['total_income_category'] = data['total_income'].apply(categorize_income)"
   ]
  },
  {
   "cell_type": "markdown",
   "id": "35132158",
   "metadata": {
    "deletable": false,
    "editable": false,
    "id": "dde49b5c"
   },
   "source": [
    "**Задание 17. Выведите на экран перечень уникальных целей взятия кредита из столбца `purpose`.**"
   ]
  },
  {
   "cell_type": "code",
   "execution_count": 85,
   "id": "f146f62a",
   "metadata": {
    "deletable": false,
    "id": "f67ce9b3",
    "outputId": "673c12d9-7d7e-4ae0-9812-c622c89dd244"
   },
   "outputs": [
    {
     "data": {
      "text/plain": [
       "array(['покупка жилья', 'приобретение автомобиля',\n",
       "       'дополнительное образование', 'сыграть свадьбу',\n",
       "       'операции с жильем', 'образование', 'на проведение свадьбы',\n",
       "       'покупка жилья для семьи', 'покупка недвижимости',\n",
       "       'покупка коммерческой недвижимости', 'покупка жилой недвижимости',\n",
       "       'строительство собственной недвижимости', 'недвижимость',\n",
       "       'строительство недвижимости', 'на покупку подержанного автомобиля',\n",
       "       'на покупку своего автомобиля',\n",
       "       'операции с коммерческой недвижимостью',\n",
       "       'строительство жилой недвижимости', 'жилье',\n",
       "       'операции со своей недвижимостью', 'автомобили',\n",
       "       'заняться образованием', 'сделка с подержанным автомобилем',\n",
       "       'получение образования', 'автомобиль', 'свадьба',\n",
       "       'получение дополнительного образования', 'покупка своего жилья',\n",
       "       'операции с недвижимостью', 'получение высшего образования',\n",
       "       'свой автомобиль', 'сделка с автомобилем',\n",
       "       'профильное образование', 'высшее образование',\n",
       "       'покупка жилья для сдачи', 'на покупку автомобиля', 'ремонт жилью',\n",
       "       'заняться высшим образованием'], dtype=object)"
      ]
     },
     "execution_count": 85,
     "metadata": {},
     "output_type": "execute_result"
    }
   ],
   "source": [
    "data['purpose'].unique()"
   ]
  },
  {
   "cell_type": "markdown",
   "id": "a59be94f",
   "metadata": {
    "deletable": false,
    "editable": false,
    "id": "85d0aef0"
   },
   "source": [
    "**Задание 18. Создайте функцию, которая на основании данных из столбца `purpose` сформирует новый столбец `purpose_category`, в который войдут следующие категории:**\n",
    "\n",
    "- `'операции с автомобилем'`,\n",
    "- `'операции с недвижимостью'`,\n",
    "- `'проведение свадьбы'`,\n",
    "- `'получение образования'`.\n",
    "\n",
    "**Например, если в столбце `purpose` находится подстрока `'на покупку автомобиля'`, то в столбце `purpose_category` должна появиться строка `'операции с автомобилем'`.**\n",
    "\n",
    "**Используйте собственную функцию с именем `categorize_purpose()` и метод `apply()`. Изучите данные в столбце `purpose` и определите, какие подстроки помогут вам правильно определить категорию.**"
   ]
  },
  {
   "cell_type": "code",
   "execution_count": 86,
   "id": "f78c902e",
   "metadata": {
    "deletable": false,
    "id": "e149fab4"
   },
   "outputs": [],
   "source": [
    "def categorize_purpose(row):\n",
    "    try:\n",
    "        if 'автом' in row:\n",
    "            return 'операции с автомобилем'\n",
    "        elif 'жил' in row or 'недвиж' in row:\n",
    "            return 'операции с недвижимостью'\n",
    "        elif 'свад' in row:\n",
    "            return 'проведение свадьбы'\n",
    "        elif 'образов' in row:\n",
    "            return 'получение образования'\n",
    "    except:\n",
    "        return 'нет категории'"
   ]
  },
  {
   "cell_type": "code",
   "execution_count": 87,
   "id": "701da25f",
   "metadata": {
    "deletable": false,
    "id": "bf36e69b"
   },
   "outputs": [],
   "source": [
    "data['purpose_category'] = data['purpose'].apply(categorize_purpose)"
   ]
  },
  {
   "cell_type": "markdown",
   "id": "177fc36c",
   "metadata": {
    "deletable": false,
    "editable": false,
    "id": "09b242bf"
   },
   "source": [
    "### Шаг 3. Исследуйте данные и ответьте на вопросы"
   ]
  },
  {
   "cell_type": "markdown",
   "id": "0bdb824b",
   "metadata": {},
   "source": [
    "### Описание данных\n",
    "* **children** — количество детей в семье\n",
    "* **days_employed** — общий трудовой стаж в днях\n",
    "* **dob_years** — возраст клиента в годах\n",
    "* **education** — уровень образования клиента\n",
    "* **education_id** — идентификатор уровня образования\n",
    "* **family_status** — семейное положение\n",
    "* **family_status_id** — идентификатор семейного положения\n",
    "* **gender** — пол клиента\n",
    "* **income_type** — тип занятости\n",
    "* **debt** — имел ли задолженность по возврату кредитов\n",
    "* **total_income** — ежемесячный доход\n",
    "* **purpose** — цель получения кредита"
   ]
  },
  {
   "cell_type": "markdown",
   "id": "fd0e64ca",
   "metadata": {
    "deletable": false,
    "editable": false,
    "id": "c5d66278"
   },
   "source": [
    "#### 3.1 Есть ли зависимость между количеством детей и возвратом кредита в срок?"
   ]
  },
  {
   "cell_type": "markdown",
   "id": "880e4101",
   "metadata": {},
   "source": [
    "Для начала выясню количество уникальных значений в столбце **'debt'**"
   ]
  },
  {
   "cell_type": "code",
   "execution_count": 88,
   "id": "c867693e",
   "metadata": {
    "deletable": false,
    "id": "2cacfc4a"
   },
   "outputs": [
    {
     "data": {
      "text/plain": [
       "array([0, 1])"
      ]
     },
     "execution_count": 88,
     "metadata": {},
     "output_type": "execute_result"
    }
   ],
   "source": [
    "data['debt'].unique()"
   ]
  },
  {
   "cell_type": "markdown",
   "id": "c3e4299a",
   "metadata": {},
   "source": [
    "В столбце **'debt'** есть два значения:\n",
    "* **0** - нет задолженности (по умолчанию = 'False')\n",
    "* **1** - есть задолженность (по умолчанию = 'True')"
   ]
  },
  {
   "cell_type": "markdown",
   "id": "a2a0675b",
   "metadata": {},
   "source": [
    "Создаю новую переменную, в которой будет таблица с нужными значениями."
   ]
  },
  {
   "cell_type": "code",
   "execution_count": 89,
   "id": "8ff5165b",
   "metadata": {},
   "outputs": [
    {
     "data": {
      "text/html": [
       "<div>\n",
       "<style scoped>\n",
       "    .dataframe tbody tr th:only-of-type {\n",
       "        vertical-align: middle;\n",
       "    }\n",
       "\n",
       "    .dataframe tbody tr th {\n",
       "        vertical-align: top;\n",
       "    }\n",
       "\n",
       "    .dataframe thead tr th {\n",
       "        text-align: left;\n",
       "    }\n",
       "\n",
       "    .dataframe thead tr:last-of-type th {\n",
       "        text-align: right;\n",
       "    }\n",
       "</style>\n",
       "<table border=\"1\" class=\"dataframe\">\n",
       "  <thead>\n",
       "    <tr>\n",
       "      <th></th>\n",
       "      <th colspan=\"2\" halign=\"left\">debt</th>\n",
       "    </tr>\n",
       "    <tr>\n",
       "      <th></th>\n",
       "      <th>count</th>\n",
       "      <th>sum</th>\n",
       "    </tr>\n",
       "    <tr>\n",
       "      <th>children</th>\n",
       "      <th></th>\n",
       "      <th></th>\n",
       "    </tr>\n",
       "  </thead>\n",
       "  <tbody>\n",
       "    <tr>\n",
       "      <th>0</th>\n",
       "      <td>14091</td>\n",
       "      <td>1063</td>\n",
       "    </tr>\n",
       "    <tr>\n",
       "      <th>1</th>\n",
       "      <td>4808</td>\n",
       "      <td>444</td>\n",
       "    </tr>\n",
       "    <tr>\n",
       "      <th>2</th>\n",
       "      <td>2052</td>\n",
       "      <td>194</td>\n",
       "    </tr>\n",
       "    <tr>\n",
       "      <th>3</th>\n",
       "      <td>330</td>\n",
       "      <td>27</td>\n",
       "    </tr>\n",
       "    <tr>\n",
       "      <th>4</th>\n",
       "      <td>41</td>\n",
       "      <td>4</td>\n",
       "    </tr>\n",
       "    <tr>\n",
       "      <th>5</th>\n",
       "      <td>9</td>\n",
       "      <td>0</td>\n",
       "    </tr>\n",
       "  </tbody>\n",
       "</table>\n",
       "</div>"
      ],
      "text/plain": [
       "           debt      \n",
       "          count   sum\n",
       "children             \n",
       "0         14091  1063\n",
       "1          4808   444\n",
       "2          2052   194\n",
       "3           330    27\n",
       "4            41     4\n",
       "5             9     0"
      ]
     },
     "execution_count": 89,
     "metadata": {},
     "output_type": "execute_result"
    }
   ],
   "source": [
    "children_depend_debt = data.groupby(['children']).agg({'debt': ['count','sum']}) \n",
    "children_depend_debt"
   ]
  },
  {
   "cell_type": "code",
   "execution_count": 90,
   "id": "403a69e7",
   "metadata": {},
   "outputs": [],
   "source": [
    "children_depend_debt['debt','%'] = children_depend_debt[('debt','sum')] / children_depend_debt[('debt','count')]*100"
   ]
  },
  {
   "cell_type": "code",
   "execution_count": 91,
   "id": "c3d8bdb6",
   "metadata": {},
   "outputs": [
    {
     "data": {
      "text/html": [
       "<div>\n",
       "<style scoped>\n",
       "    .dataframe tbody tr th:only-of-type {\n",
       "        vertical-align: middle;\n",
       "    }\n",
       "\n",
       "    .dataframe tbody tr th {\n",
       "        vertical-align: top;\n",
       "    }\n",
       "\n",
       "    .dataframe thead tr th {\n",
       "        text-align: left;\n",
       "    }\n",
       "\n",
       "    .dataframe thead tr:last-of-type th {\n",
       "        text-align: right;\n",
       "    }\n",
       "</style>\n",
       "<table border=\"1\" class=\"dataframe\">\n",
       "  <thead>\n",
       "    <tr>\n",
       "      <th></th>\n",
       "      <th colspan=\"3\" halign=\"left\">debt</th>\n",
       "    </tr>\n",
       "    <tr>\n",
       "      <th></th>\n",
       "      <th>count</th>\n",
       "      <th>sum</th>\n",
       "      <th>%</th>\n",
       "    </tr>\n",
       "    <tr>\n",
       "      <th>children</th>\n",
       "      <th></th>\n",
       "      <th></th>\n",
       "      <th></th>\n",
       "    </tr>\n",
       "  </thead>\n",
       "  <tbody>\n",
       "    <tr>\n",
       "      <th>0</th>\n",
       "      <td>14091</td>\n",
       "      <td>1063</td>\n",
       "      <td>7.543822</td>\n",
       "    </tr>\n",
       "    <tr>\n",
       "      <th>1</th>\n",
       "      <td>4808</td>\n",
       "      <td>444</td>\n",
       "      <td>9.234609</td>\n",
       "    </tr>\n",
       "    <tr>\n",
       "      <th>2</th>\n",
       "      <td>2052</td>\n",
       "      <td>194</td>\n",
       "      <td>9.454191</td>\n",
       "    </tr>\n",
       "    <tr>\n",
       "      <th>3</th>\n",
       "      <td>330</td>\n",
       "      <td>27</td>\n",
       "      <td>8.181818</td>\n",
       "    </tr>\n",
       "    <tr>\n",
       "      <th>4</th>\n",
       "      <td>41</td>\n",
       "      <td>4</td>\n",
       "      <td>9.756098</td>\n",
       "    </tr>\n",
       "    <tr>\n",
       "      <th>5</th>\n",
       "      <td>9</td>\n",
       "      <td>0</td>\n",
       "      <td>0.000000</td>\n",
       "    </tr>\n",
       "  </tbody>\n",
       "</table>\n",
       "</div>"
      ],
      "text/plain": [
       "           debt                \n",
       "          count   sum         %\n",
       "children                       \n",
       "0         14091  1063  7.543822\n",
       "1          4808   444  9.234609\n",
       "2          2052   194  9.454191\n",
       "3           330    27  8.181818\n",
       "4            41     4  9.756098\n",
       "5             9     0  0.000000"
      ]
     },
     "execution_count": 91,
     "metadata": {},
     "output_type": "execute_result"
    }
   ],
   "source": [
    "children_depend_debt"
   ]
  },
  {
   "cell_type": "markdown",
   "id": "149a8b21",
   "metadata": {
    "deletable": false,
    "id": "3a6b99ec"
   },
   "source": [
    "**Вывод:** Больше всего процент просроченных платежей у людей с 1-2 ребенком. У людей без детей количество задолженности среднее по показателям. Но надо учитывать тот факт, это самая объемная категория для выдачи кредитов.\n",
    "Количество детей влияет на срок погашения кредита. По результатам исследования видно, что процент выплаты кредита в срок у людей с детьми, больше, чем у людей без детей.\n",
    "Любопытный факт, у людей с 5 детьми нет просрочек с выплатми кредитов."
   ]
  },
  {
   "cell_type": "markdown",
   "id": "95502419",
   "metadata": {
    "deletable": false,
    "editable": false,
    "id": "97be82ca"
   },
   "source": [
    "#### 3.2 Есть ли зависимость между семейным положением и возвратом кредита в срок?"
   ]
  },
  {
   "cell_type": "markdown",
   "id": "74934258",
   "metadata": {},
   "source": [
    "Получаю уникальные значения в столбце **'family_status'**"
   ]
  },
  {
   "cell_type": "code",
   "execution_count": 92,
   "id": "7375cbd7",
   "metadata": {
    "deletable": false,
    "id": "dc3f7ee8"
   },
   "outputs": [
    {
     "data": {
      "text/plain": [
       "array(['женат / замужем', 'гражданский брак', 'вдовец / вдова',\n",
       "       'в разводе', 'Не женат / не замужем'], dtype=object)"
      ]
     },
     "execution_count": 92,
     "metadata": {},
     "output_type": "execute_result"
    }
   ],
   "source": [
    "data['family_status'].unique()"
   ]
  },
  {
   "cell_type": "markdown",
   "id": "28a18e97",
   "metadata": {},
   "source": [
    "Создаю новую переменную для вывода показателей."
   ]
  },
  {
   "cell_type": "code",
   "execution_count": 93,
   "id": "0ba7a104",
   "metadata": {},
   "outputs": [
    {
     "data": {
      "text/html": [
       "<div>\n",
       "<style scoped>\n",
       "    .dataframe tbody tr th:only-of-type {\n",
       "        vertical-align: middle;\n",
       "    }\n",
       "\n",
       "    .dataframe tbody tr th {\n",
       "        vertical-align: top;\n",
       "    }\n",
       "\n",
       "    .dataframe thead tr th {\n",
       "        text-align: left;\n",
       "    }\n",
       "\n",
       "    .dataframe thead tr:last-of-type th {\n",
       "        text-align: right;\n",
       "    }\n",
       "</style>\n",
       "<table border=\"1\" class=\"dataframe\">\n",
       "  <thead>\n",
       "    <tr>\n",
       "      <th></th>\n",
       "      <th colspan=\"2\" halign=\"left\">debt</th>\n",
       "    </tr>\n",
       "    <tr>\n",
       "      <th></th>\n",
       "      <th>count</th>\n",
       "      <th>sum</th>\n",
       "    </tr>\n",
       "    <tr>\n",
       "      <th>family_status</th>\n",
       "      <th></th>\n",
       "      <th></th>\n",
       "    </tr>\n",
       "  </thead>\n",
       "  <tbody>\n",
       "    <tr>\n",
       "      <th>Не женат / не замужем</th>\n",
       "      <td>2796</td>\n",
       "      <td>273</td>\n",
       "    </tr>\n",
       "    <tr>\n",
       "      <th>в разводе</th>\n",
       "      <td>1189</td>\n",
       "      <td>84</td>\n",
       "    </tr>\n",
       "    <tr>\n",
       "      <th>вдовец / вдова</th>\n",
       "      <td>951</td>\n",
       "      <td>63</td>\n",
       "    </tr>\n",
       "    <tr>\n",
       "      <th>гражданский брак</th>\n",
       "      <td>4134</td>\n",
       "      <td>385</td>\n",
       "    </tr>\n",
       "    <tr>\n",
       "      <th>женат / замужем</th>\n",
       "      <td>12261</td>\n",
       "      <td>927</td>\n",
       "    </tr>\n",
       "  </tbody>\n",
       "</table>\n",
       "</div>"
      ],
      "text/plain": [
       "                        debt     \n",
       "                       count  sum\n",
       "family_status                    \n",
       "Не женат / не замужем   2796  273\n",
       "в разводе               1189   84\n",
       "вдовец / вдова           951   63\n",
       "гражданский брак        4134  385\n",
       "женат / замужем        12261  927"
      ]
     },
     "execution_count": 93,
     "metadata": {},
     "output_type": "execute_result"
    }
   ],
   "source": [
    "family_status_debt = data.groupby(['family_status']).agg({'debt': ['count','sum']}) \n",
    "family_status_debt"
   ]
  },
  {
   "cell_type": "markdown",
   "id": "675546fe",
   "metadata": {},
   "source": [
    "Вывожу процентное соотношение в отдельный столбец."
   ]
  },
  {
   "cell_type": "code",
   "execution_count": 94,
   "id": "82bb4a33",
   "metadata": {},
   "outputs": [
    {
     "data": {
      "text/html": [
       "<div>\n",
       "<style scoped>\n",
       "    .dataframe tbody tr th:only-of-type {\n",
       "        vertical-align: middle;\n",
       "    }\n",
       "\n",
       "    .dataframe tbody tr th {\n",
       "        vertical-align: top;\n",
       "    }\n",
       "\n",
       "    .dataframe thead tr th {\n",
       "        text-align: left;\n",
       "    }\n",
       "\n",
       "    .dataframe thead tr:last-of-type th {\n",
       "        text-align: right;\n",
       "    }\n",
       "</style>\n",
       "<table border=\"1\" class=\"dataframe\">\n",
       "  <thead>\n",
       "    <tr>\n",
       "      <th></th>\n",
       "      <th colspan=\"3\" halign=\"left\">debt</th>\n",
       "    </tr>\n",
       "    <tr>\n",
       "      <th></th>\n",
       "      <th>count</th>\n",
       "      <th>sum</th>\n",
       "      <th>%</th>\n",
       "    </tr>\n",
       "    <tr>\n",
       "      <th>family_status</th>\n",
       "      <th></th>\n",
       "      <th></th>\n",
       "      <th></th>\n",
       "    </tr>\n",
       "  </thead>\n",
       "  <tbody>\n",
       "    <tr>\n",
       "      <th>Не женат / не замужем</th>\n",
       "      <td>2796</td>\n",
       "      <td>273</td>\n",
       "      <td>9.763948</td>\n",
       "    </tr>\n",
       "    <tr>\n",
       "      <th>в разводе</th>\n",
       "      <td>1189</td>\n",
       "      <td>84</td>\n",
       "      <td>7.064760</td>\n",
       "    </tr>\n",
       "    <tr>\n",
       "      <th>вдовец / вдова</th>\n",
       "      <td>951</td>\n",
       "      <td>63</td>\n",
       "      <td>6.624606</td>\n",
       "    </tr>\n",
       "    <tr>\n",
       "      <th>гражданский брак</th>\n",
       "      <td>4134</td>\n",
       "      <td>385</td>\n",
       "      <td>9.313014</td>\n",
       "    </tr>\n",
       "    <tr>\n",
       "      <th>женат / замужем</th>\n",
       "      <td>12261</td>\n",
       "      <td>927</td>\n",
       "      <td>7.560558</td>\n",
       "    </tr>\n",
       "  </tbody>\n",
       "</table>\n",
       "</div>"
      ],
      "text/plain": [
       "                        debt               \n",
       "                       count  sum         %\n",
       "family_status                              \n",
       "Не женат / не замужем   2796  273  9.763948\n",
       "в разводе               1189   84  7.064760\n",
       "вдовец / вдова           951   63  6.624606\n",
       "гражданский брак        4134  385  9.313014\n",
       "женат / замужем        12261  927  7.560558"
      ]
     },
     "execution_count": 94,
     "metadata": {},
     "output_type": "execute_result"
    }
   ],
   "source": [
    "family_status_debt['debt','%'] = family_status_debt[('debt','sum')] / family_status_debt[('debt','count')]*100\n",
    "family_status_debt"
   ]
  },
  {
   "cell_type": "markdown",
   "id": "5ab8e87d",
   "metadata": {
    "deletable": false,
    "id": "1cef7837"
   },
   "source": [
    "**Вывод:** Процент задолженности по возвратуу кредита в срок у людей состоящих **в браке** и состоящих **в разводе**, приблизительно равно и является средним по общим показателям задолженности среди всех категорий. Надо учитывать, что подавляющая часть выдаваемых кредитов приходится на людей, которые состоят **в браке**.\n",
    "Наиболее рискованные категории по погашению кредита являются **холостые** или состоящие в **гражданском браке**.\n",
    "Менее всего невыплат по крдитам у **вдовцов/вдов**. "
   ]
  },
  {
   "cell_type": "markdown",
   "id": "3db1d064",
   "metadata": {
    "deletable": false,
    "editable": false,
    "id": "1e8b2fca"
   },
   "source": [
    "#### 3.3 Есть ли зависимость между уровнем дохода и возвратом кредита в срок?"
   ]
  },
  {
   "cell_type": "markdown",
   "id": "3cb64f1b",
   "metadata": {},
   "source": [
    "Создаю новую переменную для вывода показателей  по категориям дохода **'total_income_category'**"
   ]
  },
  {
   "cell_type": "code",
   "execution_count": 95,
   "id": "4a644fe0",
   "metadata": {
    "deletable": false,
    "id": "cd7e3720"
   },
   "outputs": [
    {
     "data": {
      "text/html": [
       "<div>\n",
       "<style scoped>\n",
       "    .dataframe tbody tr th:only-of-type {\n",
       "        vertical-align: middle;\n",
       "    }\n",
       "\n",
       "    .dataframe tbody tr th {\n",
       "        vertical-align: top;\n",
       "    }\n",
       "\n",
       "    .dataframe thead tr th {\n",
       "        text-align: left;\n",
       "    }\n",
       "\n",
       "    .dataframe thead tr:last-of-type th {\n",
       "        text-align: right;\n",
       "    }\n",
       "</style>\n",
       "<table border=\"1\" class=\"dataframe\">\n",
       "  <thead>\n",
       "    <tr>\n",
       "      <th></th>\n",
       "      <th colspan=\"2\" halign=\"left\">debt</th>\n",
       "    </tr>\n",
       "    <tr>\n",
       "      <th></th>\n",
       "      <th>count</th>\n",
       "      <th>sum</th>\n",
       "    </tr>\n",
       "    <tr>\n",
       "      <th>total_income_category</th>\n",
       "      <th></th>\n",
       "      <th></th>\n",
       "    </tr>\n",
       "  </thead>\n",
       "  <tbody>\n",
       "    <tr>\n",
       "      <th>A</th>\n",
       "      <td>25</td>\n",
       "      <td>2</td>\n",
       "    </tr>\n",
       "    <tr>\n",
       "      <th>B</th>\n",
       "      <td>5014</td>\n",
       "      <td>354</td>\n",
       "    </tr>\n",
       "    <tr>\n",
       "      <th>C</th>\n",
       "      <td>15921</td>\n",
       "      <td>1353</td>\n",
       "    </tr>\n",
       "    <tr>\n",
       "      <th>D</th>\n",
       "      <td>349</td>\n",
       "      <td>21</td>\n",
       "    </tr>\n",
       "    <tr>\n",
       "      <th>E</th>\n",
       "      <td>22</td>\n",
       "      <td>2</td>\n",
       "    </tr>\n",
       "  </tbody>\n",
       "</table>\n",
       "</div>"
      ],
      "text/plain": [
       "                        debt      \n",
       "                       count   sum\n",
       "total_income_category             \n",
       "A                         25     2\n",
       "B                       5014   354\n",
       "C                      15921  1353\n",
       "D                        349    21\n",
       "E                         22     2"
      ]
     },
     "execution_count": 95,
     "metadata": {},
     "output_type": "execute_result"
    }
   ],
   "source": [
    "total_income_debt = data.groupby(['total_income_category']).agg({'debt':['count','sum']})\n",
    "total_income_debt"
   ]
  },
  {
   "cell_type": "markdown",
   "id": "f7c8afe6",
   "metadata": {},
   "source": [
    "Вывожу процентное соотношение в отдельный столбец."
   ]
  },
  {
   "cell_type": "code",
   "execution_count": 96,
   "id": "953697e6",
   "metadata": {},
   "outputs": [
    {
     "data": {
      "text/html": [
       "<div>\n",
       "<style scoped>\n",
       "    .dataframe tbody tr th:only-of-type {\n",
       "        vertical-align: middle;\n",
       "    }\n",
       "\n",
       "    .dataframe tbody tr th {\n",
       "        vertical-align: top;\n",
       "    }\n",
       "\n",
       "    .dataframe thead tr th {\n",
       "        text-align: left;\n",
       "    }\n",
       "\n",
       "    .dataframe thead tr:last-of-type th {\n",
       "        text-align: right;\n",
       "    }\n",
       "</style>\n",
       "<table border=\"1\" class=\"dataframe\">\n",
       "  <thead>\n",
       "    <tr>\n",
       "      <th></th>\n",
       "      <th colspan=\"3\" halign=\"left\">debt</th>\n",
       "    </tr>\n",
       "    <tr>\n",
       "      <th></th>\n",
       "      <th>count</th>\n",
       "      <th>sum</th>\n",
       "      <th>%</th>\n",
       "    </tr>\n",
       "    <tr>\n",
       "      <th>total_income_category</th>\n",
       "      <th></th>\n",
       "      <th></th>\n",
       "      <th></th>\n",
       "    </tr>\n",
       "  </thead>\n",
       "  <tbody>\n",
       "    <tr>\n",
       "      <th>A</th>\n",
       "      <td>25</td>\n",
       "      <td>2</td>\n",
       "      <td>8.000000</td>\n",
       "    </tr>\n",
       "    <tr>\n",
       "      <th>B</th>\n",
       "      <td>5014</td>\n",
       "      <td>354</td>\n",
       "      <td>7.060231</td>\n",
       "    </tr>\n",
       "    <tr>\n",
       "      <th>C</th>\n",
       "      <td>15921</td>\n",
       "      <td>1353</td>\n",
       "      <td>8.498210</td>\n",
       "    </tr>\n",
       "    <tr>\n",
       "      <th>D</th>\n",
       "      <td>349</td>\n",
       "      <td>21</td>\n",
       "      <td>6.017192</td>\n",
       "    </tr>\n",
       "    <tr>\n",
       "      <th>E</th>\n",
       "      <td>22</td>\n",
       "      <td>2</td>\n",
       "      <td>9.090909</td>\n",
       "    </tr>\n",
       "  </tbody>\n",
       "</table>\n",
       "</div>"
      ],
      "text/plain": [
       "                        debt                \n",
       "                       count   sum         %\n",
       "total_income_category                       \n",
       "A                         25     2  8.000000\n",
       "B                       5014   354  7.060231\n",
       "C                      15921  1353  8.498210\n",
       "D                        349    21  6.017192\n",
       "E                         22     2  9.090909"
      ]
     },
     "execution_count": 96,
     "metadata": {},
     "output_type": "execute_result"
    }
   ],
   "source": [
    "total_income_debt['debt','%'] = total_income_debt[('debt','sum')]/total_income_debt[('debt','count')]*100\n",
    "total_income_debt"
   ]
  },
  {
   "cell_type": "markdown",
   "id": "50ffd00e",
   "metadata": {},
   "source": [
    "Таблица по категоризации уровня дохода:\n",
    "* 0–30000 — **'E'**;\n",
    "* 30001–50000 — **'D'**;\n",
    "* 50001–200000 — **'C'**;\n",
    "* 200001–1000000 — **'B'**;\n",
    "* 1000001 и выше — **'A'**."
   ]
  },
  {
   "cell_type": "markdown",
   "id": "80085b68",
   "metadata": {
    "deletable": false,
    "id": "e8593def"
   },
   "source": [
    "**Вывод:** Больше всего просрочек у категорий **А** и **Е**, учитывая что количество выдаваемых кредитов минимальное. Больше всего кредитов берут люди, уровень дохода в категории **С**, т.е. от 500001 до 200000. Но и процент задолженности по кредитам в этой категории близок к максимальному. Эта категория является основной для выдачи кредита. \n",
    "Также большой  процент задолженности в категории **В**. \n",
    "Меньше всего процент задолженности в категории **D**."
   ]
  },
  {
   "cell_type": "markdown",
   "id": "f5e08d10",
   "metadata": {
    "deletable": false,
    "editable": false,
    "id": "99ecbd1f"
   },
   "source": [
    "#### 3.4 Как разные цели кредита влияют на его возврат в срок?"
   ]
  },
  {
   "cell_type": "markdown",
   "id": "1915aefa",
   "metadata": {},
   "source": [
    "Выведу уникальные значения из столбца **'purpose_category'**"
   ]
  },
  {
   "cell_type": "code",
   "execution_count": 97,
   "id": "b8444e9f",
   "metadata": {},
   "outputs": [
    {
     "data": {
      "text/plain": [
       "array(['операции с недвижимостью', 'операции с автомобилем',\n",
       "       'получение образования', 'проведение свадьбы'], dtype=object)"
      ]
     },
     "execution_count": 97,
     "metadata": {},
     "output_type": "execute_result"
    }
   ],
   "source": [
    "data['purpose_category'].unique()"
   ]
  },
  {
   "cell_type": "markdown",
   "id": "b44bb9ce",
   "metadata": {},
   "source": [
    "Создаю новую переменную для вывода показателей целей получения кредита."
   ]
  },
  {
   "cell_type": "code",
   "execution_count": 98,
   "id": "dce83be7",
   "metadata": {
    "deletable": false,
    "id": "2b687290"
   },
   "outputs": [
    {
     "data": {
      "text/html": [
       "<div>\n",
       "<style scoped>\n",
       "    .dataframe tbody tr th:only-of-type {\n",
       "        vertical-align: middle;\n",
       "    }\n",
       "\n",
       "    .dataframe tbody tr th {\n",
       "        vertical-align: top;\n",
       "    }\n",
       "\n",
       "    .dataframe thead tr th {\n",
       "        text-align: left;\n",
       "    }\n",
       "\n",
       "    .dataframe thead tr:last-of-type th {\n",
       "        text-align: right;\n",
       "    }\n",
       "</style>\n",
       "<table border=\"1\" class=\"dataframe\">\n",
       "  <thead>\n",
       "    <tr>\n",
       "      <th></th>\n",
       "      <th colspan=\"2\" halign=\"left\">debt</th>\n",
       "    </tr>\n",
       "    <tr>\n",
       "      <th></th>\n",
       "      <th>count</th>\n",
       "      <th>sum</th>\n",
       "    </tr>\n",
       "    <tr>\n",
       "      <th>purpose_category</th>\n",
       "      <th></th>\n",
       "      <th></th>\n",
       "    </tr>\n",
       "  </thead>\n",
       "  <tbody>\n",
       "    <tr>\n",
       "      <th>операции с автомобилем</th>\n",
       "      <td>4279</td>\n",
       "      <td>400</td>\n",
       "    </tr>\n",
       "    <tr>\n",
       "      <th>операции с недвижимостью</th>\n",
       "      <td>10751</td>\n",
       "      <td>780</td>\n",
       "    </tr>\n",
       "    <tr>\n",
       "      <th>получение образования</th>\n",
       "      <td>3988</td>\n",
       "      <td>369</td>\n",
       "    </tr>\n",
       "    <tr>\n",
       "      <th>проведение свадьбы</th>\n",
       "      <td>2313</td>\n",
       "      <td>183</td>\n",
       "    </tr>\n",
       "  </tbody>\n",
       "</table>\n",
       "</div>"
      ],
      "text/plain": [
       "                           debt     \n",
       "                          count  sum\n",
       "purpose_category                    \n",
       "операции с автомобилем     4279  400\n",
       "операции с недвижимостью  10751  780\n",
       "получение образования      3988  369\n",
       "проведение свадьбы         2313  183"
      ]
     },
     "execution_count": 98,
     "metadata": {},
     "output_type": "execute_result"
    }
   ],
   "source": [
    "purpose_category_debt = data.groupby(['purpose_category']).agg({'debt':['count','sum']})# Ваш код будет здесь. Вы можете создавать новые ячейки.\n",
    "purpose_category_debt"
   ]
  },
  {
   "cell_type": "markdown",
   "id": "6f65134c",
   "metadata": {},
   "source": [
    "Вывожу процентное соотношение в отдельный столбец."
   ]
  },
  {
   "cell_type": "code",
   "execution_count": 99,
   "id": "8231e672",
   "metadata": {},
   "outputs": [
    {
     "data": {
      "text/html": [
       "<div>\n",
       "<style scoped>\n",
       "    .dataframe tbody tr th:only-of-type {\n",
       "        vertical-align: middle;\n",
       "    }\n",
       "\n",
       "    .dataframe tbody tr th {\n",
       "        vertical-align: top;\n",
       "    }\n",
       "\n",
       "    .dataframe thead tr th {\n",
       "        text-align: left;\n",
       "    }\n",
       "\n",
       "    .dataframe thead tr:last-of-type th {\n",
       "        text-align: right;\n",
       "    }\n",
       "</style>\n",
       "<table border=\"1\" class=\"dataframe\">\n",
       "  <thead>\n",
       "    <tr>\n",
       "      <th></th>\n",
       "      <th colspan=\"3\" halign=\"left\">debt</th>\n",
       "    </tr>\n",
       "    <tr>\n",
       "      <th></th>\n",
       "      <th>count</th>\n",
       "      <th>sum</th>\n",
       "      <th>%</th>\n",
       "    </tr>\n",
       "    <tr>\n",
       "      <th>purpose_category</th>\n",
       "      <th></th>\n",
       "      <th></th>\n",
       "      <th></th>\n",
       "    </tr>\n",
       "  </thead>\n",
       "  <tbody>\n",
       "    <tr>\n",
       "      <th>операции с автомобилем</th>\n",
       "      <td>4279</td>\n",
       "      <td>400</td>\n",
       "      <td>9.35</td>\n",
       "    </tr>\n",
       "    <tr>\n",
       "      <th>операции с недвижимостью</th>\n",
       "      <td>10751</td>\n",
       "      <td>780</td>\n",
       "      <td>7.26</td>\n",
       "    </tr>\n",
       "    <tr>\n",
       "      <th>получение образования</th>\n",
       "      <td>3988</td>\n",
       "      <td>369</td>\n",
       "      <td>9.25</td>\n",
       "    </tr>\n",
       "    <tr>\n",
       "      <th>проведение свадьбы</th>\n",
       "      <td>2313</td>\n",
       "      <td>183</td>\n",
       "      <td>7.91</td>\n",
       "    </tr>\n",
       "  </tbody>\n",
       "</table>\n",
       "</div>"
      ],
      "text/plain": [
       "                           debt           \n",
       "                          count  sum     %\n",
       "purpose_category                          \n",
       "операции с автомобилем     4279  400  9.35\n",
       "операции с недвижимостью  10751  780  7.26\n",
       "получение образования      3988  369  9.25\n",
       "проведение свадьбы         2313  183  7.91"
      ]
     },
     "execution_count": 99,
     "metadata": {},
     "output_type": "execute_result"
    }
   ],
   "source": [
    "purpose_category_debt['debt','%'] = round(purpose_category_debt[('debt', 'sum')]\\\n",
    "    /purpose_category_debt[('debt', 'count')]*100, 2)\n",
    "purpose_category_debt"
   ]
  },
  {
   "cell_type": "markdown",
   "id": "f9d49e68",
   "metadata": {
    "deletable": false,
    "id": "b4bb2ce6"
   },
   "source": [
    "**Вывод:** Подавляющее большинсвто кредитов приходится на категорию **операция с недвижимостью**. Процент задолженности практически такой же, как и в категории **проведение свадьбы**. \n",
    "Больше задолженности в категориях **операции с автомобилем** и **получение образования**. "
   ]
  },
  {
   "cell_type": "markdown",
   "id": "029a88d1",
   "metadata": {
    "deletable": false,
    "editable": false,
    "id": "09c3ac4c"
   },
   "source": [
    "#### 3.5 Приведите возможные причины появления пропусков в исходных данных."
   ]
  },
  {
   "cell_type": "markdown",
   "id": "35f98c3a",
   "metadata": {
    "deletable": false,
    "id": "9da2ceda"
   },
   "source": [
    "*Ответ:* Клиентом является Банк. Если учитывать, что форма заявления на получение кредита, является достоаточно объемной, то, в данном случае, предполагаю, что наличие пропусков в данных произошло из-за человеческого фактора, со стороны содрудников Банка."
   ]
  },
  {
   "cell_type": "markdown",
   "id": "e1a48efc",
   "metadata": {
    "deletable": false,
    "editable": false,
    "id": "7b0487d6"
   },
   "source": [
    "#### 3.6 Объясните, почему заполнить пропуски медианным значением — лучшее решение для количественных переменных."
   ]
  },
  {
   "cell_type": "markdown",
   "id": "ae8a63be",
   "metadata": {
    "deletable": false,
    "id": "7ecf2b8e"
   },
   "source": [
    "*Ответ:* В отличии от среднего значения, медианное значение лучше для решения количественных переменных, т.к. оно показывает такое число в **выборке**, что ровно половина элементов больше него, а другая половина — меньше.\n"
   ]
  },
  {
   "cell_type": "markdown",
   "id": "f866c079",
   "metadata": {
    "deletable": false,
    "editable": false,
    "id": "6db5255a"
   },
   "source": [
    "### Шаг 4: общий вывод."
   ]
  },
  {
   "cell_type": "markdown",
   "id": "8aeffe33",
   "metadata": {
    "deletable": false,
    "id": "bad65432"
   },
   "source": [
    "1. Были обработаны пропуски в колонке 'total_income'(ежемесячный доход) и 'days_employed(общий трудовой стаж в днях).\n",
    "    \n",
    "    1.1. Для каждого типа занятости в пустых ячейках 'days_employed' и 'total_income' заполнил медианными значениями.\n",
    "    \n",
    "    \n",
    "  2. Обработана колонка 'children'(количество детей в семье).\n",
    "    \n",
    "    2.1. Удалены \"аномальные значения\" в строках, т.е. отрицательный и нулевой возраст.\n",
    "    \n",
    "    \n",
    "  3. Изменен тип данных в колонке 'total_income' с вещественного значения на целочисленное.\n",
    "    \n",
    "    \n",
    "  4. В таблице создал столбец 'total_income_category' со следующей разбивкой по категориям: \n",
    "    \n",
    "    - 0–30000 — `'E'`;\n",
    "    - 30001–50000 — `'D'`;\n",
    "    - 50001–200000 — `'C'`;\n",
    "    - 200001–1000000 — `'B'`;\n",
    "    - 1000001 и выше — `'A'`.\n",
    "    \n",
    "  5. Создал новый столбец 'purpose_category', предварительно написав функцию на основании данных из столбца 'purpose' в который войдут следующие категории: \n",
    "    \n",
    "    - `'операции с автомобилем'`;\n",
    "    - `'операции с недвижимостью'`;\n",
    "    - `'проведение свадьбы'`;\n",
    "    - `'получение образования'`.\n",
    "    \n",
    "    5.1. Соответственно упорядочил, с помощью ввода необходимых подстрок, данные из столбца 'purpose'.  \n",
    "    \n",
    "    \n",
    "  6. На основании обработанных данных был проведен анализ и оставленны комментарии следующих табличных показателей:\n",
    "    \n",
    "     - переменная `'children_depend_debt'` - показатель зависимости от количества детей и возврата кредита в срок;\n",
    "     - переменная `'family_status_debt'` - показатель зависимости между семейным положением и возврата кредита в срок;\n",
    "     - переменная `'total_income_debt'` - показатель зависимости между уровнем дохода и возврата кредита в срок;\n",
    "     - переменная `'purpose_category_debt'` - показатель зависимости от целей получения кредита на возврат кредита в срок."
   ]
  }
 ],
 "metadata": {
  "ExecuteTimeLog": [
   {
    "duration": 432,
    "start_time": "2022-11-20T16:09:51.192Z"
   },
   {
    "duration": 27,
    "start_time": "2022-11-20T16:09:51.626Z"
   },
   {
    "duration": 19,
    "start_time": "2022-11-20T16:09:51.655Z"
   },
   {
    "duration": 10,
    "start_time": "2022-11-20T16:09:51.677Z"
   },
   {
    "duration": 70,
    "start_time": "2022-11-20T16:09:51.690Z"
   },
   {
    "duration": 4,
    "start_time": "2022-11-20T16:09:51.762Z"
   },
   {
    "duration": 19,
    "start_time": "2022-11-20T16:09:51.768Z"
   },
   {
    "duration": 7,
    "start_time": "2022-11-20T16:09:51.788Z"
   },
   {
    "duration": 11,
    "start_time": "2022-11-20T16:09:51.796Z"
   },
   {
    "duration": 5,
    "start_time": "2022-11-20T16:09:51.809Z"
   },
   {
    "duration": 68,
    "start_time": "2022-11-20T16:09:51.815Z"
   },
   {
    "duration": 13,
    "start_time": "2022-11-20T16:09:51.885Z"
   },
   {
    "duration": 5,
    "start_time": "2022-11-20T16:09:51.899Z"
   },
   {
    "duration": 13,
    "start_time": "2022-11-20T16:09:51.906Z"
   },
   {
    "duration": 36,
    "start_time": "2022-11-20T16:09:51.921Z"
   },
   {
    "duration": 16,
    "start_time": "2022-11-20T16:09:51.959Z"
   },
   {
    "duration": 3,
    "start_time": "2022-11-20T16:09:51.977Z"
   },
   {
    "duration": 15,
    "start_time": "2022-11-20T16:09:51.982Z"
   },
   {
    "duration": 6,
    "start_time": "2022-11-20T16:09:51.998Z"
   },
   {
    "duration": 4,
    "start_time": "2022-11-20T16:09:52.038Z"
   },
   {
    "duration": 16,
    "start_time": "2022-11-20T16:09:52.043Z"
   },
   {
    "duration": 4,
    "start_time": "2022-11-20T16:09:52.061Z"
   },
   {
    "duration": 5,
    "start_time": "2022-11-20T16:09:52.067Z"
   },
   {
    "duration": 5,
    "start_time": "2022-11-20T16:09:52.074Z"
   },
   {
    "duration": 14,
    "start_time": "2022-11-20T16:09:52.080Z"
   },
   {
    "duration": 13,
    "start_time": "2022-11-20T16:14:49.191Z"
   },
   {
    "duration": 3,
    "start_time": "2022-11-20T16:15:24.162Z"
   },
   {
    "duration": 7,
    "start_time": "2022-11-20T16:31:54.655Z"
   },
   {
    "duration": 60,
    "start_time": "2022-11-20T18:36:41.475Z"
   },
   {
    "duration": 20,
    "start_time": "2022-11-20T18:37:11.049Z"
   },
   {
    "duration": 7,
    "start_time": "2022-11-20T18:38:16.087Z"
   },
   {
    "duration": 8,
    "start_time": "2022-11-20T18:38:29.120Z"
   },
   {
    "duration": 15,
    "start_time": "2022-11-20T18:41:22.025Z"
   },
   {
    "duration": 449,
    "start_time": "2022-11-20T18:44:31.259Z"
   },
   {
    "duration": 23,
    "start_time": "2022-11-20T18:44:31.709Z"
   },
   {
    "duration": 21,
    "start_time": "2022-11-20T18:44:31.733Z"
   },
   {
    "duration": 11,
    "start_time": "2022-11-20T18:44:31.758Z"
   },
   {
    "duration": 39,
    "start_time": "2022-11-20T18:44:31.771Z"
   },
   {
    "duration": 4,
    "start_time": "2022-11-20T18:44:31.812Z"
   },
   {
    "duration": 21,
    "start_time": "2022-11-20T18:44:31.817Z"
   },
   {
    "duration": 8,
    "start_time": "2022-11-20T18:44:31.842Z"
   },
   {
    "duration": 13,
    "start_time": "2022-11-20T18:44:31.851Z"
   },
   {
    "duration": 5,
    "start_time": "2022-11-20T18:44:31.867Z"
   },
   {
    "duration": 35,
    "start_time": "2022-11-20T18:44:31.873Z"
   },
   {
    "duration": 32,
    "start_time": "2022-11-20T18:44:31.909Z"
   },
   {
    "duration": 4,
    "start_time": "2022-11-20T18:44:31.943Z"
   },
   {
    "duration": 17,
    "start_time": "2022-11-20T18:44:31.948Z"
   },
   {
    "duration": 30,
    "start_time": "2022-11-20T18:44:31.967Z"
   },
   {
    "duration": 17,
    "start_time": "2022-11-20T18:44:31.999Z"
   },
   {
    "duration": 3,
    "start_time": "2022-11-20T18:44:32.017Z"
   },
   {
    "duration": 18,
    "start_time": "2022-11-20T18:44:32.022Z"
   },
   {
    "duration": 6,
    "start_time": "2022-11-20T18:44:32.050Z"
   },
   {
    "duration": 3,
    "start_time": "2022-11-20T18:44:32.058Z"
   },
   {
    "duration": 11,
    "start_time": "2022-11-20T18:44:32.062Z"
   },
   {
    "duration": 7,
    "start_time": "2022-11-20T18:44:32.074Z"
   },
   {
    "duration": 6,
    "start_time": "2022-11-20T18:44:32.082Z"
   },
   {
    "duration": 5,
    "start_time": "2022-11-20T18:44:32.089Z"
   },
   {
    "duration": 6,
    "start_time": "2022-11-20T18:44:32.095Z"
   },
   {
    "duration": 81,
    "start_time": "2022-11-20T18:47:01.700Z"
   },
   {
    "duration": 8,
    "start_time": "2022-11-20T18:47:12.415Z"
   },
   {
    "duration": 11,
    "start_time": "2022-11-20T18:47:32.501Z"
   },
   {
    "duration": 15,
    "start_time": "2022-11-20T18:48:07.761Z"
   },
   {
    "duration": 91,
    "start_time": "2022-11-20T18:48:29.096Z"
   },
   {
    "duration": 90,
    "start_time": "2022-11-20T18:48:36.031Z"
   },
   {
    "duration": 101,
    "start_time": "2022-11-20T18:49:16.814Z"
   },
   {
    "duration": 108,
    "start_time": "2022-11-20T18:49:26.783Z"
   },
   {
    "duration": 9,
    "start_time": "2022-11-20T18:49:57.785Z"
   },
   {
    "duration": 8,
    "start_time": "2022-11-20T18:50:05.381Z"
   },
   {
    "duration": 8,
    "start_time": "2022-11-20T18:50:09.980Z"
   },
   {
    "duration": 17,
    "start_time": "2022-11-20T18:50:28.227Z"
   },
   {
    "duration": 14,
    "start_time": "2022-11-20T18:53:06.137Z"
   },
   {
    "duration": 12,
    "start_time": "2022-11-20T18:53:15.280Z"
   },
   {
    "duration": 19,
    "start_time": "2022-11-20T18:53:53.342Z"
   },
   {
    "duration": 15,
    "start_time": "2022-11-20T18:54:44.660Z"
   },
   {
    "duration": 23,
    "start_time": "2022-11-20T18:54:49.853Z"
   },
   {
    "duration": 395,
    "start_time": "2022-11-20T19:08:26.693Z"
   },
   {
    "duration": 407,
    "start_time": "2022-11-20T19:08:32.110Z"
   },
   {
    "duration": 10,
    "start_time": "2022-11-20T19:08:56.632Z"
   },
   {
    "duration": 10,
    "start_time": "2022-11-20T19:09:01.604Z"
   },
   {
    "duration": 11,
    "start_time": "2022-11-20T19:10:09.853Z"
   },
   {
    "duration": 9,
    "start_time": "2022-11-20T19:10:31.685Z"
   },
   {
    "duration": 14,
    "start_time": "2022-11-20T19:10:42.700Z"
   },
   {
    "duration": 6,
    "start_time": "2022-11-20T19:12:36.296Z"
   },
   {
    "duration": 15,
    "start_time": "2022-11-20T19:12:50.715Z"
   },
   {
    "duration": 73,
    "start_time": "2022-11-20T19:13:53.226Z"
   },
   {
    "duration": 86,
    "start_time": "2022-11-20T19:14:00.766Z"
   },
   {
    "duration": 20,
    "start_time": "2022-11-20T19:14:13.352Z"
   },
   {
    "duration": 15,
    "start_time": "2022-11-20T19:14:22.228Z"
   },
   {
    "duration": 6,
    "start_time": "2022-11-20T19:25:33.896Z"
   },
   {
    "duration": 927,
    "start_time": "2022-11-20T19:26:07.684Z"
   },
   {
    "duration": 4,
    "start_time": "2022-11-20T19:37:49.427Z"
   },
   {
    "duration": 23,
    "start_time": "2022-11-20T19:38:00.856Z"
   },
   {
    "duration": 20,
    "start_time": "2022-11-20T19:38:26.125Z"
   },
   {
    "duration": 87,
    "start_time": "2022-11-20T19:38:49.278Z"
   },
   {
    "duration": 15,
    "start_time": "2022-11-20T19:39:04.985Z"
   },
   {
    "duration": 24,
    "start_time": "2022-11-20T19:39:23.532Z"
   },
   {
    "duration": 20,
    "start_time": "2022-11-20T19:39:28.462Z"
   },
   {
    "duration": 90,
    "start_time": "2022-11-20T19:39:46.218Z"
   },
   {
    "duration": 87,
    "start_time": "2022-11-20T19:43:30.674Z"
   },
   {
    "duration": 75,
    "start_time": "2022-11-20T19:43:44.671Z"
   },
   {
    "duration": 100,
    "start_time": "2022-11-20T19:44:31.924Z"
   },
   {
    "duration": 71,
    "start_time": "2022-11-20T19:44:43.261Z"
   },
   {
    "duration": 83,
    "start_time": "2022-11-20T19:45:03.293Z"
   },
   {
    "duration": 27,
    "start_time": "2022-11-20T19:45:09.217Z"
   },
   {
    "duration": 68,
    "start_time": "2022-11-20T19:54:10.566Z"
   },
   {
    "duration": 83,
    "start_time": "2022-11-20T19:54:25.395Z"
   },
   {
    "duration": 36,
    "start_time": "2022-11-20T19:54:49.230Z"
   },
   {
    "duration": 102,
    "start_time": "2022-11-20T19:55:03.146Z"
   },
   {
    "duration": 101,
    "start_time": "2022-11-20T19:56:35.375Z"
   },
   {
    "duration": 4,
    "start_time": "2022-11-20T19:56:39.133Z"
   },
   {
    "duration": 15,
    "start_time": "2022-11-20T19:57:33.570Z"
   },
   {
    "duration": 18,
    "start_time": "2022-11-20T19:58:07.826Z"
   },
   {
    "duration": 14,
    "start_time": "2022-11-20T19:58:13.409Z"
   },
   {
    "duration": 480,
    "start_time": "2022-11-20T19:58:30.188Z"
   },
   {
    "duration": 23,
    "start_time": "2022-11-20T19:58:30.671Z"
   },
   {
    "duration": 31,
    "start_time": "2022-11-20T19:58:30.696Z"
   },
   {
    "duration": 48,
    "start_time": "2022-11-20T19:58:30.729Z"
   },
   {
    "duration": 57,
    "start_time": "2022-11-20T19:58:30.779Z"
   },
   {
    "duration": 8,
    "start_time": "2022-11-20T19:58:30.841Z"
   },
   {
    "duration": 53,
    "start_time": "2022-11-20T19:58:30.851Z"
   },
   {
    "duration": 9,
    "start_time": "2022-11-20T19:58:30.906Z"
   },
   {
    "duration": 10,
    "start_time": "2022-11-20T19:58:30.916Z"
   },
   {
    "duration": 23,
    "start_time": "2022-11-20T19:58:30.928Z"
   },
   {
    "duration": 59,
    "start_time": "2022-11-20T19:58:30.953Z"
   },
   {
    "duration": 10,
    "start_time": "2022-11-20T19:58:31.014Z"
   },
   {
    "duration": 4,
    "start_time": "2022-11-20T19:58:31.026Z"
   },
   {
    "duration": 28,
    "start_time": "2022-11-20T19:58:31.032Z"
   },
   {
    "duration": 24,
    "start_time": "2022-11-20T19:58:31.065Z"
   },
   {
    "duration": 16,
    "start_time": "2022-11-20T19:58:31.091Z"
   },
   {
    "duration": 3,
    "start_time": "2022-11-20T19:58:31.109Z"
   },
   {
    "duration": 12,
    "start_time": "2022-11-20T19:58:31.114Z"
   },
   {
    "duration": 24,
    "start_time": "2022-11-20T19:58:31.128Z"
   },
   {
    "duration": 21,
    "start_time": "2022-11-20T19:58:31.154Z"
   },
   {
    "duration": 17,
    "start_time": "2022-11-20T19:58:31.176Z"
   },
   {
    "duration": 4,
    "start_time": "2022-11-20T19:58:31.195Z"
   },
   {
    "duration": 14,
    "start_time": "2022-11-20T19:58:31.201Z"
   },
   {
    "duration": 10,
    "start_time": "2022-11-20T19:58:31.217Z"
   },
   {
    "duration": 2,
    "start_time": "2022-11-20T19:58:31.229Z"
   },
   {
    "duration": 27,
    "start_time": "2022-11-20T19:58:31.233Z"
   },
   {
    "duration": 11,
    "start_time": "2022-11-20T19:58:31.262Z"
   },
   {
    "duration": 90,
    "start_time": "2022-11-20T20:09:21.377Z"
   },
   {
    "duration": 90,
    "start_time": "2022-11-20T20:11:42.851Z"
   },
   {
    "duration": 90,
    "start_time": "2022-11-20T20:12:19.032Z"
   },
   {
    "duration": 75,
    "start_time": "2022-11-20T20:13:09.816Z"
   },
   {
    "duration": 82,
    "start_time": "2022-11-20T20:13:56.979Z"
   },
   {
    "duration": 79,
    "start_time": "2022-11-20T20:14:08.170Z"
   },
   {
    "duration": 517,
    "start_time": "2022-11-20T20:14:17.728Z"
   },
   {
    "duration": 28,
    "start_time": "2022-11-20T20:14:18.247Z"
   },
   {
    "duration": 14,
    "start_time": "2022-11-20T20:14:18.276Z"
   },
   {
    "duration": 8,
    "start_time": "2022-11-20T20:14:18.292Z"
   },
   {
    "duration": 72,
    "start_time": "2022-11-20T20:14:18.301Z"
   },
   {
    "duration": 3,
    "start_time": "2022-11-20T20:14:18.375Z"
   },
   {
    "duration": 14,
    "start_time": "2022-11-20T20:14:18.380Z"
   },
   {
    "duration": 7,
    "start_time": "2022-11-20T20:14:18.395Z"
   },
   {
    "duration": 9,
    "start_time": "2022-11-20T20:14:18.404Z"
   },
   {
    "duration": 5,
    "start_time": "2022-11-20T20:14:18.417Z"
   },
   {
    "duration": 52,
    "start_time": "2022-11-20T20:14:18.424Z"
   },
   {
    "duration": 11,
    "start_time": "2022-11-20T20:14:18.478Z"
   },
   {
    "duration": 4,
    "start_time": "2022-11-20T20:14:18.490Z"
   },
   {
    "duration": 14,
    "start_time": "2022-11-20T20:14:18.495Z"
   },
   {
    "duration": 52,
    "start_time": "2022-11-20T20:14:18.510Z"
   },
   {
    "duration": 20,
    "start_time": "2022-11-20T20:14:18.569Z"
   },
   {
    "duration": 4,
    "start_time": "2022-11-20T20:14:18.591Z"
   },
   {
    "duration": 14,
    "start_time": "2022-11-20T20:14:18.597Z"
   },
   {
    "duration": 9,
    "start_time": "2022-11-20T20:14:18.613Z"
   },
   {
    "duration": 28,
    "start_time": "2022-11-20T20:14:18.639Z"
   },
   {
    "duration": 13,
    "start_time": "2022-11-20T20:14:18.668Z"
   },
   {
    "duration": 8,
    "start_time": "2022-11-20T20:14:18.683Z"
   },
   {
    "duration": 11,
    "start_time": "2022-11-20T20:14:18.693Z"
   },
   {
    "duration": 85,
    "start_time": "2022-11-20T20:14:18.706Z"
   },
   {
    "duration": 0,
    "start_time": "2022-11-20T20:14:18.793Z"
   },
   {
    "duration": 0,
    "start_time": "2022-11-20T20:14:18.795Z"
   },
   {
    "duration": 0,
    "start_time": "2022-11-20T20:14:18.797Z"
   },
   {
    "duration": 85,
    "start_time": "2022-11-20T20:14:20.815Z"
   },
   {
    "duration": 71,
    "start_time": "2022-11-20T20:14:37.951Z"
   },
   {
    "duration": 481,
    "start_time": "2022-11-20T20:15:03.951Z"
   },
   {
    "duration": 34,
    "start_time": "2022-11-20T20:15:04.434Z"
   },
   {
    "duration": 16,
    "start_time": "2022-11-20T20:15:04.470Z"
   },
   {
    "duration": 10,
    "start_time": "2022-11-20T20:15:04.488Z"
   },
   {
    "duration": 55,
    "start_time": "2022-11-20T20:15:04.500Z"
   },
   {
    "duration": 3,
    "start_time": "2022-11-20T20:15:04.557Z"
   },
   {
    "duration": 25,
    "start_time": "2022-11-20T20:15:04.561Z"
   },
   {
    "duration": 4,
    "start_time": "2022-11-20T20:15:04.588Z"
   },
   {
    "duration": 7,
    "start_time": "2022-11-20T20:15:04.593Z"
   },
   {
    "duration": 5,
    "start_time": "2022-11-20T20:15:04.602Z"
   },
   {
    "duration": 52,
    "start_time": "2022-11-20T20:15:04.608Z"
   },
   {
    "duration": 11,
    "start_time": "2022-11-20T20:15:04.662Z"
   },
   {
    "duration": 4,
    "start_time": "2022-11-20T20:15:04.675Z"
   },
   {
    "duration": 11,
    "start_time": "2022-11-20T20:15:04.683Z"
   },
   {
    "duration": 54,
    "start_time": "2022-11-20T20:15:04.696Z"
   },
   {
    "duration": 18,
    "start_time": "2022-11-20T20:15:04.752Z"
   },
   {
    "duration": 3,
    "start_time": "2022-11-20T20:15:04.772Z"
   },
   {
    "duration": 12,
    "start_time": "2022-11-20T20:15:04.777Z"
   },
   {
    "duration": 6,
    "start_time": "2022-11-20T20:15:04.790Z"
   },
   {
    "duration": 4,
    "start_time": "2022-11-20T20:15:04.797Z"
   },
   {
    "duration": 38,
    "start_time": "2022-11-20T20:15:04.802Z"
   },
   {
    "duration": 7,
    "start_time": "2022-11-20T20:15:04.842Z"
   },
   {
    "duration": 15,
    "start_time": "2022-11-20T20:15:04.851Z"
   },
   {
    "duration": 84,
    "start_time": "2022-11-20T20:15:04.868Z"
   },
   {
    "duration": 0,
    "start_time": "2022-11-20T20:15:04.953Z"
   },
   {
    "duration": 0,
    "start_time": "2022-11-20T20:15:04.955Z"
   },
   {
    "duration": 0,
    "start_time": "2022-11-20T20:15:04.956Z"
   },
   {
    "duration": 81,
    "start_time": "2022-11-20T20:15:18.788Z"
   },
   {
    "duration": 69,
    "start_time": "2022-11-20T20:15:48.051Z"
   },
   {
    "duration": 79,
    "start_time": "2022-11-20T21:19:40.315Z"
   },
   {
    "duration": 70,
    "start_time": "2022-11-20T21:19:53.590Z"
   },
   {
    "duration": 157,
    "start_time": "2022-11-20T21:20:08.637Z"
   },
   {
    "duration": 470,
    "start_time": "2022-11-20T21:20:17.867Z"
   },
   {
    "duration": 23,
    "start_time": "2022-11-20T21:20:18.338Z"
   },
   {
    "duration": 16,
    "start_time": "2022-11-20T21:20:18.363Z"
   },
   {
    "duration": 10,
    "start_time": "2022-11-20T21:20:18.380Z"
   },
   {
    "duration": 62,
    "start_time": "2022-11-20T21:20:18.393Z"
   },
   {
    "duration": 4,
    "start_time": "2022-11-20T21:20:18.457Z"
   },
   {
    "duration": 14,
    "start_time": "2022-11-20T21:20:18.462Z"
   },
   {
    "duration": 7,
    "start_time": "2022-11-20T21:20:18.478Z"
   },
   {
    "duration": 9,
    "start_time": "2022-11-20T21:20:18.487Z"
   },
   {
    "duration": 6,
    "start_time": "2022-11-20T21:20:18.497Z"
   },
   {
    "duration": 56,
    "start_time": "2022-11-20T21:20:18.505Z"
   },
   {
    "duration": 10,
    "start_time": "2022-11-20T21:20:18.563Z"
   },
   {
    "duration": 4,
    "start_time": "2022-11-20T21:20:18.574Z"
   },
   {
    "duration": 11,
    "start_time": "2022-11-20T21:20:18.581Z"
   },
   {
    "duration": 21,
    "start_time": "2022-11-20T21:20:18.593Z"
   },
   {
    "duration": 38,
    "start_time": "2022-11-20T21:20:18.615Z"
   },
   {
    "duration": 4,
    "start_time": "2022-11-20T21:20:18.655Z"
   },
   {
    "duration": 12,
    "start_time": "2022-11-20T21:20:18.660Z"
   },
   {
    "duration": 5,
    "start_time": "2022-11-20T21:20:18.673Z"
   },
   {
    "duration": 4,
    "start_time": "2022-11-20T21:20:18.680Z"
   },
   {
    "duration": 11,
    "start_time": "2022-11-20T21:20:18.686Z"
   },
   {
    "duration": 8,
    "start_time": "2022-11-20T21:20:18.698Z"
   },
   {
    "duration": 39,
    "start_time": "2022-11-20T21:20:18.707Z"
   },
   {
    "duration": 83,
    "start_time": "2022-11-20T21:20:18.747Z"
   },
   {
    "duration": 0,
    "start_time": "2022-11-20T21:20:18.833Z"
   },
   {
    "duration": 0,
    "start_time": "2022-11-20T21:20:18.834Z"
   },
   {
    "duration": 0,
    "start_time": "2022-11-20T21:20:18.836Z"
   },
   {
    "duration": 485,
    "start_time": "2022-11-20T21:20:43.942Z"
   },
   {
    "duration": 21,
    "start_time": "2022-11-20T21:20:44.429Z"
   },
   {
    "duration": 16,
    "start_time": "2022-11-20T21:20:44.452Z"
   },
   {
    "duration": 9,
    "start_time": "2022-11-20T21:20:44.470Z"
   },
   {
    "duration": 56,
    "start_time": "2022-11-20T21:20:44.481Z"
   },
   {
    "duration": 4,
    "start_time": "2022-11-20T21:20:44.539Z"
   },
   {
    "duration": 11,
    "start_time": "2022-11-20T21:20:44.544Z"
   },
   {
    "duration": 5,
    "start_time": "2022-11-20T21:20:44.556Z"
   },
   {
    "duration": 8,
    "start_time": "2022-11-20T21:20:44.562Z"
   },
   {
    "duration": 8,
    "start_time": "2022-11-20T21:20:44.573Z"
   },
   {
    "duration": 33,
    "start_time": "2022-11-20T21:20:44.582Z"
   },
   {
    "duration": 28,
    "start_time": "2022-11-20T21:20:44.616Z"
   },
   {
    "duration": 3,
    "start_time": "2022-11-20T21:20:44.646Z"
   },
   {
    "duration": 12,
    "start_time": "2022-11-20T21:20:44.651Z"
   },
   {
    "duration": 22,
    "start_time": "2022-11-20T21:20:44.664Z"
   },
   {
    "duration": 16,
    "start_time": "2022-11-20T21:20:44.688Z"
   },
   {
    "duration": 3,
    "start_time": "2022-11-20T21:20:44.705Z"
   },
   {
    "duration": 36,
    "start_time": "2022-11-20T21:20:44.710Z"
   },
   {
    "duration": 8,
    "start_time": "2022-11-20T21:20:44.747Z"
   },
   {
    "duration": 4,
    "start_time": "2022-11-20T21:20:44.756Z"
   },
   {
    "duration": 14,
    "start_time": "2022-11-20T21:20:44.761Z"
   },
   {
    "duration": 5,
    "start_time": "2022-11-20T21:20:44.776Z"
   },
   {
    "duration": 13,
    "start_time": "2022-11-20T21:20:44.782Z"
   },
   {
    "duration": 3,
    "start_time": "2022-11-20T21:20:44.796Z"
   },
   {
    "duration": 5,
    "start_time": "2022-11-20T21:20:44.800Z"
   },
   {
    "duration": 32,
    "start_time": "2022-11-20T21:20:44.806Z"
   },
   {
    "duration": 5,
    "start_time": "2022-11-20T21:22:08.323Z"
   },
   {
    "duration": 4,
    "start_time": "2022-11-20T21:22:19.365Z"
   },
   {
    "duration": 4,
    "start_time": "2022-11-20T21:22:28.074Z"
   },
   {
    "duration": 46,
    "start_time": "2022-11-21T08:12:10.831Z"
   },
   {
    "duration": 655,
    "start_time": "2022-11-21T08:12:33.572Z"
   },
   {
    "duration": 21,
    "start_time": "2022-11-21T08:12:34.229Z"
   },
   {
    "duration": 15,
    "start_time": "2022-11-21T08:12:34.251Z"
   },
   {
    "duration": 10,
    "start_time": "2022-11-21T08:12:34.267Z"
   },
   {
    "duration": 43,
    "start_time": "2022-11-21T08:12:34.279Z"
   },
   {
    "duration": 3,
    "start_time": "2022-11-21T08:12:34.324Z"
   },
   {
    "duration": 12,
    "start_time": "2022-11-21T08:12:34.328Z"
   },
   {
    "duration": 4,
    "start_time": "2022-11-21T08:12:34.341Z"
   },
   {
    "duration": 10,
    "start_time": "2022-11-21T08:12:34.346Z"
   },
   {
    "duration": 7,
    "start_time": "2022-11-21T08:12:34.357Z"
   },
   {
    "duration": 58,
    "start_time": "2022-11-21T08:12:34.366Z"
   },
   {
    "duration": 9,
    "start_time": "2022-11-21T08:12:34.426Z"
   },
   {
    "duration": 4,
    "start_time": "2022-11-21T08:12:34.437Z"
   },
   {
    "duration": 12,
    "start_time": "2022-11-21T08:12:34.443Z"
   },
   {
    "duration": 21,
    "start_time": "2022-11-21T08:12:34.457Z"
   },
   {
    "duration": 37,
    "start_time": "2022-11-21T08:12:34.479Z"
   },
   {
    "duration": 4,
    "start_time": "2022-11-21T08:12:34.517Z"
   },
   {
    "duration": 11,
    "start_time": "2022-11-21T08:12:34.522Z"
   },
   {
    "duration": 5,
    "start_time": "2022-11-21T08:12:34.535Z"
   },
   {
    "duration": 4,
    "start_time": "2022-11-21T08:12:34.541Z"
   },
   {
    "duration": 14,
    "start_time": "2022-11-21T08:12:34.546Z"
   },
   {
    "duration": 12,
    "start_time": "2022-11-21T08:12:34.561Z"
   },
   {
    "duration": 7,
    "start_time": "2022-11-21T08:12:34.574Z"
   },
   {
    "duration": 35,
    "start_time": "2022-11-21T08:12:34.582Z"
   },
   {
    "duration": 1124,
    "start_time": "2022-11-21T08:12:34.619Z"
   },
   {
    "duration": 0,
    "start_time": "2022-11-21T08:12:35.744Z"
   },
   {
    "duration": 0,
    "start_time": "2022-11-21T08:12:35.746Z"
   },
   {
    "duration": 0,
    "start_time": "2022-11-21T08:12:35.746Z"
   },
   {
    "duration": 915,
    "start_time": "2022-11-21T08:12:40.046Z"
   },
   {
    "duration": 467,
    "start_time": "2022-11-21T08:24:37.121Z"
   },
   {
    "duration": 22,
    "start_time": "2022-11-21T08:24:37.590Z"
   },
   {
    "duration": 20,
    "start_time": "2022-11-21T08:24:37.613Z"
   },
   {
    "duration": 28,
    "start_time": "2022-11-21T08:24:37.635Z"
   },
   {
    "duration": 36,
    "start_time": "2022-11-21T08:24:37.665Z"
   },
   {
    "duration": 4,
    "start_time": "2022-11-21T08:24:37.703Z"
   },
   {
    "duration": 31,
    "start_time": "2022-11-21T08:24:37.709Z"
   },
   {
    "duration": 21,
    "start_time": "2022-11-21T08:24:37.742Z"
   },
   {
    "duration": 36,
    "start_time": "2022-11-21T08:24:37.765Z"
   },
   {
    "duration": 13,
    "start_time": "2022-11-21T08:24:37.803Z"
   },
   {
    "duration": 41,
    "start_time": "2022-11-21T08:24:37.817Z"
   },
   {
    "duration": 11,
    "start_time": "2022-11-21T08:24:37.860Z"
   },
   {
    "duration": 4,
    "start_time": "2022-11-21T08:24:37.873Z"
   },
   {
    "duration": 17,
    "start_time": "2022-11-21T08:24:37.879Z"
   },
   {
    "duration": 42,
    "start_time": "2022-11-21T08:24:37.898Z"
   },
   {
    "duration": 20,
    "start_time": "2022-11-21T08:24:37.943Z"
   },
   {
    "duration": 4,
    "start_time": "2022-11-21T08:24:37.964Z"
   },
   {
    "duration": 19,
    "start_time": "2022-11-21T08:24:37.970Z"
   },
   {
    "duration": 27,
    "start_time": "2022-11-21T08:24:37.991Z"
   },
   {
    "duration": 4,
    "start_time": "2022-11-21T08:24:38.020Z"
   },
   {
    "duration": 19,
    "start_time": "2022-11-21T08:24:38.025Z"
   },
   {
    "duration": 9,
    "start_time": "2022-11-21T08:24:38.046Z"
   },
   {
    "duration": 10,
    "start_time": "2022-11-21T08:24:38.057Z"
   },
   {
    "duration": 14,
    "start_time": "2022-11-21T08:24:38.069Z"
   },
   {
    "duration": 3,
    "start_time": "2022-11-21T08:24:38.085Z"
   },
   {
    "duration": 26,
    "start_time": "2022-11-21T08:24:38.090Z"
   },
   {
    "duration": 9,
    "start_time": "2022-11-21T08:24:38.117Z"
   },
   {
    "duration": 4,
    "start_time": "2022-11-21T08:28:19.848Z"
   },
   {
    "duration": 76,
    "start_time": "2022-11-21T08:28:48.493Z"
   },
   {
    "duration": 15,
    "start_time": "2022-11-21T08:28:48.570Z"
   },
   {
    "duration": 36,
    "start_time": "2022-11-21T08:28:48.587Z"
   },
   {
    "duration": 10,
    "start_time": "2022-11-21T08:28:48.625Z"
   },
   {
    "duration": 38,
    "start_time": "2022-11-21T08:28:48.637Z"
   },
   {
    "duration": 3,
    "start_time": "2022-11-21T08:28:48.677Z"
   },
   {
    "duration": 19,
    "start_time": "2022-11-21T08:28:48.681Z"
   },
   {
    "duration": 4,
    "start_time": "2022-11-21T08:28:48.702Z"
   },
   {
    "duration": 5,
    "start_time": "2022-11-21T08:28:48.715Z"
   },
   {
    "duration": 21,
    "start_time": "2022-11-21T08:28:48.722Z"
   },
   {
    "duration": 42,
    "start_time": "2022-11-21T08:28:48.745Z"
   },
   {
    "duration": 9,
    "start_time": "2022-11-21T08:28:48.789Z"
   },
   {
    "duration": 12,
    "start_time": "2022-11-21T08:28:48.799Z"
   },
   {
    "duration": 15,
    "start_time": "2022-11-21T08:28:48.814Z"
   },
   {
    "duration": 32,
    "start_time": "2022-11-21T08:28:48.830Z"
   },
   {
    "duration": 16,
    "start_time": "2022-11-21T08:28:48.864Z"
   },
   {
    "duration": 4,
    "start_time": "2022-11-21T08:28:48.881Z"
   },
   {
    "duration": 25,
    "start_time": "2022-11-21T08:28:48.886Z"
   },
   {
    "duration": 21,
    "start_time": "2022-11-21T08:28:48.912Z"
   },
   {
    "duration": 24,
    "start_time": "2022-11-21T08:28:48.935Z"
   },
   {
    "duration": 17,
    "start_time": "2022-11-21T08:28:48.960Z"
   },
   {
    "duration": 26,
    "start_time": "2022-11-21T08:28:48.978Z"
   },
   {
    "duration": 24,
    "start_time": "2022-11-21T08:28:49.006Z"
   },
   {
    "duration": 1245,
    "start_time": "2022-11-21T08:54:17.399Z"
   },
   {
    "duration": 1015,
    "start_time": "2022-11-21T08:55:12.883Z"
   },
   {
    "duration": 5,
    "start_time": "2022-11-21T08:55:43.339Z"
   },
   {
    "duration": 8,
    "start_time": "2022-11-21T08:55:58.090Z"
   },
   {
    "duration": 6,
    "start_time": "2022-11-21T08:56:20.193Z"
   },
   {
    "duration": 9,
    "start_time": "2022-11-21T08:56:21.394Z"
   },
   {
    "duration": 5,
    "start_time": "2022-11-21T08:56:38.224Z"
   },
   {
    "duration": 8,
    "start_time": "2022-11-21T08:56:38.749Z"
   },
   {
    "duration": 441,
    "start_time": "2022-11-21T08:56:51.362Z"
   },
   {
    "duration": 23,
    "start_time": "2022-11-21T08:56:51.805Z"
   },
   {
    "duration": 14,
    "start_time": "2022-11-21T08:56:51.829Z"
   },
   {
    "duration": 10,
    "start_time": "2022-11-21T08:56:51.845Z"
   },
   {
    "duration": 35,
    "start_time": "2022-11-21T08:56:51.856Z"
   },
   {
    "duration": 4,
    "start_time": "2022-11-21T08:56:51.892Z"
   },
   {
    "duration": 25,
    "start_time": "2022-11-21T08:56:51.897Z"
   },
   {
    "duration": 15,
    "start_time": "2022-11-21T08:56:51.923Z"
   },
   {
    "duration": 21,
    "start_time": "2022-11-21T08:56:51.939Z"
   },
   {
    "duration": 7,
    "start_time": "2022-11-21T08:56:51.964Z"
   },
   {
    "duration": 38,
    "start_time": "2022-11-21T08:56:51.972Z"
   },
   {
    "duration": 10,
    "start_time": "2022-11-21T08:56:52.012Z"
   },
   {
    "duration": 5,
    "start_time": "2022-11-21T08:56:52.023Z"
   },
   {
    "duration": 23,
    "start_time": "2022-11-21T08:56:52.029Z"
   },
   {
    "duration": 68,
    "start_time": "2022-11-21T08:56:52.053Z"
   },
   {
    "duration": 18,
    "start_time": "2022-11-21T08:56:52.122Z"
   },
   {
    "duration": 5,
    "start_time": "2022-11-21T08:56:52.141Z"
   },
   {
    "duration": 17,
    "start_time": "2022-11-21T08:56:52.147Z"
   },
   {
    "duration": 7,
    "start_time": "2022-11-21T08:56:52.166Z"
   },
   {
    "duration": 9,
    "start_time": "2022-11-21T08:56:52.174Z"
   },
   {
    "duration": 31,
    "start_time": "2022-11-21T08:56:52.185Z"
   },
   {
    "duration": 7,
    "start_time": "2022-11-21T08:56:52.218Z"
   },
   {
    "duration": 12,
    "start_time": "2022-11-21T08:56:52.227Z"
   },
   {
    "duration": 5,
    "start_time": "2022-11-21T08:56:52.240Z"
   },
   {
    "duration": 11,
    "start_time": "2022-11-21T08:56:52.246Z"
   },
   {
    "duration": 9,
    "start_time": "2022-11-21T08:56:52.259Z"
   },
   {
    "duration": 15,
    "start_time": "2022-11-21T08:56:52.270Z"
   },
   {
    "duration": 6,
    "start_time": "2022-11-21T08:56:52.288Z"
   },
   {
    "duration": 5,
    "start_time": "2022-11-21T09:15:17.101Z"
   },
   {
    "duration": 6,
    "start_time": "2022-11-21T09:15:29.363Z"
   },
   {
    "duration": 44,
    "start_time": "2022-11-21T09:17:06.491Z"
   },
   {
    "duration": 61,
    "start_time": "2022-11-21T09:47:23.651Z"
   },
   {
    "duration": 495,
    "start_time": "2022-11-21T09:48:26.320Z"
   },
   {
    "duration": 21,
    "start_time": "2022-11-21T09:48:26.817Z"
   },
   {
    "duration": 21,
    "start_time": "2022-11-21T09:48:26.840Z"
   },
   {
    "duration": 9,
    "start_time": "2022-11-21T09:48:26.863Z"
   },
   {
    "duration": 45,
    "start_time": "2022-11-21T09:48:26.875Z"
   },
   {
    "duration": 3,
    "start_time": "2022-11-21T09:48:26.922Z"
   },
   {
    "duration": 16,
    "start_time": "2022-11-21T09:48:26.926Z"
   },
   {
    "duration": 8,
    "start_time": "2022-11-21T09:48:26.943Z"
   },
   {
    "duration": 10,
    "start_time": "2022-11-21T09:48:26.953Z"
   },
   {
    "duration": 7,
    "start_time": "2022-11-21T09:48:26.964Z"
   },
   {
    "duration": 50,
    "start_time": "2022-11-21T09:48:26.972Z"
   },
   {
    "duration": 9,
    "start_time": "2022-11-21T09:48:27.024Z"
   },
   {
    "duration": 7,
    "start_time": "2022-11-21T09:48:27.034Z"
   },
   {
    "duration": 14,
    "start_time": "2022-11-21T09:48:27.043Z"
   },
   {
    "duration": 22,
    "start_time": "2022-11-21T09:48:27.058Z"
   },
   {
    "duration": 35,
    "start_time": "2022-11-21T09:48:27.082Z"
   },
   {
    "duration": 4,
    "start_time": "2022-11-21T09:48:27.119Z"
   },
   {
    "duration": 15,
    "start_time": "2022-11-21T09:48:27.124Z"
   },
   {
    "duration": 6,
    "start_time": "2022-11-21T09:48:27.140Z"
   },
   {
    "duration": 4,
    "start_time": "2022-11-21T09:48:27.147Z"
   },
   {
    "duration": 12,
    "start_time": "2022-11-21T09:48:27.153Z"
   },
   {
    "duration": 4,
    "start_time": "2022-11-21T09:48:27.167Z"
   },
   {
    "duration": 16,
    "start_time": "2022-11-21T09:48:27.172Z"
   },
   {
    "duration": 31,
    "start_time": "2022-11-21T09:48:27.189Z"
   },
   {
    "duration": 13,
    "start_time": "2022-11-21T09:48:27.221Z"
   },
   {
    "duration": 12,
    "start_time": "2022-11-21T09:48:27.236Z"
   },
   {
    "duration": 4,
    "start_time": "2022-11-21T09:48:27.250Z"
   },
   {
    "duration": 7,
    "start_time": "2022-11-21T09:48:27.255Z"
   },
   {
    "duration": 7,
    "start_time": "2022-11-21T09:49:05.403Z"
   },
   {
    "duration": 15,
    "start_time": "2022-11-21T09:49:16.563Z"
   },
   {
    "duration": 63,
    "start_time": "2022-11-21T09:52:02.615Z"
   },
   {
    "duration": 5,
    "start_time": "2022-11-21T09:52:52.414Z"
   },
   {
    "duration": 9,
    "start_time": "2022-11-21T09:53:04.012Z"
   },
   {
    "duration": 97,
    "start_time": "2022-11-21T10:26:45.114Z"
   },
   {
    "duration": 6,
    "start_time": "2022-11-21T10:27:12.926Z"
   },
   {
    "duration": 46,
    "start_time": "2022-11-21T10:30:33.506Z"
   },
   {
    "duration": 7,
    "start_time": "2022-11-21T10:30:51.602Z"
   },
   {
    "duration": 11,
    "start_time": "2022-11-21T10:31:12.507Z"
   },
   {
    "duration": 15,
    "start_time": "2022-11-21T10:31:26.100Z"
   },
   {
    "duration": 13,
    "start_time": "2022-11-21T10:32:06.866Z"
   },
   {
    "duration": 14,
    "start_time": "2022-11-21T10:33:26.515Z"
   },
   {
    "duration": 451,
    "start_time": "2022-11-21T10:33:57.442Z"
   },
   {
    "duration": 25,
    "start_time": "2022-11-21T10:33:57.895Z"
   },
   {
    "duration": 14,
    "start_time": "2022-11-21T10:33:57.922Z"
   },
   {
    "duration": 10,
    "start_time": "2022-11-21T10:33:57.938Z"
   },
   {
    "duration": 33,
    "start_time": "2022-11-21T10:33:57.949Z"
   },
   {
    "duration": 4,
    "start_time": "2022-11-21T10:33:57.983Z"
   },
   {
    "duration": 29,
    "start_time": "2022-11-21T10:33:57.988Z"
   },
   {
    "duration": 10,
    "start_time": "2022-11-21T10:33:58.019Z"
   },
   {
    "duration": 8,
    "start_time": "2022-11-21T10:33:58.030Z"
   },
   {
    "duration": 5,
    "start_time": "2022-11-21T10:33:58.041Z"
   },
   {
    "duration": 40,
    "start_time": "2022-11-21T10:33:58.047Z"
   },
   {
    "duration": 31,
    "start_time": "2022-11-21T10:33:58.089Z"
   },
   {
    "duration": 4,
    "start_time": "2022-11-21T10:33:58.122Z"
   },
   {
    "duration": 14,
    "start_time": "2022-11-21T10:33:58.127Z"
   },
   {
    "duration": 19,
    "start_time": "2022-11-21T10:33:58.143Z"
   },
   {
    "duration": 21,
    "start_time": "2022-11-21T10:33:58.164Z"
   },
   {
    "duration": 28,
    "start_time": "2022-11-21T10:33:58.187Z"
   },
   {
    "duration": 10,
    "start_time": "2022-11-21T10:33:58.217Z"
   },
   {
    "duration": 10,
    "start_time": "2022-11-21T10:33:58.228Z"
   },
   {
    "duration": 4,
    "start_time": "2022-11-21T10:33:58.239Z"
   },
   {
    "duration": 10,
    "start_time": "2022-11-21T10:33:58.245Z"
   },
   {
    "duration": 5,
    "start_time": "2022-11-21T10:33:58.256Z"
   },
   {
    "duration": 14,
    "start_time": "2022-11-21T10:33:58.262Z"
   },
   {
    "duration": 5,
    "start_time": "2022-11-21T10:33:58.277Z"
   },
   {
    "duration": 41,
    "start_time": "2022-11-21T10:33:58.283Z"
   },
   {
    "duration": 8,
    "start_time": "2022-11-21T10:33:58.326Z"
   },
   {
    "duration": 14,
    "start_time": "2022-11-21T10:33:58.336Z"
   },
   {
    "duration": 9,
    "start_time": "2022-11-21T10:33:58.353Z"
   },
   {
    "duration": 13,
    "start_time": "2022-11-21T10:33:58.364Z"
   },
   {
    "duration": 2,
    "start_time": "2022-11-21T10:33:58.379Z"
   },
   {
    "duration": 14,
    "start_time": "2022-11-21T10:34:48.907Z"
   },
   {
    "duration": 14,
    "start_time": "2022-11-21T10:35:30.100Z"
   },
   {
    "duration": 463,
    "start_time": "2022-11-21T10:38:08.535Z"
   },
   {
    "duration": 21,
    "start_time": "2022-11-21T10:38:09.000Z"
   },
   {
    "duration": 16,
    "start_time": "2022-11-21T10:38:09.023Z"
   },
   {
    "duration": 9,
    "start_time": "2022-11-21T10:38:09.041Z"
   },
   {
    "duration": 34,
    "start_time": "2022-11-21T10:38:09.051Z"
   },
   {
    "duration": 3,
    "start_time": "2022-11-21T10:38:09.086Z"
   },
   {
    "duration": 29,
    "start_time": "2022-11-21T10:38:09.091Z"
   },
   {
    "duration": 4,
    "start_time": "2022-11-21T10:38:09.122Z"
   },
   {
    "duration": 11,
    "start_time": "2022-11-21T10:38:09.128Z"
   },
   {
    "duration": 28,
    "start_time": "2022-11-21T10:38:09.141Z"
   },
   {
    "duration": 43,
    "start_time": "2022-11-21T10:38:09.171Z"
   },
   {
    "duration": 10,
    "start_time": "2022-11-21T10:38:09.216Z"
   },
   {
    "duration": 6,
    "start_time": "2022-11-21T10:38:09.228Z"
   },
   {
    "duration": 13,
    "start_time": "2022-11-21T10:38:09.235Z"
   },
   {
    "duration": 25,
    "start_time": "2022-11-21T10:38:09.249Z"
   },
   {
    "duration": 16,
    "start_time": "2022-11-21T10:38:09.276Z"
   },
   {
    "duration": 23,
    "start_time": "2022-11-21T10:38:09.294Z"
   },
   {
    "duration": 13,
    "start_time": "2022-11-21T10:38:09.319Z"
   },
   {
    "duration": 5,
    "start_time": "2022-11-21T10:38:09.333Z"
   },
   {
    "duration": 6,
    "start_time": "2022-11-21T10:38:09.339Z"
   },
   {
    "duration": 11,
    "start_time": "2022-11-21T10:38:09.347Z"
   },
   {
    "duration": 16,
    "start_time": "2022-11-21T10:38:09.359Z"
   },
   {
    "duration": 17,
    "start_time": "2022-11-21T10:38:09.376Z"
   },
   {
    "duration": 5,
    "start_time": "2022-11-21T10:38:09.394Z"
   },
   {
    "duration": 20,
    "start_time": "2022-11-21T10:38:09.400Z"
   },
   {
    "duration": 8,
    "start_time": "2022-11-21T10:38:09.422Z"
   },
   {
    "duration": 16,
    "start_time": "2022-11-21T10:38:09.431Z"
   },
   {
    "duration": 9,
    "start_time": "2022-11-21T10:38:09.449Z"
   },
   {
    "duration": 2,
    "start_time": "2022-11-21T10:38:09.459Z"
   },
   {
    "duration": 66,
    "start_time": "2022-11-21T10:38:51.992Z"
   },
   {
    "duration": 4,
    "start_time": "2022-11-21T10:39:04.782Z"
   },
   {
    "duration": 9,
    "start_time": "2022-11-21T10:39:26.274Z"
   },
   {
    "duration": 5,
    "start_time": "2022-11-21T10:39:31.356Z"
   },
   {
    "duration": 990,
    "start_time": "2022-11-21T10:53:44.308Z"
   },
   {
    "duration": 13,
    "start_time": "2022-11-21T10:54:57.233Z"
   },
   {
    "duration": 7,
    "start_time": "2022-11-21T10:55:39.824Z"
   },
   {
    "duration": 12,
    "start_time": "2022-11-21T10:55:51.769Z"
   },
   {
    "duration": 8,
    "start_time": "2022-11-21T10:58:03.046Z"
   },
   {
    "duration": 6,
    "start_time": "2022-11-21T10:59:06.645Z"
   },
   {
    "duration": 10,
    "start_time": "2022-11-21T10:59:17.266Z"
   },
   {
    "duration": 12,
    "start_time": "2022-11-21T10:59:27.264Z"
   },
   {
    "duration": 10,
    "start_time": "2022-11-21T10:59:30.206Z"
   },
   {
    "duration": 6,
    "start_time": "2022-11-21T11:43:55.667Z"
   },
   {
    "duration": 6,
    "start_time": "2022-11-21T11:44:03.859Z"
   },
   {
    "duration": 6,
    "start_time": "2022-11-21T12:08:39.409Z"
   },
   {
    "duration": 16,
    "start_time": "2022-11-21T12:11:31.527Z"
   },
   {
    "duration": 8,
    "start_time": "2022-11-21T12:14:17.175Z"
   },
   {
    "duration": 14,
    "start_time": "2022-11-21T12:14:25.542Z"
   },
   {
    "duration": 11,
    "start_time": "2022-11-21T12:16:25.453Z"
   },
   {
    "duration": 1173,
    "start_time": "2022-11-21T12:17:07.143Z"
   },
   {
    "duration": 1256,
    "start_time": "2022-11-21T12:17:29.434Z"
   },
   {
    "duration": 5,
    "start_time": "2022-11-21T12:19:04.488Z"
   },
   {
    "duration": 10,
    "start_time": "2022-11-21T12:19:13.967Z"
   },
   {
    "duration": 481,
    "start_time": "2022-11-21T12:53:33.420Z"
   },
   {
    "duration": 21,
    "start_time": "2022-11-21T12:53:33.903Z"
   },
   {
    "duration": 13,
    "start_time": "2022-11-21T12:53:33.926Z"
   },
   {
    "duration": 10,
    "start_time": "2022-11-21T12:53:33.941Z"
   },
   {
    "duration": 41,
    "start_time": "2022-11-21T12:53:33.953Z"
   },
   {
    "duration": 3,
    "start_time": "2022-11-21T12:53:33.996Z"
   },
   {
    "duration": 8,
    "start_time": "2022-11-21T12:53:34.015Z"
   },
   {
    "duration": 5,
    "start_time": "2022-11-21T12:53:34.024Z"
   },
   {
    "duration": 11,
    "start_time": "2022-11-21T12:53:34.031Z"
   },
   {
    "duration": 4,
    "start_time": "2022-11-21T12:53:34.045Z"
   },
   {
    "duration": 44,
    "start_time": "2022-11-21T12:53:34.050Z"
   },
   {
    "duration": 23,
    "start_time": "2022-11-21T12:53:34.096Z"
   },
   {
    "duration": 4,
    "start_time": "2022-11-21T12:53:34.121Z"
   },
   {
    "duration": 13,
    "start_time": "2022-11-21T12:53:34.126Z"
   },
   {
    "duration": 23,
    "start_time": "2022-11-21T12:53:34.141Z"
   },
   {
    "duration": 17,
    "start_time": "2022-11-21T12:53:34.165Z"
   },
   {
    "duration": 3,
    "start_time": "2022-11-21T12:53:34.183Z"
   },
   {
    "duration": 10,
    "start_time": "2022-11-21T12:53:34.216Z"
   },
   {
    "duration": 10,
    "start_time": "2022-11-21T12:53:34.227Z"
   },
   {
    "duration": 4,
    "start_time": "2022-11-21T12:53:34.238Z"
   },
   {
    "duration": 11,
    "start_time": "2022-11-21T12:53:34.243Z"
   },
   {
    "duration": 4,
    "start_time": "2022-11-21T12:53:34.255Z"
   },
   {
    "duration": 13,
    "start_time": "2022-11-21T12:53:34.261Z"
   },
   {
    "duration": 4,
    "start_time": "2022-11-21T12:53:34.276Z"
   },
   {
    "duration": 41,
    "start_time": "2022-11-21T12:53:34.281Z"
   },
   {
    "duration": 11,
    "start_time": "2022-11-21T12:53:34.324Z"
   },
   {
    "duration": 42,
    "start_time": "2022-11-21T12:53:34.337Z"
   },
   {
    "duration": 19,
    "start_time": "2022-11-21T12:53:34.381Z"
   },
   {
    "duration": 48,
    "start_time": "2022-11-21T12:53:34.402Z"
   },
   {
    "duration": 31,
    "start_time": "2022-11-21T12:53:34.451Z"
   },
   {
    "duration": 20,
    "start_time": "2022-11-21T12:53:34.483Z"
   },
   {
    "duration": 93,
    "start_time": "2022-11-21T12:53:34.504Z"
   },
   {
    "duration": 0,
    "start_time": "2022-11-21T12:53:34.598Z"
   },
   {
    "duration": 0,
    "start_time": "2022-11-21T12:53:34.599Z"
   },
   {
    "duration": 486,
    "start_time": "2022-11-21T12:53:58.712Z"
   },
   {
    "duration": 22,
    "start_time": "2022-11-21T12:53:59.200Z"
   },
   {
    "duration": 18,
    "start_time": "2022-11-21T12:53:59.224Z"
   },
   {
    "duration": 21,
    "start_time": "2022-11-21T12:53:59.244Z"
   },
   {
    "duration": 34,
    "start_time": "2022-11-21T12:53:59.267Z"
   },
   {
    "duration": 4,
    "start_time": "2022-11-21T12:53:59.302Z"
   },
   {
    "duration": 10,
    "start_time": "2022-11-21T12:53:59.316Z"
   },
   {
    "duration": 5,
    "start_time": "2022-11-21T12:53:59.327Z"
   },
   {
    "duration": 10,
    "start_time": "2022-11-21T12:53:59.333Z"
   },
   {
    "duration": 4,
    "start_time": "2022-11-21T12:53:59.348Z"
   },
   {
    "duration": 35,
    "start_time": "2022-11-21T12:53:59.353Z"
   },
   {
    "duration": 31,
    "start_time": "2022-11-21T12:53:59.389Z"
   },
   {
    "duration": 4,
    "start_time": "2022-11-21T12:53:59.422Z"
   },
   {
    "duration": 14,
    "start_time": "2022-11-21T12:53:59.428Z"
   },
   {
    "duration": 31,
    "start_time": "2022-11-21T12:53:59.444Z"
   },
   {
    "duration": 43,
    "start_time": "2022-11-21T12:53:59.477Z"
   },
   {
    "duration": 3,
    "start_time": "2022-11-21T12:53:59.522Z"
   },
   {
    "duration": 15,
    "start_time": "2022-11-21T12:53:59.527Z"
   },
   {
    "duration": 9,
    "start_time": "2022-11-21T12:53:59.543Z"
   },
   {
    "duration": 3,
    "start_time": "2022-11-21T12:53:59.554Z"
   },
   {
    "duration": 13,
    "start_time": "2022-11-21T12:53:59.559Z"
   },
   {
    "duration": 6,
    "start_time": "2022-11-21T12:53:59.574Z"
   },
   {
    "duration": 15,
    "start_time": "2022-11-21T12:53:59.582Z"
   },
   {
    "duration": 6,
    "start_time": "2022-11-21T12:53:59.615Z"
   },
   {
    "duration": 21,
    "start_time": "2022-11-21T12:53:59.623Z"
   },
   {
    "duration": 9,
    "start_time": "2022-11-21T12:53:59.646Z"
   },
   {
    "duration": 19,
    "start_time": "2022-11-21T12:53:59.658Z"
   },
   {
    "duration": 36,
    "start_time": "2022-11-21T12:53:59.681Z"
   },
   {
    "duration": 13,
    "start_time": "2022-11-21T12:53:59.719Z"
   },
   {
    "duration": 11,
    "start_time": "2022-11-21T12:53:59.734Z"
   },
   {
    "duration": 11,
    "start_time": "2022-11-21T12:53:59.746Z"
   },
   {
    "duration": 15,
    "start_time": "2022-11-21T12:53:59.758Z"
   },
   {
    "duration": 44,
    "start_time": "2022-11-21T12:53:59.775Z"
   },
   {
    "duration": 448,
    "start_time": "2022-11-21T13:03:55.408Z"
   },
   {
    "duration": 23,
    "start_time": "2022-11-21T13:03:55.858Z"
   },
   {
    "duration": 17,
    "start_time": "2022-11-21T13:03:55.883Z"
   },
   {
    "duration": 28,
    "start_time": "2022-11-21T13:03:55.902Z"
   },
   {
    "duration": 39,
    "start_time": "2022-11-21T13:03:55.932Z"
   },
   {
    "duration": 3,
    "start_time": "2022-11-21T13:03:55.973Z"
   },
   {
    "duration": 12,
    "start_time": "2022-11-21T13:03:55.977Z"
   },
   {
    "duration": 4,
    "start_time": "2022-11-21T13:03:55.991Z"
   },
   {
    "duration": 8,
    "start_time": "2022-11-21T13:03:56.021Z"
   },
   {
    "duration": 7,
    "start_time": "2022-11-21T13:03:56.031Z"
   },
   {
    "duration": 35,
    "start_time": "2022-11-21T13:03:56.039Z"
   },
   {
    "duration": 9,
    "start_time": "2022-11-21T13:03:56.076Z"
   },
   {
    "duration": 9,
    "start_time": "2022-11-21T13:03:56.087Z"
   },
   {
    "duration": 35,
    "start_time": "2022-11-21T13:03:56.098Z"
   },
   {
    "duration": 26,
    "start_time": "2022-11-21T13:03:56.135Z"
   },
   {
    "duration": 20,
    "start_time": "2022-11-21T13:03:56.163Z"
   },
   {
    "duration": 4,
    "start_time": "2022-11-21T13:03:56.185Z"
   },
   {
    "duration": 37,
    "start_time": "2022-11-21T13:03:56.191Z"
   },
   {
    "duration": 6,
    "start_time": "2022-11-21T13:03:56.230Z"
   },
   {
    "duration": 5,
    "start_time": "2022-11-21T13:03:56.238Z"
   },
   {
    "duration": 17,
    "start_time": "2022-11-21T13:03:56.244Z"
   },
   {
    "duration": 17,
    "start_time": "2022-11-21T13:03:56.263Z"
   },
   {
    "duration": 18,
    "start_time": "2022-11-21T13:03:56.282Z"
   },
   {
    "duration": 19,
    "start_time": "2022-11-21T13:03:56.302Z"
   },
   {
    "duration": 20,
    "start_time": "2022-11-21T13:03:56.324Z"
   },
   {
    "duration": 16,
    "start_time": "2022-11-21T13:03:56.347Z"
   },
   {
    "duration": 26,
    "start_time": "2022-11-21T13:03:56.366Z"
   },
   {
    "duration": 13,
    "start_time": "2022-11-21T13:03:56.397Z"
   },
   {
    "duration": 18,
    "start_time": "2022-11-21T13:03:56.411Z"
   },
   {
    "duration": 10,
    "start_time": "2022-11-21T13:03:56.430Z"
   },
   {
    "duration": 9,
    "start_time": "2022-11-21T13:03:56.441Z"
   },
   {
    "duration": 15,
    "start_time": "2022-11-21T13:03:56.451Z"
   },
   {
    "duration": 10,
    "start_time": "2022-11-21T13:03:56.467Z"
   },
   {
    "duration": 10,
    "start_time": "2022-11-21T16:31:04.789Z"
   }
  ],
  "colab": {
   "name": "dpp_template_part2.ipynb",
   "provenance": []
  },
  "kernelspec": {
   "display_name": "Python 3 (ipykernel)",
   "language": "python",
   "name": "python3"
  },
  "language_info": {
   "codemirror_mode": {
    "name": "ipython",
    "version": 3
   },
   "file_extension": ".py",
   "mimetype": "text/x-python",
   "name": "python",
   "nbconvert_exporter": "python",
   "pygments_lexer": "ipython3",
   "version": "3.9.13"
  },
  "toc": {
   "base_numbering": 1,
   "nav_menu": {},
   "number_sections": true,
   "sideBar": true,
   "skip_h1_title": true,
   "title_cell": "Table of Contents",
   "title_sidebar": "Contents",
   "toc_cell": false,
   "toc_position": {},
   "toc_section_display": true,
   "toc_window_display": false
  }
 },
 "nbformat": 4,
 "nbformat_minor": 5
}
