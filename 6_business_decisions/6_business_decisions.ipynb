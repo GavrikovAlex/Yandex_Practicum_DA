{
 "cells": [
  {
   "cell_type": "markdown",
   "metadata": {},
   "source": [
    "# Проект: Принятие решений в бизнесе"
   ]
  },
  {
   "cell_type": "markdown",
   "metadata": {},
   "source": [
    "# Описание проекта"
   ]
  },
  {
   "cell_type": "markdown",
   "metadata": {},
   "source": [
    "Вместе с отделом маркетинга были подготовленны гипотезы для увеличения выручки. Следует провести приоритезацию гипотез и запустиь А/В тестирвоание. Сделать выводы и предположения по каждому шагу. В заключении, принять решение по результатам теста.\n",
    "Проект будет состоять из **двух** частей:\n",
    "\n",
    "**Часть_1. Приоритизация гипотез.**\n",
    "\n",
    "Приоритезировать гипотезы.\n",
    "\n",
    "*Задача:*\n",
    "- Выяснить, как изменилась приоритизация гипотез при применении фреймворка RICE вместо ICE.\n",
    "\n",
    "*Данные для анализа:*\n",
    "- /datasets/hypothesis.csv (данные с гипотезами)\n",
    "\n",
    "**Часть_2. Анализ A/B-теста**\n",
    "\n",
    "Запуск А/В теста и анализ результата\n",
    "\n",
    "*Задача:*\n",
    "- Построить график кумулятивной выручки по группам;\n",
    "- Построить график кумулятивного среднего чека по группам; \n",
    "- Построить график относительного изменения кумулятивного среднего чека группы B к группе A;\n",
    "- Построить график кумулятивного среднего количества заказов на посетителя по группам;\n",
    "- Построить график относительного изменения кумулятивного среднего количества заказов на посетителя группы B к группе A;\n",
    "- Построить точечный график количества заказов по пользователям;\n",
    "- Посчитать 95-й и 99-й перцентили количества заказов на пользователя. Выбрать границу для определения аномальных пользователей;\n",
    "- Построить точечный график стоимостей заказов;\n",
    "- Посчитать 95-й и 99-й перцентили стоимости заказов. Выбрать границу для определения аномальных заказов;\n",
    "- Посчитать статистическую значимость различий в среднем количестве заказов на посетителя между группами по «сырым» данным;\n",
    "- Посчитать статистическую значимость различий в среднем чеке заказа между группами по «сырым» данным;\n",
    "- Посчитать статистическую значимость различий в среднем количестве заказов на посетителя между группами по «очищенным» данным;\n",
    "- Посчитать статистическую значимость различий в среднем чеке заказа между группами по «очищенным» данным;\n",
    "- Принять решение по результатам теста и объяснить его. Варианты решений:\n",
    "    1. Остановить тест, зафиксировать победу одной из групп.\n",
    "    2. Остановить тест, зафиксировать отсутствие различий между группами.\n",
    "    3. Продолжить тест.\n",
    "    \n",
    "*Данные для анализа:*\n",
    "- /datasets/orders.csv (данные о заказах)\n",
    "- /datasets/visitors.csv (данные о пользователях)"
   ]
  },
  {
   "cell_type": "markdown",
   "metadata": {},
   "source": [
    "## Часть_1. Приоритизация гипотез."
   ]
  },
  {
   "cell_type": "markdown",
   "metadata": {},
   "source": [
    "### Ознакомление и предобработка данных"
   ]
  },
  {
   "cell_type": "markdown",
   "metadata": {},
   "source": [
    "#### Необходимые для работы библиотеки"
   ]
  },
  {
   "cell_type": "code",
   "execution_count": 1,
   "metadata": {},
   "outputs": [],
   "source": [
    "import pandas as pd\n",
    "import numpy as np\n",
    "import datetime as dt\n",
    "import scipy.stats as stats\n",
    "from scipy import stats as st\n",
    "import math as mth\n",
    "import matplotlib.pyplot as plt\n",
    "from pandas.plotting import register_matplotlib_converters\n",
    "import warnings"
   ]
  },
  {
   "cell_type": "markdown",
   "metadata": {},
   "source": [
    "#### Структура датафрейма\n",
    "\n",
    "- `Hypothesis` — краткое описание гипотезы;\n",
    "- `Reach` — охват пользователей по 10-балльной шкале;\n",
    "- `Impact` — влияние на пользователей по 10-балльной шкале;\n",
    "- `Confidence` — уверенность в гипотезе по 10-балльной шкале;\n",
    "- `Efforts` — затраты ресурсов на проверку гипотезы по 10-балльной шкале. Чем больше значение Efforts, тем дороже проверка гипотезы."
   ]
  },
  {
   "cell_type": "markdown",
   "metadata": {},
   "source": [
    "#### `hypothesis` - датасет с гипотезами"
   ]
  },
  {
   "cell_type": "code",
   "execution_count": 2,
   "metadata": {},
   "outputs": [
    {
     "data": {
      "text/html": [
       "<div>\n",
       "<style scoped>\n",
       "    .dataframe tbody tr th:only-of-type {\n",
       "        vertical-align: middle;\n",
       "    }\n",
       "\n",
       "    .dataframe tbody tr th {\n",
       "        vertical-align: top;\n",
       "    }\n",
       "\n",
       "    .dataframe thead th {\n",
       "        text-align: right;\n",
       "    }\n",
       "</style>\n",
       "<table border=\"1\" class=\"dataframe\">\n",
       "  <thead>\n",
       "    <tr style=\"text-align: right;\">\n",
       "      <th></th>\n",
       "      <th>Hypothesis</th>\n",
       "      <th>Reach</th>\n",
       "      <th>Impact</th>\n",
       "      <th>Confidence</th>\n",
       "      <th>Efforts</th>\n",
       "    </tr>\n",
       "  </thead>\n",
       "  <tbody>\n",
       "    <tr>\n",
       "      <th>0</th>\n",
       "      <td>Добавить два новых канала привлечения трафика,...</td>\n",
       "      <td>3</td>\n",
       "      <td>10</td>\n",
       "      <td>8</td>\n",
       "      <td>6</td>\n",
       "    </tr>\n",
       "    <tr>\n",
       "      <th>1</th>\n",
       "      <td>Запустить собственную службу доставки, что сок...</td>\n",
       "      <td>2</td>\n",
       "      <td>5</td>\n",
       "      <td>4</td>\n",
       "      <td>10</td>\n",
       "    </tr>\n",
       "    <tr>\n",
       "      <th>2</th>\n",
       "      <td>Добавить блоки рекомендаций товаров на сайт ин...</td>\n",
       "      <td>8</td>\n",
       "      <td>3</td>\n",
       "      <td>7</td>\n",
       "      <td>3</td>\n",
       "    </tr>\n",
       "    <tr>\n",
       "      <th>3</th>\n",
       "      <td>Изменить структура категорий, что увеличит кон...</td>\n",
       "      <td>8</td>\n",
       "      <td>3</td>\n",
       "      <td>3</td>\n",
       "      <td>8</td>\n",
       "    </tr>\n",
       "    <tr>\n",
       "      <th>4</th>\n",
       "      <td>Изменить цвет фона главной страницы, чтобы уве...</td>\n",
       "      <td>3</td>\n",
       "      <td>1</td>\n",
       "      <td>1</td>\n",
       "      <td>1</td>\n",
       "    </tr>\n",
       "  </tbody>\n",
       "</table>\n",
       "</div>"
      ],
      "text/plain": [
       "                                          Hypothesis  Reach  Impact  \\\n",
       "0  Добавить два новых канала привлечения трафика,...      3      10   \n",
       "1  Запустить собственную службу доставки, что сок...      2       5   \n",
       "2  Добавить блоки рекомендаций товаров на сайт ин...      8       3   \n",
       "3  Изменить структура категорий, что увеличит кон...      8       3   \n",
       "4  Изменить цвет фона главной страницы, чтобы уве...      3       1   \n",
       "\n",
       "   Confidence  Efforts  \n",
       "0           8        6  \n",
       "1           4       10  \n",
       "2           7        3  \n",
       "3           3        8  \n",
       "4           1        1  "
      ]
     },
     "execution_count": 2,
     "metadata": {},
     "output_type": "execute_result"
    }
   ],
   "source": [
    "try:\n",
    "    hypothesis = pd.read_csv('/Users/alig/Desktop/portfolio/yandex_curses/9_Принятие_решений_в_бизнесе')\n",
    "except:\n",
    "    hypothesis = pd.read_csv('https://code.s3.yandex.net/datasets/hypothesis.csv')\n",
    "hypothesis.head()"
   ]
  },
  {
   "cell_type": "code",
   "execution_count": 3,
   "metadata": {},
   "outputs": [
    {
     "name": "stdout",
     "output_type": "stream",
     "text": [
      "<class 'pandas.core.frame.DataFrame'>\n",
      "RangeIndex: 9 entries, 0 to 8\n",
      "Data columns (total 5 columns):\n",
      " #   Column      Non-Null Count  Dtype \n",
      "---  ------      --------------  ----- \n",
      " 0   Hypothesis  9 non-null      object\n",
      " 1   Reach       9 non-null      int64 \n",
      " 2   Impact      9 non-null      int64 \n",
      " 3   Confidence  9 non-null      int64 \n",
      " 4   Efforts     9 non-null      int64 \n",
      "dtypes: int64(4), object(1)\n",
      "memory usage: 488.0+ bytes\n"
     ]
    }
   ],
   "source": [
    "hypothesis.info()"
   ]
  },
  {
   "cell_type": "markdown",
   "metadata": {},
   "source": [
    "**Типы данных соответствуют значениям в таблице**"
   ]
  },
  {
   "cell_type": "code",
   "execution_count": 4,
   "metadata": {},
   "outputs": [
    {
     "data": {
      "text/html": [
       "<div>\n",
       "<style scoped>\n",
       "    .dataframe tbody tr th:only-of-type {\n",
       "        vertical-align: middle;\n",
       "    }\n",
       "\n",
       "    .dataframe tbody tr th {\n",
       "        vertical-align: top;\n",
       "    }\n",
       "\n",
       "    .dataframe thead th {\n",
       "        text-align: right;\n",
       "    }\n",
       "</style>\n",
       "<table border=\"1\" class=\"dataframe\">\n",
       "  <thead>\n",
       "    <tr style=\"text-align: right;\">\n",
       "      <th></th>\n",
       "      <th>Reach</th>\n",
       "      <th>Impact</th>\n",
       "      <th>Confidence</th>\n",
       "      <th>Efforts</th>\n",
       "    </tr>\n",
       "  </thead>\n",
       "  <tbody>\n",
       "    <tr>\n",
       "      <th>count</th>\n",
       "      <td>9.000000</td>\n",
       "      <td>9.000000</td>\n",
       "      <td>9.000000</td>\n",
       "      <td>9.000000</td>\n",
       "    </tr>\n",
       "    <tr>\n",
       "      <th>mean</th>\n",
       "      <td>4.777778</td>\n",
       "      <td>4.777778</td>\n",
       "      <td>5.555556</td>\n",
       "      <td>4.888889</td>\n",
       "    </tr>\n",
       "    <tr>\n",
       "      <th>std</th>\n",
       "      <td>3.153481</td>\n",
       "      <td>3.192874</td>\n",
       "      <td>3.045944</td>\n",
       "      <td>2.803767</td>\n",
       "    </tr>\n",
       "    <tr>\n",
       "      <th>min</th>\n",
       "      <td>1.000000</td>\n",
       "      <td>1.000000</td>\n",
       "      <td>1.000000</td>\n",
       "      <td>1.000000</td>\n",
       "    </tr>\n",
       "    <tr>\n",
       "      <th>25%</th>\n",
       "      <td>3.000000</td>\n",
       "      <td>3.000000</td>\n",
       "      <td>3.000000</td>\n",
       "      <td>3.000000</td>\n",
       "    </tr>\n",
       "    <tr>\n",
       "      <th>50%</th>\n",
       "      <td>3.000000</td>\n",
       "      <td>3.000000</td>\n",
       "      <td>7.000000</td>\n",
       "      <td>5.000000</td>\n",
       "    </tr>\n",
       "    <tr>\n",
       "      <th>75%</th>\n",
       "      <td>8.000000</td>\n",
       "      <td>7.000000</td>\n",
       "      <td>8.000000</td>\n",
       "      <td>6.000000</td>\n",
       "    </tr>\n",
       "    <tr>\n",
       "      <th>max</th>\n",
       "      <td>10.000000</td>\n",
       "      <td>10.000000</td>\n",
       "      <td>9.000000</td>\n",
       "      <td>10.000000</td>\n",
       "    </tr>\n",
       "  </tbody>\n",
       "</table>\n",
       "</div>"
      ],
      "text/plain": [
       "           Reach     Impact  Confidence    Efforts\n",
       "count   9.000000   9.000000    9.000000   9.000000\n",
       "mean    4.777778   4.777778    5.555556   4.888889\n",
       "std     3.153481   3.192874    3.045944   2.803767\n",
       "min     1.000000   1.000000    1.000000   1.000000\n",
       "25%     3.000000   3.000000    3.000000   3.000000\n",
       "50%     3.000000   3.000000    7.000000   5.000000\n",
       "75%     8.000000   7.000000    8.000000   6.000000\n",
       "max    10.000000  10.000000    9.000000  10.000000"
      ]
     },
     "execution_count": 4,
     "metadata": {},
     "output_type": "execute_result"
    }
   ],
   "source": [
    "hypothesis.describe()"
   ]
  },
  {
   "cell_type": "markdown",
   "metadata": {},
   "source": [
    "**По описанию, данные в порядке**"
   ]
  },
  {
   "cell_type": "code",
   "execution_count": 5,
   "metadata": {},
   "outputs": [
    {
     "data": {
      "text/plain": [
       "0"
      ]
     },
     "execution_count": 5,
     "metadata": {},
     "output_type": "execute_result"
    }
   ],
   "source": [
    "hypothesis.duplicated().sum()"
   ]
  },
  {
   "cell_type": "markdown",
   "metadata": {},
   "source": [
    "**Дубликаты не обнаруженны**"
   ]
  },
  {
   "cell_type": "markdown",
   "metadata": {},
   "source": [
    "#### Предобработка данных"
   ]
  },
  {
   "cell_type": "markdown",
   "metadata": {},
   "source": [
    "**Приведу названия колонок к нижнему регистру**"
   ]
  },
  {
   "cell_type": "code",
   "execution_count": 6,
   "metadata": {},
   "outputs": [
    {
     "data": {
      "text/html": [
       "<div>\n",
       "<style scoped>\n",
       "    .dataframe tbody tr th:only-of-type {\n",
       "        vertical-align: middle;\n",
       "    }\n",
       "\n",
       "    .dataframe tbody tr th {\n",
       "        vertical-align: top;\n",
       "    }\n",
       "\n",
       "    .dataframe thead th {\n",
       "        text-align: right;\n",
       "    }\n",
       "</style>\n",
       "<table border=\"1\" class=\"dataframe\">\n",
       "  <thead>\n",
       "    <tr style=\"text-align: right;\">\n",
       "      <th></th>\n",
       "      <th>hypothesis</th>\n",
       "      <th>reach</th>\n",
       "      <th>impact</th>\n",
       "      <th>confidence</th>\n",
       "      <th>efforts</th>\n",
       "    </tr>\n",
       "  </thead>\n",
       "  <tbody>\n",
       "  </tbody>\n",
       "</table>\n",
       "</div>"
      ],
      "text/plain": [
       "Empty DataFrame\n",
       "Columns: [hypothesis, reach, impact, confidence, efforts]\n",
       "Index: []"
      ]
     },
     "execution_count": 6,
     "metadata": {},
     "output_type": "execute_result"
    }
   ],
   "source": [
    "hypothesis.columns = map(str.lower, hypothesis.columns)\n",
    "hypothesis.head(0)"
   ]
  },
  {
   "cell_type": "markdown",
   "metadata": {},
   "source": [
    "**Для удобства, сниму ограничение на количество символов в записях**"
   ]
  },
  {
   "cell_type": "code",
   "execution_count": 7,
   "metadata": {},
   "outputs": [],
   "source": [
    "pd.set_option('display.max_colwidth', None)"
   ]
  },
  {
   "cell_type": "code",
   "execution_count": 8,
   "metadata": {},
   "outputs": [
    {
     "data": {
      "text/html": [
       "<div>\n",
       "<style scoped>\n",
       "    .dataframe tbody tr th:only-of-type {\n",
       "        vertical-align: middle;\n",
       "    }\n",
       "\n",
       "    .dataframe tbody tr th {\n",
       "        vertical-align: top;\n",
       "    }\n",
       "\n",
       "    .dataframe thead th {\n",
       "        text-align: right;\n",
       "    }\n",
       "</style>\n",
       "<table border=\"1\" class=\"dataframe\">\n",
       "  <thead>\n",
       "    <tr style=\"text-align: right;\">\n",
       "      <th></th>\n",
       "      <th>hypothesis</th>\n",
       "      <th>reach</th>\n",
       "      <th>impact</th>\n",
       "      <th>confidence</th>\n",
       "      <th>efforts</th>\n",
       "    </tr>\n",
       "  </thead>\n",
       "  <tbody>\n",
       "    <tr>\n",
       "      <th>0</th>\n",
       "      <td>Добавить два новых канала привлечения трафика, что позволит привлекать на 30% больше пользователей</td>\n",
       "      <td>3</td>\n",
       "      <td>10</td>\n",
       "      <td>8</td>\n",
       "      <td>6</td>\n",
       "    </tr>\n",
       "    <tr>\n",
       "      <th>1</th>\n",
       "      <td>Запустить собственную службу доставки, что сократит срок доставки заказов</td>\n",
       "      <td>2</td>\n",
       "      <td>5</td>\n",
       "      <td>4</td>\n",
       "      <td>10</td>\n",
       "    </tr>\n",
       "    <tr>\n",
       "      <th>2</th>\n",
       "      <td>Добавить блоки рекомендаций товаров на сайт интернет магазина, чтобы повысить конверсию и средний чек заказа</td>\n",
       "      <td>8</td>\n",
       "      <td>3</td>\n",
       "      <td>7</td>\n",
       "      <td>3</td>\n",
       "    </tr>\n",
       "    <tr>\n",
       "      <th>3</th>\n",
       "      <td>Изменить структура категорий, что увеличит конверсию, т.к. пользователи быстрее найдут нужный товар</td>\n",
       "      <td>8</td>\n",
       "      <td>3</td>\n",
       "      <td>3</td>\n",
       "      <td>8</td>\n",
       "    </tr>\n",
       "    <tr>\n",
       "      <th>4</th>\n",
       "      <td>Изменить цвет фона главной страницы, чтобы увеличить вовлеченность пользователей</td>\n",
       "      <td>3</td>\n",
       "      <td>1</td>\n",
       "      <td>1</td>\n",
       "      <td>1</td>\n",
       "    </tr>\n",
       "  </tbody>\n",
       "</table>\n",
       "</div>"
      ],
      "text/plain": [
       "                                                                                                     hypothesis  \\\n",
       "0            Добавить два новых канала привлечения трафика, что позволит привлекать на 30% больше пользователей   \n",
       "1                                     Запустить собственную службу доставки, что сократит срок доставки заказов   \n",
       "2  Добавить блоки рекомендаций товаров на сайт интернет магазина, чтобы повысить конверсию и средний чек заказа   \n",
       "3           Изменить структура категорий, что увеличит конверсию, т.к. пользователи быстрее найдут нужный товар   \n",
       "4                              Изменить цвет фона главной страницы, чтобы увеличить вовлеченность пользователей   \n",
       "\n",
       "   reach  impact  confidence  efforts  \n",
       "0      3      10           8        6  \n",
       "1      2       5           4       10  \n",
       "2      8       3           7        3  \n",
       "3      8       3           3        8  \n",
       "4      3       1           1        1  "
      ]
     },
     "execution_count": 8,
     "metadata": {},
     "output_type": "execute_result"
    }
   ],
   "source": [
    "hypothesis.head()"
   ]
  },
  {
   "cell_type": "markdown",
   "metadata": {},
   "source": [
    "#### Вывод\n",
    "\n",
    "- Загруженны нужные для анализа данных библиотеки;\n",
    "- Создана переменная `hypothesis` - данные о гипотезах;\n",
    "- Добавлено описание структуры датафрейма `hypothesis`;\n",
    "- В таблице 9 гипотез;\n",
    "- Типы данных соответствуют значениям в таблице;\n",
    "- Данные корректные, выбросов не обнаруженно;\n",
    "- Дубликаты отсутствуют;\n",
    "- Проведена предобработка данных:\n",
    "    - Названия колонок приведены к общему формату\n",
    "    - Снято ограничение на кол-во символов, чтобы можно было увидеть всю гипотезу датафрема."
   ]
  },
  {
   "cell_type": "markdown",
   "metadata": {},
   "source": [
    "### Фреймворк ICE"
   ]
  },
  {
   "cell_type": "code",
   "execution_count": 9,
   "metadata": {},
   "outputs": [
    {
     "data": {
      "text/html": [
       "<div>\n",
       "<style scoped>\n",
       "    .dataframe tbody tr th:only-of-type {\n",
       "        vertical-align: middle;\n",
       "    }\n",
       "\n",
       "    .dataframe tbody tr th {\n",
       "        vertical-align: top;\n",
       "    }\n",
       "\n",
       "    .dataframe thead th {\n",
       "        text-align: right;\n",
       "    }\n",
       "</style>\n",
       "<table border=\"1\" class=\"dataframe\">\n",
       "  <thead>\n",
       "    <tr style=\"text-align: right;\">\n",
       "      <th></th>\n",
       "      <th>hypothesis</th>\n",
       "      <th>reach</th>\n",
       "      <th>impact</th>\n",
       "      <th>confidence</th>\n",
       "      <th>efforts</th>\n",
       "      <th>ICE</th>\n",
       "    </tr>\n",
       "  </thead>\n",
       "  <tbody>\n",
       "    <tr>\n",
       "      <th>8</th>\n",
       "      <td>Запустить акцию, дающую скидку на товар в день рождения</td>\n",
       "      <td>1</td>\n",
       "      <td>9</td>\n",
       "      <td>9</td>\n",
       "      <td>5</td>\n",
       "      <td>16.2</td>\n",
       "    </tr>\n",
       "    <tr>\n",
       "      <th>0</th>\n",
       "      <td>Добавить два новых канала привлечения трафика, что позволит привлекать на 30% больше пользователей</td>\n",
       "      <td>3</td>\n",
       "      <td>10</td>\n",
       "      <td>8</td>\n",
       "      <td>6</td>\n",
       "      <td>13.3</td>\n",
       "    </tr>\n",
       "    <tr>\n",
       "      <th>7</th>\n",
       "      <td>Добавить форму подписки на все основные страницы, чтобы собрать базу клиентов для email-рассылок</td>\n",
       "      <td>10</td>\n",
       "      <td>7</td>\n",
       "      <td>8</td>\n",
       "      <td>5</td>\n",
       "      <td>11.2</td>\n",
       "    </tr>\n",
       "    <tr>\n",
       "      <th>6</th>\n",
       "      <td>Показать на главной странице баннеры с актуальными акциями и распродажами, чтобы увеличить конверсию</td>\n",
       "      <td>5</td>\n",
       "      <td>3</td>\n",
       "      <td>8</td>\n",
       "      <td>3</td>\n",
       "      <td>8.0</td>\n",
       "    </tr>\n",
       "    <tr>\n",
       "      <th>2</th>\n",
       "      <td>Добавить блоки рекомендаций товаров на сайт интернет магазина, чтобы повысить конверсию и средний чек заказа</td>\n",
       "      <td>8</td>\n",
       "      <td>3</td>\n",
       "      <td>7</td>\n",
       "      <td>3</td>\n",
       "      <td>7.0</td>\n",
       "    </tr>\n",
       "    <tr>\n",
       "      <th>1</th>\n",
       "      <td>Запустить собственную службу доставки, что сократит срок доставки заказов</td>\n",
       "      <td>2</td>\n",
       "      <td>5</td>\n",
       "      <td>4</td>\n",
       "      <td>10</td>\n",
       "      <td>2.0</td>\n",
       "    </tr>\n",
       "    <tr>\n",
       "      <th>5</th>\n",
       "      <td>Добавить страницу отзывов клиентов о магазине, что позволит увеличить количество заказов</td>\n",
       "      <td>3</td>\n",
       "      <td>2</td>\n",
       "      <td>2</td>\n",
       "      <td>3</td>\n",
       "      <td>1.3</td>\n",
       "    </tr>\n",
       "    <tr>\n",
       "      <th>3</th>\n",
       "      <td>Изменить структура категорий, что увеличит конверсию, т.к. пользователи быстрее найдут нужный товар</td>\n",
       "      <td>8</td>\n",
       "      <td>3</td>\n",
       "      <td>3</td>\n",
       "      <td>8</td>\n",
       "      <td>1.1</td>\n",
       "    </tr>\n",
       "    <tr>\n",
       "      <th>4</th>\n",
       "      <td>Изменить цвет фона главной страницы, чтобы увеличить вовлеченность пользователей</td>\n",
       "      <td>3</td>\n",
       "      <td>1</td>\n",
       "      <td>1</td>\n",
       "      <td>1</td>\n",
       "      <td>1.0</td>\n",
       "    </tr>\n",
       "  </tbody>\n",
       "</table>\n",
       "</div>"
      ],
      "text/plain": [
       "                                                                                                     hypothesis  \\\n",
       "8                                                       Запустить акцию, дающую скидку на товар в день рождения   \n",
       "0            Добавить два новых канала привлечения трафика, что позволит привлекать на 30% больше пользователей   \n",
       "7              Добавить форму подписки на все основные страницы, чтобы собрать базу клиентов для email-рассылок   \n",
       "6          Показать на главной странице баннеры с актуальными акциями и распродажами, чтобы увеличить конверсию   \n",
       "2  Добавить блоки рекомендаций товаров на сайт интернет магазина, чтобы повысить конверсию и средний чек заказа   \n",
       "1                                     Запустить собственную службу доставки, что сократит срок доставки заказов   \n",
       "5                      Добавить страницу отзывов клиентов о магазине, что позволит увеличить количество заказов   \n",
       "3           Изменить структура категорий, что увеличит конверсию, т.к. пользователи быстрее найдут нужный товар   \n",
       "4                              Изменить цвет фона главной страницы, чтобы увеличить вовлеченность пользователей   \n",
       "\n",
       "   reach  impact  confidence  efforts   ICE  \n",
       "8      1       9           9        5  16.2  \n",
       "0      3      10           8        6  13.3  \n",
       "7     10       7           8        5  11.2  \n",
       "6      5       3           8        3   8.0  \n",
       "2      8       3           7        3   7.0  \n",
       "1      2       5           4       10   2.0  \n",
       "5      3       2           2        3   1.3  \n",
       "3      8       3           3        8   1.1  \n",
       "4      3       1           1        1   1.0  "
      ]
     },
     "execution_count": 9,
     "metadata": {},
     "output_type": "execute_result"
    }
   ],
   "source": [
    "hypothesis['ICE'] = (hypothesis['impact'] * hypothesis['confidence']) / hypothesis['efforts']\n",
    "hypothesis.sort_values(by='ICE', ascending=False).round(1)"
   ]
  },
  {
   "cell_type": "markdown",
   "metadata": {},
   "source": [
    "### Фреймворк RICE"
   ]
  },
  {
   "cell_type": "code",
   "execution_count": 10,
   "metadata": {},
   "outputs": [
    {
     "data": {
      "text/html": [
       "<div>\n",
       "<style scoped>\n",
       "    .dataframe tbody tr th:only-of-type {\n",
       "        vertical-align: middle;\n",
       "    }\n",
       "\n",
       "    .dataframe tbody tr th {\n",
       "        vertical-align: top;\n",
       "    }\n",
       "\n",
       "    .dataframe thead th {\n",
       "        text-align: right;\n",
       "    }\n",
       "</style>\n",
       "<table border=\"1\" class=\"dataframe\">\n",
       "  <thead>\n",
       "    <tr style=\"text-align: right;\">\n",
       "      <th></th>\n",
       "      <th>hypothesis</th>\n",
       "      <th>reach</th>\n",
       "      <th>impact</th>\n",
       "      <th>confidence</th>\n",
       "      <th>efforts</th>\n",
       "      <th>ICE</th>\n",
       "      <th>RICE</th>\n",
       "    </tr>\n",
       "  </thead>\n",
       "  <tbody>\n",
       "    <tr>\n",
       "      <th>7</th>\n",
       "      <td>Добавить форму подписки на все основные страницы, чтобы собрать базу клиентов для email-рассылок</td>\n",
       "      <td>10</td>\n",
       "      <td>7</td>\n",
       "      <td>8</td>\n",
       "      <td>5</td>\n",
       "      <td>11.2</td>\n",
       "      <td>112.0</td>\n",
       "    </tr>\n",
       "    <tr>\n",
       "      <th>2</th>\n",
       "      <td>Добавить блоки рекомендаций товаров на сайт интернет магазина, чтобы повысить конверсию и средний чек заказа</td>\n",
       "      <td>8</td>\n",
       "      <td>3</td>\n",
       "      <td>7</td>\n",
       "      <td>3</td>\n",
       "      <td>7.0</td>\n",
       "      <td>56.0</td>\n",
       "    </tr>\n",
       "    <tr>\n",
       "      <th>0</th>\n",
       "      <td>Добавить два новых канала привлечения трафика, что позволит привлекать на 30% больше пользователей</td>\n",
       "      <td>3</td>\n",
       "      <td>10</td>\n",
       "      <td>8</td>\n",
       "      <td>6</td>\n",
       "      <td>13.3</td>\n",
       "      <td>40.0</td>\n",
       "    </tr>\n",
       "    <tr>\n",
       "      <th>6</th>\n",
       "      <td>Показать на главной странице баннеры с актуальными акциями и распродажами, чтобы увеличить конверсию</td>\n",
       "      <td>5</td>\n",
       "      <td>3</td>\n",
       "      <td>8</td>\n",
       "      <td>3</td>\n",
       "      <td>8.0</td>\n",
       "      <td>40.0</td>\n",
       "    </tr>\n",
       "    <tr>\n",
       "      <th>8</th>\n",
       "      <td>Запустить акцию, дающую скидку на товар в день рождения</td>\n",
       "      <td>1</td>\n",
       "      <td>9</td>\n",
       "      <td>9</td>\n",
       "      <td>5</td>\n",
       "      <td>16.2</td>\n",
       "      <td>16.2</td>\n",
       "    </tr>\n",
       "    <tr>\n",
       "      <th>3</th>\n",
       "      <td>Изменить структура категорий, что увеличит конверсию, т.к. пользователи быстрее найдут нужный товар</td>\n",
       "      <td>8</td>\n",
       "      <td>3</td>\n",
       "      <td>3</td>\n",
       "      <td>8</td>\n",
       "      <td>1.1</td>\n",
       "      <td>9.0</td>\n",
       "    </tr>\n",
       "    <tr>\n",
       "      <th>1</th>\n",
       "      <td>Запустить собственную службу доставки, что сократит срок доставки заказов</td>\n",
       "      <td>2</td>\n",
       "      <td>5</td>\n",
       "      <td>4</td>\n",
       "      <td>10</td>\n",
       "      <td>2.0</td>\n",
       "      <td>4.0</td>\n",
       "    </tr>\n",
       "    <tr>\n",
       "      <th>5</th>\n",
       "      <td>Добавить страницу отзывов клиентов о магазине, что позволит увеличить количество заказов</td>\n",
       "      <td>3</td>\n",
       "      <td>2</td>\n",
       "      <td>2</td>\n",
       "      <td>3</td>\n",
       "      <td>1.3</td>\n",
       "      <td>4.0</td>\n",
       "    </tr>\n",
       "    <tr>\n",
       "      <th>4</th>\n",
       "      <td>Изменить цвет фона главной страницы, чтобы увеличить вовлеченность пользователей</td>\n",
       "      <td>3</td>\n",
       "      <td>1</td>\n",
       "      <td>1</td>\n",
       "      <td>1</td>\n",
       "      <td>1.0</td>\n",
       "      <td>3.0</td>\n",
       "    </tr>\n",
       "  </tbody>\n",
       "</table>\n",
       "</div>"
      ],
      "text/plain": [
       "                                                                                                     hypothesis  \\\n",
       "7              Добавить форму подписки на все основные страницы, чтобы собрать базу клиентов для email-рассылок   \n",
       "2  Добавить блоки рекомендаций товаров на сайт интернет магазина, чтобы повысить конверсию и средний чек заказа   \n",
       "0            Добавить два новых канала привлечения трафика, что позволит привлекать на 30% больше пользователей   \n",
       "6          Показать на главной странице баннеры с актуальными акциями и распродажами, чтобы увеличить конверсию   \n",
       "8                                                       Запустить акцию, дающую скидку на товар в день рождения   \n",
       "3           Изменить структура категорий, что увеличит конверсию, т.к. пользователи быстрее найдут нужный товар   \n",
       "1                                     Запустить собственную службу доставки, что сократит срок доставки заказов   \n",
       "5                      Добавить страницу отзывов клиентов о магазине, что позволит увеличить количество заказов   \n",
       "4                              Изменить цвет фона главной страницы, чтобы увеличить вовлеченность пользователей   \n",
       "\n",
       "   reach  impact  confidence  efforts   ICE   RICE  \n",
       "7     10       7           8        5  11.2  112.0  \n",
       "2      8       3           7        3   7.0   56.0  \n",
       "0      3      10           8        6  13.3   40.0  \n",
       "6      5       3           8        3   8.0   40.0  \n",
       "8      1       9           9        5  16.2   16.2  \n",
       "3      8       3           3        8   1.1    9.0  \n",
       "1      2       5           4       10   2.0    4.0  \n",
       "5      3       2           2        3   1.3    4.0  \n",
       "4      3       1           1        1   1.0    3.0  "
      ]
     },
     "execution_count": 10,
     "metadata": {},
     "output_type": "execute_result"
    }
   ],
   "source": [
    "hypothesis['RICE'] = (hypothesis['impact'] * hypothesis['confidence'] * hypothesis['reach'])\\\n",
    "/ hypothesis['efforts']\n",
    "hypothesis.sort_values(by='RICE', ascending=False).round(1)"
   ]
  },
  {
   "cell_type": "markdown",
   "metadata": {},
   "source": [
    "### Вывод\n",
    "Наиболее перспективные гипотезы по фреймворку `ICE` с индексами: 8, 0, 7.\n",
    "Наиболее перспективные гипотезы по фреймворку `RICE` с индексами: 7, 2, 0, 6.\n",
    "\n",
    "Гипотезы с индексом 0 и 7 попали в оба результата расчетов по фреймворкам `ICE` и `RICE`. Однако, позиционирование этих гипотез сместилось во фрейморке `RICE`. Это произошло из-за того, что параметр \"reach\"(параметр, показывающий скольких пользователей затронет гипотеза по шкале от 0 до 10) больше, чем у остальных гипотез."
   ]
  },
  {
   "cell_type": "markdown",
   "metadata": {},
   "source": [
    "## Часть_2. Анализ A/B-теста"
   ]
  },
  {
   "cell_type": "markdown",
   "metadata": {},
   "source": [
    "### Ознакомление и предобработка данных"
   ]
  },
  {
   "cell_type": "markdown",
   "metadata": {},
   "source": [
    "#### Структура датафрейма\n",
    "- `transactionId` — идентификатор заказа;\n",
    "- `visitorId` — идентификатор пользователя, совершившего заказ;\n",
    "- `date` — дата, когда был совершён заказ;\n",
    "- `revenue` — выручка заказа;\n",
    "- `group` — группа A/B-теста, в которую попал заказ"
   ]
  },
  {
   "cell_type": "markdown",
   "metadata": {},
   "source": [
    "#### `orders` - датасет с информацией о заказах"
   ]
  },
  {
   "cell_type": "code",
   "execution_count": 11,
   "metadata": {},
   "outputs": [
    {
     "data": {
      "text/html": [
       "<div>\n",
       "<style scoped>\n",
       "    .dataframe tbody tr th:only-of-type {\n",
       "        vertical-align: middle;\n",
       "    }\n",
       "\n",
       "    .dataframe tbody tr th {\n",
       "        vertical-align: top;\n",
       "    }\n",
       "\n",
       "    .dataframe thead th {\n",
       "        text-align: right;\n",
       "    }\n",
       "</style>\n",
       "<table border=\"1\" class=\"dataframe\">\n",
       "  <thead>\n",
       "    <tr style=\"text-align: right;\">\n",
       "      <th></th>\n",
       "      <th>transactionId</th>\n",
       "      <th>visitorId</th>\n",
       "      <th>date</th>\n",
       "      <th>revenue</th>\n",
       "      <th>group</th>\n",
       "    </tr>\n",
       "  </thead>\n",
       "  <tbody>\n",
       "    <tr>\n",
       "      <th>0</th>\n",
       "      <td>3667963787</td>\n",
       "      <td>3312258926</td>\n",
       "      <td>2019-08-15</td>\n",
       "      <td>1650</td>\n",
       "      <td>B</td>\n",
       "    </tr>\n",
       "    <tr>\n",
       "      <th>1</th>\n",
       "      <td>2804400009</td>\n",
       "      <td>3642806036</td>\n",
       "      <td>2019-08-15</td>\n",
       "      <td>730</td>\n",
       "      <td>B</td>\n",
       "    </tr>\n",
       "    <tr>\n",
       "      <th>2</th>\n",
       "      <td>2961555356</td>\n",
       "      <td>4069496402</td>\n",
       "      <td>2019-08-15</td>\n",
       "      <td>400</td>\n",
       "      <td>A</td>\n",
       "    </tr>\n",
       "    <tr>\n",
       "      <th>3</th>\n",
       "      <td>3797467345</td>\n",
       "      <td>1196621759</td>\n",
       "      <td>2019-08-15</td>\n",
       "      <td>9759</td>\n",
       "      <td>B</td>\n",
       "    </tr>\n",
       "    <tr>\n",
       "      <th>4</th>\n",
       "      <td>2282983706</td>\n",
       "      <td>2322279887</td>\n",
       "      <td>2019-08-15</td>\n",
       "      <td>2308</td>\n",
       "      <td>B</td>\n",
       "    </tr>\n",
       "  </tbody>\n",
       "</table>\n",
       "</div>"
      ],
      "text/plain": [
       "   transactionId   visitorId        date  revenue group\n",
       "0     3667963787  3312258926  2019-08-15     1650     B\n",
       "1     2804400009  3642806036  2019-08-15      730     B\n",
       "2     2961555356  4069496402  2019-08-15      400     A\n",
       "3     3797467345  1196621759  2019-08-15     9759     B\n",
       "4     2282983706  2322279887  2019-08-15     2308     B"
      ]
     },
     "execution_count": 11,
     "metadata": {},
     "output_type": "execute_result"
    }
   ],
   "source": [
    "try:\n",
    "    orders = pd.read_csv('/Users/alig/Desktop/portfolio/yandex_curses/9_Принятие_решений_в_бизнесе')\n",
    "except:\n",
    "    orders = pd.read_csv('https://code.s3.yandex.net/datasets/orders.csv')\n",
    "orders.head()"
   ]
  },
  {
   "cell_type": "markdown",
   "metadata": {},
   "source": [
    "Привести название колонок к общему формату"
   ]
  },
  {
   "cell_type": "code",
   "execution_count": 12,
   "metadata": {},
   "outputs": [
    {
     "name": "stdout",
     "output_type": "stream",
     "text": [
      "<class 'pandas.core.frame.DataFrame'>\n",
      "RangeIndex: 1197 entries, 0 to 1196\n",
      "Data columns (total 5 columns):\n",
      " #   Column         Non-Null Count  Dtype \n",
      "---  ------         --------------  ----- \n",
      " 0   transactionId  1197 non-null   int64 \n",
      " 1   visitorId      1197 non-null   int64 \n",
      " 2   date           1197 non-null   object\n",
      " 3   revenue        1197 non-null   int64 \n",
      " 4   group          1197 non-null   object\n",
      "dtypes: int64(3), object(2)\n",
      "memory usage: 46.9+ KB\n"
     ]
    }
   ],
   "source": [
    "orders.info()"
   ]
  },
  {
   "cell_type": "markdown",
   "metadata": {},
   "source": [
    "Следует изменить формат данных в колонке с датой"
   ]
  },
  {
   "cell_type": "code",
   "execution_count": 13,
   "metadata": {},
   "outputs": [
    {
     "data": {
      "text/html": [
       "<div>\n",
       "<style scoped>\n",
       "    .dataframe tbody tr th:only-of-type {\n",
       "        vertical-align: middle;\n",
       "    }\n",
       "\n",
       "    .dataframe tbody tr th {\n",
       "        vertical-align: top;\n",
       "    }\n",
       "\n",
       "    .dataframe thead th {\n",
       "        text-align: right;\n",
       "    }\n",
       "</style>\n",
       "<table border=\"1\" class=\"dataframe\">\n",
       "  <thead>\n",
       "    <tr style=\"text-align: right;\">\n",
       "      <th></th>\n",
       "      <th>transactionId</th>\n",
       "      <th>visitorId</th>\n",
       "      <th>revenue</th>\n",
       "    </tr>\n",
       "  </thead>\n",
       "  <tbody>\n",
       "    <tr>\n",
       "      <th>count</th>\n",
       "      <td>1.197000e+03</td>\n",
       "      <td>1.197000e+03</td>\n",
       "      <td>1.197000e+03</td>\n",
       "    </tr>\n",
       "    <tr>\n",
       "      <th>mean</th>\n",
       "      <td>2.155621e+09</td>\n",
       "      <td>2.165960e+09</td>\n",
       "      <td>8.348006e+03</td>\n",
       "    </tr>\n",
       "    <tr>\n",
       "      <th>std</th>\n",
       "      <td>1.229085e+09</td>\n",
       "      <td>1.236014e+09</td>\n",
       "      <td>3.919113e+04</td>\n",
       "    </tr>\n",
       "    <tr>\n",
       "      <th>min</th>\n",
       "      <td>1.062393e+06</td>\n",
       "      <td>5.114589e+06</td>\n",
       "      <td>5.000000e+01</td>\n",
       "    </tr>\n",
       "    <tr>\n",
       "      <th>25%</th>\n",
       "      <td>1.166776e+09</td>\n",
       "      <td>1.111826e+09</td>\n",
       "      <td>1.220000e+03</td>\n",
       "    </tr>\n",
       "    <tr>\n",
       "      <th>50%</th>\n",
       "      <td>2.145194e+09</td>\n",
       "      <td>2.217985e+09</td>\n",
       "      <td>2.978000e+03</td>\n",
       "    </tr>\n",
       "    <tr>\n",
       "      <th>75%</th>\n",
       "      <td>3.237740e+09</td>\n",
       "      <td>3.177606e+09</td>\n",
       "      <td>8.290000e+03</td>\n",
       "    </tr>\n",
       "    <tr>\n",
       "      <th>max</th>\n",
       "      <td>4.293856e+09</td>\n",
       "      <td>4.283872e+09</td>\n",
       "      <td>1.294500e+06</td>\n",
       "    </tr>\n",
       "  </tbody>\n",
       "</table>\n",
       "</div>"
      ],
      "text/plain": [
       "       transactionId     visitorId       revenue\n",
       "count   1.197000e+03  1.197000e+03  1.197000e+03\n",
       "mean    2.155621e+09  2.165960e+09  8.348006e+03\n",
       "std     1.229085e+09  1.236014e+09  3.919113e+04\n",
       "min     1.062393e+06  5.114589e+06  5.000000e+01\n",
       "25%     1.166776e+09  1.111826e+09  1.220000e+03\n",
       "50%     2.145194e+09  2.217985e+09  2.978000e+03\n",
       "75%     3.237740e+09  3.177606e+09  8.290000e+03\n",
       "max     4.293856e+09  4.283872e+09  1.294500e+06"
      ]
     },
     "execution_count": 13,
     "metadata": {},
     "output_type": "execute_result"
    }
   ],
   "source": [
    "orders.describe()"
   ]
  },
  {
   "cell_type": "markdown",
   "metadata": {},
   "source": [
    "В колонке с выручкой можно увидеть аномально-большие заказы.\n",
    "Данные выбросы будут искажать результаты исследования. Надо это учесть "
   ]
  },
  {
   "cell_type": "code",
   "execution_count": 14,
   "metadata": {},
   "outputs": [
    {
     "data": {
      "text/plain": [
       "0"
      ]
     },
     "execution_count": 14,
     "metadata": {},
     "output_type": "execute_result"
    }
   ],
   "source": [
    "orders.duplicated().sum()"
   ]
  },
  {
   "cell_type": "markdown",
   "metadata": {},
   "source": [
    "Дубликаты не обнаружены"
   ]
  },
  {
   "cell_type": "markdown",
   "metadata": {},
   "source": [
    "#### Предобработка данных"
   ]
  },
  {
   "cell_type": "markdown",
   "metadata": {},
   "source": [
    "Приведу названия колонок к общему формату"
   ]
  },
  {
   "cell_type": "code",
   "execution_count": 15,
   "metadata": {},
   "outputs": [
    {
     "data": {
      "text/html": [
       "<div>\n",
       "<style scoped>\n",
       "    .dataframe tbody tr th:only-of-type {\n",
       "        vertical-align: middle;\n",
       "    }\n",
       "\n",
       "    .dataframe tbody tr th {\n",
       "        vertical-align: top;\n",
       "    }\n",
       "\n",
       "    .dataframe thead th {\n",
       "        text-align: right;\n",
       "    }\n",
       "</style>\n",
       "<table border=\"1\" class=\"dataframe\">\n",
       "  <thead>\n",
       "    <tr style=\"text-align: right;\">\n",
       "      <th></th>\n",
       "      <th>transaction_Id</th>\n",
       "      <th>visitor_Id</th>\n",
       "      <th>date</th>\n",
       "      <th>revenue</th>\n",
       "      <th>group</th>\n",
       "    </tr>\n",
       "  </thead>\n",
       "  <tbody>\n",
       "    <tr>\n",
       "      <th>0</th>\n",
       "      <td>3667963787</td>\n",
       "      <td>3312258926</td>\n",
       "      <td>2019-08-15</td>\n",
       "      <td>1650</td>\n",
       "      <td>B</td>\n",
       "    </tr>\n",
       "  </tbody>\n",
       "</table>\n",
       "</div>"
      ],
      "text/plain": [
       "   transaction_Id  visitor_Id        date  revenue group\n",
       "0      3667963787  3312258926  2019-08-15     1650     B"
      ]
     },
     "execution_count": 15,
     "metadata": {},
     "output_type": "execute_result"
    }
   ],
   "source": [
    "orders.columns = ['transaction_Id', 'visitor_Id', 'date', 'revenue', 'group']\n",
    "orders.head(1)"
   ]
  },
  {
   "cell_type": "markdown",
   "metadata": {},
   "source": [
    "Изменю тип данных в колонке с датой"
   ]
  },
  {
   "cell_type": "code",
   "execution_count": 16,
   "metadata": {},
   "outputs": [],
   "source": [
    "orders['date'] = orders['date'].map(\n",
    "    lambda x: dt.datetime.strptime(x, '%Y-%m-%d')\n",
    ") "
   ]
  },
  {
   "cell_type": "code",
   "execution_count": 17,
   "metadata": {},
   "outputs": [
    {
     "name": "stdout",
     "output_type": "stream",
     "text": [
      "<class 'pandas.core.frame.DataFrame'>\n",
      "RangeIndex: 1197 entries, 0 to 1196\n",
      "Data columns (total 5 columns):\n",
      " #   Column          Non-Null Count  Dtype         \n",
      "---  ------          --------------  -----         \n",
      " 0   transaction_Id  1197 non-null   int64         \n",
      " 1   visitor_Id      1197 non-null   int64         \n",
      " 2   date            1197 non-null   datetime64[ns]\n",
      " 3   revenue         1197 non-null   int64         \n",
      " 4   group           1197 non-null   object        \n",
      "dtypes: datetime64[ns](1), int64(3), object(1)\n",
      "memory usage: 46.9+ KB\n"
     ]
    }
   ],
   "source": [
    "orders.info()"
   ]
  },
  {
   "cell_type": "markdown",
   "metadata": {},
   "source": [
    "#### Вывод\n",
    "- Создана переменная orders - данные о заказах;\n",
    "- Добавлено описание структуры датафрейма orders;\n",
    "- Дубликаты отсутствуют;\n",
    "- Проведена предобработка данных:\n",
    "    - Названия колонок приведены к общему формату;\n",
    "    - Изменен тип данных в колонке с датой, остальные колонки с соответствующими значениям типами данных."
   ]
  },
  {
   "cell_type": "markdown",
   "metadata": {},
   "source": [
    "###  Ознакомление и предобработка данных"
   ]
  },
  {
   "cell_type": "markdown",
   "metadata": {},
   "source": [
    "#### Структура датафрейма\n",
    "- `date` — дата;\n",
    "- `group` — группа A/B-теста;\n",
    "- `visitors` — количество пользователей в указанную дату в указанной группе A/B-теста"
   ]
  },
  {
   "cell_type": "markdown",
   "metadata": {},
   "source": [
    "#### `visitors` - датасет с информацией о посетителях"
   ]
  },
  {
   "cell_type": "code",
   "execution_count": 18,
   "metadata": {},
   "outputs": [
    {
     "data": {
      "text/html": [
       "<div>\n",
       "<style scoped>\n",
       "    .dataframe tbody tr th:only-of-type {\n",
       "        vertical-align: middle;\n",
       "    }\n",
       "\n",
       "    .dataframe tbody tr th {\n",
       "        vertical-align: top;\n",
       "    }\n",
       "\n",
       "    .dataframe thead th {\n",
       "        text-align: right;\n",
       "    }\n",
       "</style>\n",
       "<table border=\"1\" class=\"dataframe\">\n",
       "  <thead>\n",
       "    <tr style=\"text-align: right;\">\n",
       "      <th></th>\n",
       "      <th>date</th>\n",
       "      <th>group</th>\n",
       "      <th>visitors</th>\n",
       "    </tr>\n",
       "  </thead>\n",
       "  <tbody>\n",
       "    <tr>\n",
       "      <th>0</th>\n",
       "      <td>2019-08-01</td>\n",
       "      <td>A</td>\n",
       "      <td>719</td>\n",
       "    </tr>\n",
       "    <tr>\n",
       "      <th>1</th>\n",
       "      <td>2019-08-02</td>\n",
       "      <td>A</td>\n",
       "      <td>619</td>\n",
       "    </tr>\n",
       "    <tr>\n",
       "      <th>2</th>\n",
       "      <td>2019-08-03</td>\n",
       "      <td>A</td>\n",
       "      <td>507</td>\n",
       "    </tr>\n",
       "    <tr>\n",
       "      <th>3</th>\n",
       "      <td>2019-08-04</td>\n",
       "      <td>A</td>\n",
       "      <td>717</td>\n",
       "    </tr>\n",
       "    <tr>\n",
       "      <th>4</th>\n",
       "      <td>2019-08-05</td>\n",
       "      <td>A</td>\n",
       "      <td>756</td>\n",
       "    </tr>\n",
       "  </tbody>\n",
       "</table>\n",
       "</div>"
      ],
      "text/plain": [
       "         date group  visitors\n",
       "0  2019-08-01     A       719\n",
       "1  2019-08-02     A       619\n",
       "2  2019-08-03     A       507\n",
       "3  2019-08-04     A       717\n",
       "4  2019-08-05     A       756"
      ]
     },
     "execution_count": 18,
     "metadata": {},
     "output_type": "execute_result"
    }
   ],
   "source": [
    "try:\n",
    "    visitors = pd.read_csv('/Users/alig/Desktop/portfolio/yandex_curses/9_Принятие_решений_в_бизнесе')\n",
    "except:\n",
    "    visitors = pd.read_csv('https://code.s3.yandex.net/datasets/visitors.csv')\n",
    "visitors.head()"
   ]
  },
  {
   "cell_type": "code",
   "execution_count": 19,
   "metadata": {},
   "outputs": [
    {
     "name": "stdout",
     "output_type": "stream",
     "text": [
      "<class 'pandas.core.frame.DataFrame'>\n",
      "RangeIndex: 62 entries, 0 to 61\n",
      "Data columns (total 3 columns):\n",
      " #   Column    Non-Null Count  Dtype \n",
      "---  ------    --------------  ----- \n",
      " 0   date      62 non-null     object\n",
      " 1   group     62 non-null     object\n",
      " 2   visitors  62 non-null     int64 \n",
      "dtypes: int64(1), object(2)\n",
      "memory usage: 1.6+ KB\n"
     ]
    }
   ],
   "source": [
    "visitors.info()"
   ]
  },
  {
   "cell_type": "markdown",
   "metadata": {},
   "source": [
    "Изменить тип данных в колонке с датой"
   ]
  },
  {
   "cell_type": "code",
   "execution_count": 20,
   "metadata": {},
   "outputs": [
    {
     "data": {
      "text/html": [
       "<div>\n",
       "<style scoped>\n",
       "    .dataframe tbody tr th:only-of-type {\n",
       "        vertical-align: middle;\n",
       "    }\n",
       "\n",
       "    .dataframe tbody tr th {\n",
       "        vertical-align: top;\n",
       "    }\n",
       "\n",
       "    .dataframe thead th {\n",
       "        text-align: right;\n",
       "    }\n",
       "</style>\n",
       "<table border=\"1\" class=\"dataframe\">\n",
       "  <thead>\n",
       "    <tr style=\"text-align: right;\">\n",
       "      <th></th>\n",
       "      <th>visitors</th>\n",
       "    </tr>\n",
       "  </thead>\n",
       "  <tbody>\n",
       "    <tr>\n",
       "      <th>count</th>\n",
       "      <td>62.000000</td>\n",
       "    </tr>\n",
       "    <tr>\n",
       "      <th>mean</th>\n",
       "      <td>607.290323</td>\n",
       "    </tr>\n",
       "    <tr>\n",
       "      <th>std</th>\n",
       "      <td>114.400560</td>\n",
       "    </tr>\n",
       "    <tr>\n",
       "      <th>min</th>\n",
       "      <td>361.000000</td>\n",
       "    </tr>\n",
       "    <tr>\n",
       "      <th>25%</th>\n",
       "      <td>534.000000</td>\n",
       "    </tr>\n",
       "    <tr>\n",
       "      <th>50%</th>\n",
       "      <td>624.500000</td>\n",
       "    </tr>\n",
       "    <tr>\n",
       "      <th>75%</th>\n",
       "      <td>710.500000</td>\n",
       "    </tr>\n",
       "    <tr>\n",
       "      <th>max</th>\n",
       "      <td>770.000000</td>\n",
       "    </tr>\n",
       "  </tbody>\n",
       "</table>\n",
       "</div>"
      ],
      "text/plain": [
       "         visitors\n",
       "count   62.000000\n",
       "mean   607.290323\n",
       "std    114.400560\n",
       "min    361.000000\n",
       "25%    534.000000\n",
       "50%    624.500000\n",
       "75%    710.500000\n",
       "max    770.000000"
      ]
     },
     "execution_count": 20,
     "metadata": {},
     "output_type": "execute_result"
    }
   ],
   "source": [
    "visitors.describe()"
   ]
  },
  {
   "cell_type": "code",
   "execution_count": 21,
   "metadata": {},
   "outputs": [
    {
     "data": {
      "text/plain": [
       "0"
      ]
     },
     "execution_count": 21,
     "metadata": {},
     "output_type": "execute_result"
    }
   ],
   "source": [
    "visitors.duplicated().sum()"
   ]
  },
  {
   "cell_type": "markdown",
   "metadata": {},
   "source": [
    "Дубликаты не обнаружены"
   ]
  },
  {
   "cell_type": "markdown",
   "metadata": {},
   "source": [
    "#### Предобработка данных"
   ]
  },
  {
   "cell_type": "markdown",
   "metadata": {},
   "source": [
    "Изменю тип данных в колонке с датой"
   ]
  },
  {
   "cell_type": "code",
   "execution_count": 22,
   "metadata": {},
   "outputs": [],
   "source": [
    "visitors['date'] = visitors['date'].map(\n",
    "    lambda x: dt.datetime.strptime(x, '%Y-%m-%d')\n",
    ") "
   ]
  },
  {
   "cell_type": "code",
   "execution_count": 23,
   "metadata": {},
   "outputs": [
    {
     "name": "stdout",
     "output_type": "stream",
     "text": [
      "<class 'pandas.core.frame.DataFrame'>\n",
      "RangeIndex: 62 entries, 0 to 61\n",
      "Data columns (total 3 columns):\n",
      " #   Column    Non-Null Count  Dtype         \n",
      "---  ------    --------------  -----         \n",
      " 0   date      62 non-null     datetime64[ns]\n",
      " 1   group     62 non-null     object        \n",
      " 2   visitors  62 non-null     int64         \n",
      "dtypes: datetime64[ns](1), int64(1), object(1)\n",
      "memory usage: 1.6+ KB\n"
     ]
    }
   ],
   "source": [
    "visitors.info()"
   ]
  },
  {
   "cell_type": "markdown",
   "metadata": {},
   "source": [
    "#### Вывод\n",
    "- Создана переменная visitors - данные о посетителях;\n",
    "- Добавлено описание структуры датафрейма visitors;\n",
    "- Дубликаты отсутствуют;\n",
    "- Проведена предобработка данных:\n",
    "    - Изменен тип данных в колонке с датой, остальные колонки с соответствующими значениям типами данных."
   ]
  },
  {
   "cell_type": "markdown",
   "metadata": {},
   "source": [
    "### Дубликаты пользователей в группах"
   ]
  },
  {
   "cell_type": "markdown",
   "metadata": {},
   "source": [
    "Посчитаю сколько пользователей оказалось сразу в двух группах исследования"
   ]
  },
  {
   "cell_type": "code",
   "execution_count": 24,
   "metadata": {},
   "outputs": [
    {
     "data": {
      "text/plain": [
       "group    58\n",
       "dtype: int64"
      ]
     },
     "execution_count": 24,
     "metadata": {},
     "output_type": "execute_result"
    }
   ],
   "source": [
    "orders.groupby('visitor_Id').agg({'group': 'nunique'}).query('group>1').count()"
   ]
  },
  {
   "cell_type": "markdown",
   "metadata": {},
   "source": [
    "Всего 58 пользователей, который попали в обе группы. \n",
    "Создам новую переменную для этих пользователей. "
   ]
  },
  {
   "cell_type": "code",
   "execution_count": 25,
   "metadata": {},
   "outputs": [],
   "source": [
    "dupl_users = orders.groupby('visitor_Id').agg({'group' : 'nunique'})\\\n",
    ".reset_index().query('group>1')['visitor_Id'].unique()"
   ]
  },
  {
   "cell_type": "markdown",
   "metadata": {},
   "source": [
    "Создам переменную, в которых исключу из основного датафрейма `orders` дублирующихся по группам пользователей"
   ]
  },
  {
   "cell_type": "code",
   "execution_count": 26,
   "metadata": {},
   "outputs": [
    {
     "data": {
      "text/plain": [
       "group    0\n",
       "dtype: int64"
      ]
     },
     "execution_count": 26,
     "metadata": {},
     "output_type": "execute_result"
    }
   ],
   "source": [
    "orders_uniq_users = orders.query('visitor_Id not in @dupl_users')\n",
    "orders_uniq_users.groupby('visitor_Id').agg({'group' : 'nunique'}).query('group>1').count()"
   ]
  },
  {
   "cell_type": "markdown",
   "metadata": {},
   "source": [
    "Имеем датафрейм `orders`, в котором 58 пользовтелей оказались в двух группах и датафрейм `orders_uniq_users`, в котором уникальные пользователи в каждой группе. Пострю гистограмму, чтобы визуализировать данные, определить различия и принять решение оставлять этих пользовтелей или удалить их для дальнейшего проведения теста."
   ]
  },
  {
   "cell_type": "code",
   "execution_count": 27,
   "metadata": {},
   "outputs": [
    {
     "data": {
      "image/png": "[encoded data removed]",
      "text/plain": [
       "<Figure size 1000x500 with 1 Axes>"
      ]
     },
     "metadata": {},
     "output_type": "display_data"
    }
   ],
   "source": [
    "plt.figure(figsize=(10, 5))\n",
    "orders['revenue'].hist(bins=100)\n",
    "\n",
    "plt.title('График выручки с дублирующимися в группах пользователями')\n",
    "plt.xlabel('Выручка')\n",
    "plt.ylabel('Количество заказов')\n",
    "plt.show()"
   ]
  },
  {
   "cell_type": "markdown",
   "metadata": {},
   "source": [
    "Чтобы были наглядны выбросы сделаю срез данных, в котором заказы будут от 20000р. Для этого создам еще одну переменную."
   ]
  },
  {
   "cell_type": "code",
   "execution_count": 28,
   "metadata": {},
   "outputs": [],
   "source": [
    "orders_for_hist = orders.loc[orders['revenue'] >= 20000]"
   ]
  },
  {
   "cell_type": "code",
   "execution_count": 29,
   "metadata": {},
   "outputs": [
    {
     "data": {
      "image/png": "[encoded data removed]",
      "text/plain": [
       "<Figure size 1000x500 with 1 Axes>"
      ]
     },
     "metadata": {},
     "output_type": "display_data"
    }
   ],
   "source": [
    "plt.figure(figsize=(10, 5))\n",
    "orders_for_hist['revenue'].hist(bins=100)\n",
    "\n",
    "plt.title('График выручки с дублирующимися в группах пользователями')\n",
    "plt.xlabel('Выручка')\n",
    "plt.ylabel('Количество заказов')\n",
    "plt.show()"
   ]
  },
  {
   "cell_type": "markdown",
   "metadata": {},
   "source": [
    "Присуствуют выбросы в районе 20т.р. и 130т.р. Из-за них график график такой растянутый."
   ]
  },
  {
   "cell_type": "markdown",
   "metadata": {},
   "source": [
    "Сделю гистрограмму отфильтрованных от дублирующихся пользователей данных:"
   ]
  },
  {
   "cell_type": "code",
   "execution_count": 30,
   "metadata": {},
   "outputs": [
    {
     "data": {
      "image/png": "[encoded data removed]",
      "text/plain": [
       "<Figure size 1000x500 with 1 Axes>"
      ]
     },
     "metadata": {},
     "output_type": "display_data"
    }
   ],
   "source": [
    "plt.figure(figsize=(10, 5))\n",
    "orders_uniq_users['revenue'].hist(bins=100)\n",
    "\n",
    "plt.title('График выручки с уникальными пользователями в группах')\n",
    "plt.xlabel('Выручка')\n",
    "plt.ylabel('Количество заказов')\n",
    "plt.show()"
   ]
  },
  {
   "cell_type": "markdown",
   "metadata": {},
   "source": [
    "Чтобы были наглядны выбросы сделаю срез данных, в котором заказы будут от 20000р. Для этого создам еще одну переменную."
   ]
  },
  {
   "cell_type": "code",
   "execution_count": 31,
   "metadata": {},
   "outputs": [],
   "source": [
    "orders_uniq_users_for_hist = orders_uniq_users.loc[orders_uniq_users['revenue'] >= 20000]"
   ]
  },
  {
   "cell_type": "code",
   "execution_count": 32,
   "metadata": {},
   "outputs": [
    {
     "data": {
      "image/png": "[encoded data removed]",
      "text/plain": [
       "<Figure size 1000x500 with 1 Axes>"
      ]
     },
     "metadata": {},
     "output_type": "display_data"
    }
   ],
   "source": [
    "plt.figure(figsize=(10, 5))\n",
    "orders_uniq_users_for_hist['revenue'].hist(bins=100)\n",
    "\n",
    "plt.title('График выручки с уникальными пользователями в группах')\n",
    "plt.xlabel('Выручка')\n",
    "plt.ylabel('Количество заказов')\n",
    "plt.show()"
   ]
  },
  {
   "cell_type": "markdown",
   "metadata": {},
   "source": [
    "#### Вывод\n",
    "    \n",
    "Количество заказов уменьшилось, но это никак не повлияло на общую картину. Выбросы остались, их я удалю в процессе исследования. Показатели среднего чека так же будут меняться в очищенных от дублирующихся пользователей данных, но оно не будет критично. Соотношене дублирующихся пользователей к общему кол-ву пользователей: 58 на 1197, что составляет меньше 5%. Это та погрешность, с которой можно продолжать работать. Исходя из перечисленных аргументов, я принимаю решение не удалять дублирующихся пользователей."
   ]
  },
  {
   "cell_type": "markdown",
   "metadata": {},
   "source": [
    "###  Кумулятивная выручка по группам"
   ]
  },
  {
   "cell_type": "markdown",
   "metadata": {},
   "source": [
    "#### Формирование групп"
   ]
  },
  {
   "cell_type": "code",
   "execution_count": 33,
   "metadata": {},
   "outputs": [],
   "source": [
    "#orders.head()"
   ]
  },
  {
   "cell_type": "markdown",
   "metadata": {},
   "source": [
    "Создаю датафрейм с уникальными парами"
   ]
  },
  {
   "cell_type": "code",
   "execution_count": 34,
   "metadata": {},
   "outputs": [],
   "source": [
    "datesGroups = orders[['date', 'group']].drop_duplicates()\n",
    "#datesGroups.head()"
   ]
  },
  {
   "cell_type": "markdown",
   "metadata": {},
   "source": [
    "Агрегированная переменная по заказам\n"
   ]
  },
  {
   "cell_type": "code",
   "execution_count": 35,
   "metadata": {},
   "outputs": [
    {
     "data": {
      "text/html": [
       "<div>\n",
       "<style scoped>\n",
       "    .dataframe tbody tr th:only-of-type {\n",
       "        vertical-align: middle;\n",
       "    }\n",
       "\n",
       "    .dataframe tbody tr th {\n",
       "        vertical-align: top;\n",
       "    }\n",
       "\n",
       "    .dataframe thead th {\n",
       "        text-align: right;\n",
       "    }\n",
       "</style>\n",
       "<table border=\"1\" class=\"dataframe\">\n",
       "  <thead>\n",
       "    <tr style=\"text-align: right;\">\n",
       "      <th></th>\n",
       "      <th>date</th>\n",
       "      <th>group</th>\n",
       "      <th>transaction_Id</th>\n",
       "      <th>visitor_Id</th>\n",
       "      <th>revenue</th>\n",
       "    </tr>\n",
       "  </thead>\n",
       "  <tbody>\n",
       "    <tr>\n",
       "      <th>55</th>\n",
       "      <td>2019-08-01</td>\n",
       "      <td>A</td>\n",
       "      <td>24</td>\n",
       "      <td>20</td>\n",
       "      <td>148579</td>\n",
       "    </tr>\n",
       "    <tr>\n",
       "      <th>66</th>\n",
       "      <td>2019-08-01</td>\n",
       "      <td>B</td>\n",
       "      <td>21</td>\n",
       "      <td>20</td>\n",
       "      <td>101217</td>\n",
       "    </tr>\n",
       "    <tr>\n",
       "      <th>175</th>\n",
       "      <td>2019-08-02</td>\n",
       "      <td>A</td>\n",
       "      <td>44</td>\n",
       "      <td>38</td>\n",
       "      <td>242401</td>\n",
       "    </tr>\n",
       "    <tr>\n",
       "      <th>173</th>\n",
       "      <td>2019-08-02</td>\n",
       "      <td>B</td>\n",
       "      <td>45</td>\n",
       "      <td>43</td>\n",
       "      <td>266748</td>\n",
       "    </tr>\n",
       "    <tr>\n",
       "      <th>291</th>\n",
       "      <td>2019-08-03</td>\n",
       "      <td>A</td>\n",
       "      <td>68</td>\n",
       "      <td>62</td>\n",
       "      <td>354874</td>\n",
       "    </tr>\n",
       "  </tbody>\n",
       "</table>\n",
       "</div>"
      ],
      "text/plain": [
       "          date group  transaction_Id  visitor_Id  revenue\n",
       "55  2019-08-01     A              24          20   148579\n",
       "66  2019-08-01     B              21          20   101217\n",
       "175 2019-08-02     A              44          38   242401\n",
       "173 2019-08-02     B              45          43   266748\n",
       "291 2019-08-03     A              68          62   354874"
      ]
     },
     "execution_count": 35,
     "metadata": {},
     "output_type": "execute_result"
    }
   ],
   "source": [
    "ordersAggregated = datesGroups.apply(lambda x:\n",
    "orders[np.logical_and(orders['date'] <= x['date'], orders['group'] == x['group'])]\\\n",
    "                                    .agg({'date': 'max', 'group': 'max',\n",
    "                                         'transaction_Id': pd.Series.nunique,\n",
    "                                         'visitor_Id': pd.Series.nunique,\n",
    "                                         'revenue': 'sum'}), axis=1)\\\n",
    "                                    .sort_values(by=['date', 'group'])\n",
    "\n",
    "ordersAggregated.head()"
   ]
  },
  {
   "cell_type": "code",
   "execution_count": 36,
   "metadata": {},
   "outputs": [],
   "source": [
    "#visitors.head(1)"
   ]
  },
  {
   "cell_type": "markdown",
   "metadata": {},
   "source": [
    "Аналогичным образом создаю переменную по посетителям"
   ]
  },
  {
   "cell_type": "code",
   "execution_count": 37,
   "metadata": {},
   "outputs": [],
   "source": [
    "visitorsAggregated = datesGroups.apply(lambda x:\n",
    "visitors[np.logical_and(visitors['date'] <= x['date'], visitors['group'] == x['group'])]\\\n",
    "                                    .agg({'date': 'max', 'group': 'max',\n",
    "                                         'visitors': 'sum'}), axis=1)\\\n",
    "                                    .sort_values(by=['date', 'group'])\n",
    "#visitorsAggregated.head()"
   ]
  },
  {
   "cell_type": "markdown",
   "metadata": {},
   "source": [
    "#### Переменная `cumulativeData` - общая агрегация по заказам и посетителям"
   ]
  },
  {
   "cell_type": "markdown",
   "metadata": {},
   "source": [
    "Создаю кумулятивную переменную, объеденив аггрегированные переменные по заказам и посетителям"
   ]
  },
  {
   "cell_type": "code",
   "execution_count": 38,
   "metadata": {},
   "outputs": [
    {
     "data": {
      "text/html": [
       "<div>\n",
       "<style scoped>\n",
       "    .dataframe tbody tr th:only-of-type {\n",
       "        vertical-align: middle;\n",
       "    }\n",
       "\n",
       "    .dataframe tbody tr th {\n",
       "        vertical-align: top;\n",
       "    }\n",
       "\n",
       "    .dataframe thead th {\n",
       "        text-align: right;\n",
       "    }\n",
       "</style>\n",
       "<table border=\"1\" class=\"dataframe\">\n",
       "  <thead>\n",
       "    <tr style=\"text-align: right;\">\n",
       "      <th></th>\n",
       "      <th>date</th>\n",
       "      <th>group</th>\n",
       "      <th>transaction_Id</th>\n",
       "      <th>visitor_Id</th>\n",
       "      <th>revenue</th>\n",
       "      <th>visitors</th>\n",
       "    </tr>\n",
       "  </thead>\n",
       "  <tbody>\n",
       "    <tr>\n",
       "      <th>0</th>\n",
       "      <td>2019-08-01</td>\n",
       "      <td>A</td>\n",
       "      <td>24</td>\n",
       "      <td>20</td>\n",
       "      <td>148579</td>\n",
       "      <td>719</td>\n",
       "    </tr>\n",
       "    <tr>\n",
       "      <th>1</th>\n",
       "      <td>2019-08-01</td>\n",
       "      <td>B</td>\n",
       "      <td>21</td>\n",
       "      <td>20</td>\n",
       "      <td>101217</td>\n",
       "      <td>713</td>\n",
       "    </tr>\n",
       "    <tr>\n",
       "      <th>2</th>\n",
       "      <td>2019-08-02</td>\n",
       "      <td>A</td>\n",
       "      <td>44</td>\n",
       "      <td>38</td>\n",
       "      <td>242401</td>\n",
       "      <td>1338</td>\n",
       "    </tr>\n",
       "    <tr>\n",
       "      <th>3</th>\n",
       "      <td>2019-08-02</td>\n",
       "      <td>B</td>\n",
       "      <td>45</td>\n",
       "      <td>43</td>\n",
       "      <td>266748</td>\n",
       "      <td>1294</td>\n",
       "    </tr>\n",
       "    <tr>\n",
       "      <th>4</th>\n",
       "      <td>2019-08-03</td>\n",
       "      <td>A</td>\n",
       "      <td>68</td>\n",
       "      <td>62</td>\n",
       "      <td>354874</td>\n",
       "      <td>1845</td>\n",
       "    </tr>\n",
       "  </tbody>\n",
       "</table>\n",
       "</div>"
      ],
      "text/plain": [
       "        date group  transaction_Id  visitor_Id  revenue  visitors\n",
       "0 2019-08-01     A              24          20   148579       719\n",
       "1 2019-08-01     B              21          20   101217       713\n",
       "2 2019-08-02     A              44          38   242401      1338\n",
       "3 2019-08-02     B              45          43   266748      1294\n",
       "4 2019-08-03     A              68          62   354874      1845"
      ]
     },
     "execution_count": 38,
     "metadata": {},
     "output_type": "execute_result"
    }
   ],
   "source": [
    "cumulativeData = ordersAggregated.merge(visitorsAggregated, left_on=['date', 'group'],\\\n",
    "                                        right_on=['date', 'group'])\n",
    "cumulativeData.head()"
   ]
  },
  {
   "cell_type": "markdown",
   "metadata": {},
   "source": [
    "Переименую столбцы"
   ]
  },
  {
   "cell_type": "code",
   "execution_count": 39,
   "metadata": {},
   "outputs": [
    {
     "data": {
      "text/html": [
       "<div>\n",
       "<style scoped>\n",
       "    .dataframe tbody tr th:only-of-type {\n",
       "        vertical-align: middle;\n",
       "    }\n",
       "\n",
       "    .dataframe tbody tr th {\n",
       "        vertical-align: top;\n",
       "    }\n",
       "\n",
       "    .dataframe thead th {\n",
       "        text-align: right;\n",
       "    }\n",
       "</style>\n",
       "<table border=\"1\" class=\"dataframe\">\n",
       "  <thead>\n",
       "    <tr style=\"text-align: right;\">\n",
       "      <th></th>\n",
       "      <th>date</th>\n",
       "      <th>group</th>\n",
       "      <th>orders</th>\n",
       "      <th>buyers</th>\n",
       "      <th>revenue</th>\n",
       "      <th>visitors</th>\n",
       "    </tr>\n",
       "  </thead>\n",
       "  <tbody>\n",
       "  </tbody>\n",
       "</table>\n",
       "</div>"
      ],
      "text/plain": [
       "Empty DataFrame\n",
       "Columns: [date, group, orders, buyers, revenue, visitors]\n",
       "Index: []"
      ]
     },
     "execution_count": 39,
     "metadata": {},
     "output_type": "execute_result"
    }
   ],
   "source": [
    "cumulativeData.columns = ['date', 'group', 'orders', 'buyers', 'revenue', 'visitors']\n",
    "cumulativeData.head(0)"
   ]
  },
  {
   "cell_type": "markdown",
   "metadata": {},
   "source": [
    "#### График кумулятивной выручки"
   ]
  },
  {
   "cell_type": "markdown",
   "metadata": {},
   "source": [
    "Переменная с кумулятивным количеством заказов и кумулятивной выручкой по дням в группе \"А\""
   ]
  },
  {
   "cell_type": "code",
   "execution_count": 40,
   "metadata": {},
   "outputs": [],
   "source": [
    "cumulativeRevenueA = cumulativeData[cumulativeData['group'] == 'A'][['date', 'revenue', 'orders']]\n",
    "#cumulativeRevenueA.head()"
   ]
  },
  {
   "cell_type": "markdown",
   "metadata": {},
   "source": [
    "Переменная с кумулятивным количеством заказов и кумулятивной выручкой по дням в группе \"B\""
   ]
  },
  {
   "cell_type": "code",
   "execution_count": 41,
   "metadata": {},
   "outputs": [],
   "source": [
    "cumulativeRevenueB = cumulativeData[cumulativeData['group'] == 'B'][['date', 'revenue', 'orders']]\n",
    "#cumulativeRevenueB.head()"
   ]
  },
  {
   "cell_type": "code",
   "execution_count": 42,
   "metadata": {},
   "outputs": [
    {
     "data": {
      "image/png": "[encoded data removed]",
      "text/plain": [
       "<Figure size 1500x700 with 1 Axes>"
      ]
     },
     "metadata": {},
     "output_type": "display_data"
    }
   ],
   "source": [
    "plt.figure(figsize=(15, 7))\n",
    "plt.plot(cumulativeRevenueA['date'], cumulativeRevenueA['revenue'], label='группа A')\n",
    "plt.plot(cumulativeRevenueB['date'], cumulativeRevenueB['revenue'], label='группа B')\n",
    "plt.title('Графиик кумулятивной выручки по группам')\n",
    "plt.xlabel('Дата')\n",
    "plt.ylabel('Выручка')\n",
    "plt.legend();"
   ]
  },
  {
   "cell_type": "markdown",
   "metadata": {},
   "source": [
    "#### Вывод\n",
    "На старте теста группы имели приблизительно одинаковый показатель выручки. Но, группа \"В\" изначально была лидером, с небольшим перевесом. У группы \"А\" наблюдается равномерный рост на протяжении всего промежутка тестирования. В середине теста, группа \"В\" значительно выбилась в лидеры и продолжила свой рост. Аномально большие заказы влияют на результат. Их надо будет удалить."
   ]
  },
  {
   "cell_type": "markdown",
   "metadata": {},
   "source": [
    "### График кумулятивного среднего чека по группам"
   ]
  },
  {
   "cell_type": "code",
   "execution_count": 43,
   "metadata": {},
   "outputs": [
    {
     "data": {
      "image/png": "[encoded data removed]",
      "text/plain": [
       "<Figure size 1500x700 with 1 Axes>"
      ]
     },
     "metadata": {},
     "output_type": "display_data"
    }
   ],
   "source": [
    "plt.figure(figsize=(15, 7))\n",
    "plt.plot(cumulativeRevenueA['date'], cumulativeRevenueA['revenue']/cumulativeRevenueA['orders'], label='группа А')\n",
    "plt.plot(cumulativeRevenueB['date'], cumulativeRevenueB['revenue']/cumulativeRevenueB['orders'], label='группа B')\n",
    "plt.title('Графиик кумулятивного среднего чека по группам')\n",
    "plt.xlabel('Дата')\n",
    "plt.ylabel('Средний чек')\n",
    "plt.legend();"
   ]
  },
  {
   "cell_type": "markdown",
   "metadata": {},
   "source": [
    "#### Вывод\n",
    "\n",
    "Значения колеблятся. В первые 5 дней среднйи чек группы \"A\" снижался, но после этого, видно прирост показателя и относительную стабилизацию. Если внимательно присмотреться к графику, то видно, что средний чек группы \"B\" имеет нестабильный показатель. Присутствует резкий рост в среднем чеке после \"2019-80-17\", а так же наблюдается планомерное снижение. Скорей всего это было связано с возможными выбросами, кто-то в этой период сделал очень дорогие покупки. "
   ]
  },
  {
   "cell_type": "markdown",
   "metadata": {},
   "source": [
    "###  Изменения кумулятивного среднего чека группы B к группе A\n"
   ]
  },
  {
   "cell_type": "markdown",
   "metadata": {},
   "source": [
    "#### Переменная `mergedCumulativeRevenue`"
   ]
  },
  {
   "cell_type": "code",
   "execution_count": 44,
   "metadata": {},
   "outputs": [],
   "source": [
    "mergedCumulativeRevenue = cumulativeRevenueA\\\n",
    "    .merge(cumulativeRevenueB, left_on='date', right_on='date', how='left', suffixes=['A', 'B'])\n",
    "#mergedCumulativeRevenue.head()"
   ]
  },
  {
   "cell_type": "markdown",
   "metadata": {},
   "source": [
    "#### График относительного изменения кумулятивного среднего чека группы B к группе А"
   ]
  },
  {
   "cell_type": "code",
   "execution_count": 45,
   "metadata": {},
   "outputs": [
    {
     "data": {
      "image/png": "[encoded data removed]",
      "text/plain": [
       "<Figure size 1500x700 with 1 Axes>"
      ]
     },
     "metadata": {},
     "output_type": "display_data"
    }
   ],
   "source": [
    "plt.figure(figsize=(15, 7))\n",
    "plt.plot(mergedCumulativeRevenue['date'],\\\n",
    "    (mergedCumulativeRevenue['revenueB']/mergedCumulativeRevenue['ordersB'])\\\n",
    "         /(mergedCumulativeRevenue['revenueA']/mergedCumulativeRevenue['ordersA'])-1)\n",
    "plt.title('График относительного различия среднего чека')\n",
    "plt.xlabel('Дата')\n",
    "plt.ylabel('Средний чек')\n",
    "plt.axhline(y=0, color='black', linestyle='--');"
   ]
  },
  {
   "cell_type": "markdown",
   "metadata": {},
   "source": [
    "#### Вывод\n",
    "На графике заметны значительные и резкие изменения в определенных точках. Очередной показатель аномальных выбросов."
   ]
  },
  {
   "cell_type": "markdown",
   "metadata": {},
   "source": [
    "### Кумулятивное среднего количества заказов на посетителя по группам"
   ]
  },
  {
   "cell_type": "code",
   "execution_count": 46,
   "metadata": {},
   "outputs": [],
   "source": [
    "#cumulativeData.head(1)"
   ]
  },
  {
   "cell_type": "markdown",
   "metadata": {},
   "source": [
    "Кумулятивное среднего количества заказов"
   ]
  },
  {
   "cell_type": "code",
   "execution_count": 47,
   "metadata": {},
   "outputs": [],
   "source": [
    "cumulativeData['conversion'] = cumulativeData['orders']/cumulativeData['visitors']\n",
    "#cumulativeData.head()"
   ]
  },
  {
   "cell_type": "markdown",
   "metadata": {},
   "source": [
    "Кумулятивное среднего количества заказов группы А"
   ]
  },
  {
   "cell_type": "code",
   "execution_count": 48,
   "metadata": {},
   "outputs": [],
   "source": [
    "cumulativeDataA = cumulativeData[cumulativeData['group'] == 'A']\n",
    "#cumulativeDataА.head()"
   ]
  },
  {
   "cell_type": "markdown",
   "metadata": {},
   "source": [
    "Кумулятивное среднего количества заказов группы B"
   ]
  },
  {
   "cell_type": "code",
   "execution_count": 49,
   "metadata": {},
   "outputs": [],
   "source": [
    "cumulativeDataB = cumulativeData[cumulativeData['group'] == 'B']\n",
    "#cumulativeDataB.head()"
   ]
  },
  {
   "cell_type": "markdown",
   "metadata": {},
   "source": [
    "#### График кумулятивного среднего количества заказов по группам"
   ]
  },
  {
   "cell_type": "code",
   "execution_count": 50,
   "metadata": {},
   "outputs": [
    {
     "data": {
      "image/png": "[encoded data removed]",
      "text/plain": [
       "<Figure size 1500x700 with 1 Axes>"
      ]
     },
     "metadata": {},
     "output_type": "display_data"
    }
   ],
   "source": [
    "plt.figure(figsize=(15,7))\n",
    "plt.plot(cumulativeDataA['date'], cumulativeDataA['conversion'], label='Группа A')\n",
    "plt.plot(cumulativeDataB['date'], cumulativeDataB['conversion'], label='Группа B')\n",
    "plt.title('График кумулятивного среднего количества заказов по группам')\n",
    "plt.xlabel('Дата')\n",
    "plt.ylabel('Среднего кол-во заказов')\n",
    "plt.legend()\n",
    "# масштаб осей\n",
    "plt.axis([dt.datetime(2019, 8, 1), dt.datetime(2019, 9, 1), 0, 0.05]);"
   ]
  },
  {
   "cell_type": "markdown",
   "metadata": {},
   "source": [
    "#### Вывод\n",
    "    \n",
    "В начале теста, количество заказов группы \"В\" было больше, группы \"А\". Постепенно группа \"В\" стала показывать большее количество заказов и ее показатель выровнялся.  Показатель количества заказов группы \"А\" также показывает стабильное выравнивание, но значения количества заказов гораздо ниже относительно группы \"В\". Масштаб графика был изменен для того, чтобы было видно небольшую амплитуду колебаний абсолютных значений. Иначе, если убрать масштаб, будет казаться, что колебания продолжаются и количество заказов не установилась около своего среднего значения. "
   ]
  },
  {
   "cell_type": "markdown",
   "metadata": {},
   "source": [
    "### График относительных изменений кумулятивного среднего количества заказов на посетителя по группам"
   ]
  },
  {
   "cell_type": "markdown",
   "metadata": {},
   "source": [
    "Объединение переменных с средним количеством заказов по группам"
   ]
  },
  {
   "cell_type": "code",
   "execution_count": 51,
   "metadata": {},
   "outputs": [
    {
     "data": {
      "text/html": [
       "<div>\n",
       "<style scoped>\n",
       "    .dataframe tbody tr th:only-of-type {\n",
       "        vertical-align: middle;\n",
       "    }\n",
       "\n",
       "    .dataframe tbody tr th {\n",
       "        vertical-align: top;\n",
       "    }\n",
       "\n",
       "    .dataframe thead th {\n",
       "        text-align: right;\n",
       "    }\n",
       "</style>\n",
       "<table border=\"1\" class=\"dataframe\">\n",
       "  <thead>\n",
       "    <tr style=\"text-align: right;\">\n",
       "      <th></th>\n",
       "      <th>date</th>\n",
       "      <th>conversionA</th>\n",
       "      <th>conversionB</th>\n",
       "    </tr>\n",
       "  </thead>\n",
       "  <tbody>\n",
       "    <tr>\n",
       "      <th>0</th>\n",
       "      <td>2019-08-01</td>\n",
       "      <td>0.033380</td>\n",
       "      <td>0.029453</td>\n",
       "    </tr>\n",
       "    <tr>\n",
       "      <th>1</th>\n",
       "      <td>2019-08-02</td>\n",
       "      <td>0.032885</td>\n",
       "      <td>0.034776</td>\n",
       "    </tr>\n",
       "    <tr>\n",
       "      <th>2</th>\n",
       "      <td>2019-08-03</td>\n",
       "      <td>0.036856</td>\n",
       "      <td>0.033833</td>\n",
       "    </tr>\n",
       "    <tr>\n",
       "      <th>3</th>\n",
       "      <td>2019-08-04</td>\n",
       "      <td>0.032787</td>\n",
       "      <td>0.030315</td>\n",
       "    </tr>\n",
       "    <tr>\n",
       "      <th>4</th>\n",
       "      <td>2019-08-05</td>\n",
       "      <td>0.032851</td>\n",
       "      <td>0.030793</td>\n",
       "    </tr>\n",
       "  </tbody>\n",
       "</table>\n",
       "</div>"
      ],
      "text/plain": [
       "        date  conversionA  conversionB\n",
       "0 2019-08-01     0.033380     0.029453\n",
       "1 2019-08-02     0.032885     0.034776\n",
       "2 2019-08-03     0.036856     0.033833\n",
       "3 2019-08-04     0.032787     0.030315\n",
       "4 2019-08-05     0.032851     0.030793"
      ]
     },
     "execution_count": 51,
     "metadata": {},
     "output_type": "execute_result"
    }
   ],
   "source": [
    "mergedCumulativeConversions = cumulativeDataA[['date','conversion']]\\\n",
    ".merge(cumulativeDataB[['date','conversion']], left_on='date', right_on='date', how='left', suffixes=['A', 'B'])\n",
    "mergedCumulativeConversions.head()"
   ]
  },
  {
   "cell_type": "code",
   "execution_count": 52,
   "metadata": {},
   "outputs": [
    {
     "data": {
      "image/png": "[encoded data removed]",
      "text/plain": [
       "<Figure size 1500x700 with 1 Axes>"
      ]
     },
     "metadata": {},
     "output_type": "display_data"
    }
   ],
   "source": [
    "plt.figure(figsize=(15, 7))\n",
    "plt.plot(mergedCumulativeConversions['date'], mergedCumulativeConversions['conversionB']/mergedCumulativeConversions['conversionA']-1, label=\"Относительный прирост среднего кол-ва заказов группы B относительно группы A\")\n",
    "plt.legend()\n",
    "plt.title('График относительных изменений кумулятивного среднего количества заказов')\n",
    "plt.xlabel('Дата')\n",
    "plt.ylabel('Среднее кол-во заказов')\n",
    "plt.axhline(y=0, color='black', linestyle='--')\n",
    "plt.axhline(y=0.2, color='grey', linestyle='--')\n",
    "plt.axis([dt.datetime(2019, 8, 1), dt.datetime(2019, 9, 1),  -0.5, 0.5]);"
   ]
  },
  {
   "cell_type": "markdown",
   "metadata": {},
   "source": [
    "#### Вывод\n",
    "    \n",
    "Практически с самого начала группа \"В\" лидирует по среднему количеству заказов. В конце теста зафиксировалась около 15% прироста относительно группы \"А\""
   ]
  },
  {
   "cell_type": "markdown",
   "metadata": {},
   "source": [
    "### Точечный график количества заказов по пользователям"
   ]
  },
  {
   "cell_type": "code",
   "execution_count": 53,
   "metadata": {},
   "outputs": [
    {
     "data": {
      "text/html": [
       "<div>\n",
       "<style scoped>\n",
       "    .dataframe tbody tr th:only-of-type {\n",
       "        vertical-align: middle;\n",
       "    }\n",
       "\n",
       "    .dataframe tbody tr th {\n",
       "        vertical-align: top;\n",
       "    }\n",
       "\n",
       "    .dataframe thead th {\n",
       "        text-align: right;\n",
       "    }\n",
       "</style>\n",
       "<table border=\"1\" class=\"dataframe\">\n",
       "  <thead>\n",
       "    <tr style=\"text-align: right;\">\n",
       "      <th></th>\n",
       "      <th>transaction_Id</th>\n",
       "      <th>visitor_Id</th>\n",
       "      <th>date</th>\n",
       "      <th>revenue</th>\n",
       "      <th>group</th>\n",
       "    </tr>\n",
       "  </thead>\n",
       "  <tbody>\n",
       "    <tr>\n",
       "      <th>0</th>\n",
       "      <td>3667963787</td>\n",
       "      <td>3312258926</td>\n",
       "      <td>2019-08-15</td>\n",
       "      <td>1650</td>\n",
       "      <td>B</td>\n",
       "    </tr>\n",
       "    <tr>\n",
       "      <th>1</th>\n",
       "      <td>2804400009</td>\n",
       "      <td>3642806036</td>\n",
       "      <td>2019-08-15</td>\n",
       "      <td>730</td>\n",
       "      <td>B</td>\n",
       "    </tr>\n",
       "    <tr>\n",
       "      <th>2</th>\n",
       "      <td>2961555356</td>\n",
       "      <td>4069496402</td>\n",
       "      <td>2019-08-15</td>\n",
       "      <td>400</td>\n",
       "      <td>A</td>\n",
       "    </tr>\n",
       "    <tr>\n",
       "      <th>3</th>\n",
       "      <td>3797467345</td>\n",
       "      <td>1196621759</td>\n",
       "      <td>2019-08-15</td>\n",
       "      <td>9759</td>\n",
       "      <td>B</td>\n",
       "    </tr>\n",
       "    <tr>\n",
       "      <th>4</th>\n",
       "      <td>2282983706</td>\n",
       "      <td>2322279887</td>\n",
       "      <td>2019-08-15</td>\n",
       "      <td>2308</td>\n",
       "      <td>B</td>\n",
       "    </tr>\n",
       "  </tbody>\n",
       "</table>\n",
       "</div>"
      ],
      "text/plain": [
       "   transaction_Id  visitor_Id       date  revenue group\n",
       "0      3667963787  3312258926 2019-08-15     1650     B\n",
       "1      2804400009  3642806036 2019-08-15      730     B\n",
       "2      2961555356  4069496402 2019-08-15      400     A\n",
       "3      3797467345  1196621759 2019-08-15     9759     B\n",
       "4      2282983706  2322279887 2019-08-15     2308     B"
      ]
     },
     "execution_count": 53,
     "metadata": {},
     "output_type": "execute_result"
    }
   ],
   "source": [
    "orders.head()"
   ]
  },
  {
   "cell_type": "code",
   "execution_count": 54,
   "metadata": {},
   "outputs": [
    {
     "data": {
      "text/html": [
       "<div>\n",
       "<style scoped>\n",
       "    .dataframe tbody tr th:only-of-type {\n",
       "        vertical-align: middle;\n",
       "    }\n",
       "\n",
       "    .dataframe tbody tr th {\n",
       "        vertical-align: top;\n",
       "    }\n",
       "\n",
       "    .dataframe thead th {\n",
       "        text-align: right;\n",
       "    }\n",
       "</style>\n",
       "<table border=\"1\" class=\"dataframe\">\n",
       "  <thead>\n",
       "    <tr style=\"text-align: right;\">\n",
       "      <th></th>\n",
       "      <th>user_id</th>\n",
       "      <th>orders</th>\n",
       "    </tr>\n",
       "  </thead>\n",
       "  <tbody>\n",
       "    <tr>\n",
       "      <th>0</th>\n",
       "      <td>5114589</td>\n",
       "      <td>1</td>\n",
       "    </tr>\n",
       "    <tr>\n",
       "      <th>1</th>\n",
       "      <td>6958315</td>\n",
       "      <td>1</td>\n",
       "    </tr>\n",
       "    <tr>\n",
       "      <th>2</th>\n",
       "      <td>8300375</td>\n",
       "      <td>2</td>\n",
       "    </tr>\n",
       "    <tr>\n",
       "      <th>3</th>\n",
       "      <td>11685486</td>\n",
       "      <td>1</td>\n",
       "    </tr>\n",
       "    <tr>\n",
       "      <th>4</th>\n",
       "      <td>39475350</td>\n",
       "      <td>1</td>\n",
       "    </tr>\n",
       "  </tbody>\n",
       "</table>\n",
       "</div>"
      ],
      "text/plain": [
       "    user_id  orders\n",
       "0   5114589       1\n",
       "1   6958315       1\n",
       "2   8300375       2\n",
       "3  11685486       1\n",
       "4  39475350       1"
      ]
     },
     "execution_count": 54,
     "metadata": {},
     "output_type": "execute_result"
    }
   ],
   "source": [
    "ordersByUsers = (\n",
    "    orders.groupby('visitor_Id', as_index=False)\n",
    "    .agg({'transaction_Id': 'nunique'})\n",
    ")\n",
    "ordersByUsers.columns = ['user_id','orders']\n",
    "\n",
    "ordersByUsers.head()"
   ]
  },
  {
   "cell_type": "code",
   "execution_count": 55,
   "metadata": {},
   "outputs": [
    {
     "data": {
      "image/png": "[encoded data removed]",
      "text/plain": [
       "<Figure size 1500x700 with 1 Axes>"
      ]
     },
     "metadata": {},
     "output_type": "display_data"
    }
   ],
   "source": [
    "plt.figure(figsize=(15, 7))\n",
    "plt.title('График количества заказов по пользователям')\n",
    "plt.xlabel('Пользователи')\n",
    "plt.ylabel('Заказы')\n",
    "# серия из чисел от 0 до количества наблюдений в ordersByUsers\n",
    "x_values = pd.Series(range(0, len(ordersByUsers)))\n",
    "plt.scatter(x_values, ordersByUsers['orders']);"
   ]
  },
  {
   "cell_type": "markdown",
   "metadata": {},
   "source": [
    "#### Вывод\n",
    "Совсем немного пользователей заказвших более 2-х раз. Для определения границы аномальных пользователей, посчитаю перцентили."
   ]
  },
  {
   "cell_type": "markdown",
   "metadata": {},
   "source": [
    "### 95-й и 99-й перцентили количества заказов на пользователя"
   ]
  },
  {
   "cell_type": "code",
   "execution_count": 56,
   "metadata": {},
   "outputs": [
    {
     "name": "stdout",
     "output_type": "stream",
     "text": [
      "[2. 4.]\n"
     ]
    }
   ],
   "source": [
    "print(np.percentile(ordersByUsers['orders'], [95, 99]))"
   ]
  },
  {
   "cell_type": "markdown",
   "metadata": {},
   "source": [
    "#### Вывод\n",
    "Не более 5% пользователей, совершали больше 2-х заказов и не более 1% больше четырех заказов. Пользователи с заказами больше 2-х будут считаться аномальными."
   ]
  },
  {
   "cell_type": "markdown",
   "metadata": {},
   "source": [
    "### Точечный график стоимостей заказов"
   ]
  },
  {
   "cell_type": "code",
   "execution_count": 57,
   "metadata": {},
   "outputs": [
    {
     "data": {
      "image/png": "[encoded data removed]",
      "text/plain": [
       "<Figure size 1500x700 with 1 Axes>"
      ]
     },
     "metadata": {},
     "output_type": "display_data"
    }
   ],
   "source": [
    "plt.figure(figsize=(15, 7))\n",
    "plt.title('График стоимостей заказов')\n",
    "plt.xlabel('Пользователи')\n",
    "plt.ylabel('Заказы')\n",
    "# серия из чисел от 0 до количества наблюдений в ordersByUsers\n",
    "x_values = pd.Series(range(0, len(orders['revenue'])))\n",
    "plt.scatter(x_values, orders['revenue']);"
   ]
  },
  {
   "cell_type": "markdown",
   "metadata": {},
   "source": [
    "#### Вывод\n",
    "Два очевидных выброса в районе 20т. и 120т."
   ]
  },
  {
   "cell_type": "markdown",
   "metadata": {},
   "source": [
    "**Точечный график без выбросов**\n",
    "\n",
    "Создам новую переменную без выбросов"
   ]
  },
  {
   "cell_type": "code",
   "execution_count": 58,
   "metadata": {},
   "outputs": [],
   "source": [
    "orders_clear = orders.loc[orders['revenue'] <= 20000]"
   ]
  },
  {
   "cell_type": "code",
   "execution_count": 59,
   "metadata": {},
   "outputs": [
    {
     "data": {
      "image/png": "[encoded data removed]",
      "text/plain": [
       "<Figure size 1500x700 with 1 Axes>"
      ]
     },
     "metadata": {},
     "output_type": "display_data"
    }
   ],
   "source": [
    "plt.figure(figsize=(15, 7))\n",
    "plt.title('График стоимостей заказов до 20000 руб.')\n",
    "plt.xlabel('Пользователи')\n",
    "plt.ylabel('Заказы')\n",
    "# серия из чисел от 0 до количества наблюдений в ordersByUsers\n",
    "x_values = pd.Series(range(0, len(orders_clear['revenue'])))\n",
    "plt.scatter(x_values, orders_clear['revenue']);"
   ]
  },
  {
   "cell_type": "markdown",
   "metadata": {},
   "source": [
    "#### Вывод\n",
    "    \n",
    "Получился более наглядный график, в котром отсутствуют выбросы в заках выше 20000 руб. Можно видеть, что остновная масса заказов приходится на сумму до 3000 руб. Но так же видно, что достаточно часто пользователи совершают покупки в диапазоне до 20000 руб.Пищя для размышлейний маркетинговому отделу для реализации продукции стоимостью от 3000 руб. до 20000 руб. "
   ]
  },
  {
   "cell_type": "markdown",
   "metadata": {},
   "source": [
    "### 95-й и 99-й перцентили стоимости заказов"
   ]
  },
  {
   "cell_type": "code",
   "execution_count": 60,
   "metadata": {},
   "outputs": [
    {
     "name": "stdout",
     "output_type": "stream",
     "text": [
      "[28000.  58233.2]\n"
     ]
    }
   ],
   "source": [
    "print(np.percentile(orders['revenue'], [95, 99]))"
   ]
  },
  {
   "cell_type": "markdown",
   "metadata": {},
   "source": [
    "#### Вывод\n",
    "Не больше 5% заказов чек выше 28000 и не больше 1% заказов выше 58233. Значение 58233 возьму для определения границы выбросов."
   ]
  },
  {
   "cell_type": "markdown",
   "metadata": {},
   "source": [
    "### Статистическая значимость различий в среднем количестве заказов на посетителя между группами по «сырым» данным"
   ]
  },
  {
   "cell_type": "markdown",
   "metadata": {},
   "source": [
    "#### Подготовка данных"
   ]
  },
  {
   "cell_type": "code",
   "execution_count": 61,
   "metadata": {},
   "outputs": [
    {
     "data": {
      "text/html": [
       "<div>\n",
       "<style scoped>\n",
       "    .dataframe tbody tr th:only-of-type {\n",
       "        vertical-align: middle;\n",
       "    }\n",
       "\n",
       "    .dataframe tbody tr th {\n",
       "        vertical-align: top;\n",
       "    }\n",
       "\n",
       "    .dataframe thead th {\n",
       "        text-align: right;\n",
       "    }\n",
       "</style>\n",
       "<table border=\"1\" class=\"dataframe\">\n",
       "  <thead>\n",
       "    <tr style=\"text-align: right;\">\n",
       "      <th></th>\n",
       "      <th>transaction_Id</th>\n",
       "      <th>visitor_Id</th>\n",
       "      <th>date</th>\n",
       "      <th>revenue</th>\n",
       "      <th>group</th>\n",
       "    </tr>\n",
       "  </thead>\n",
       "  <tbody>\n",
       "    <tr>\n",
       "      <th>0</th>\n",
       "      <td>3667963787</td>\n",
       "      <td>3312258926</td>\n",
       "      <td>2019-08-15</td>\n",
       "      <td>1650</td>\n",
       "      <td>B</td>\n",
       "    </tr>\n",
       "  </tbody>\n",
       "</table>\n",
       "</div>"
      ],
      "text/plain": [
       "   transaction_Id  visitor_Id       date  revenue group\n",
       "0      3667963787  3312258926 2019-08-15     1650     B"
      ]
     },
     "execution_count": 61,
     "metadata": {},
     "output_type": "execute_result"
    }
   ],
   "source": [
    "orders.head(1)"
   ]
  },
  {
   "cell_type": "code",
   "execution_count": 62,
   "metadata": {},
   "outputs": [
    {
     "data": {
      "text/html": [
       "<div>\n",
       "<style scoped>\n",
       "    .dataframe tbody tr th:only-of-type {\n",
       "        vertical-align: middle;\n",
       "    }\n",
       "\n",
       "    .dataframe tbody tr th {\n",
       "        vertical-align: top;\n",
       "    }\n",
       "\n",
       "    .dataframe thead th {\n",
       "        text-align: right;\n",
       "    }\n",
       "</style>\n",
       "<table border=\"1\" class=\"dataframe\">\n",
       "  <thead>\n",
       "    <tr style=\"text-align: right;\">\n",
       "      <th></th>\n",
       "      <th>date</th>\n",
       "      <th>group</th>\n",
       "      <th>visitors</th>\n",
       "    </tr>\n",
       "  </thead>\n",
       "  <tbody>\n",
       "    <tr>\n",
       "      <th>0</th>\n",
       "      <td>2019-08-01</td>\n",
       "      <td>A</td>\n",
       "      <td>719</td>\n",
       "    </tr>\n",
       "  </tbody>\n",
       "</table>\n",
       "</div>"
      ],
      "text/plain": [
       "        date group  visitors\n",
       "0 2019-08-01     A       719"
      ]
     },
     "execution_count": 62,
     "metadata": {},
     "output_type": "execute_result"
    }
   ],
   "source": [
    "visitors.head(1)"
   ]
  },
  {
   "cell_type": "markdown",
   "metadata": {},
   "source": [
    "Соберу общую таблицу с заказами, клиентами и кумулятивными показателями"
   ]
  },
  {
   "cell_type": "code",
   "execution_count": 63,
   "metadata": {},
   "outputs": [
    {
     "data": {
      "text/html": [
       "<div>\n",
       "<style scoped>\n",
       "    .dataframe tbody tr th:only-of-type {\n",
       "        vertical-align: middle;\n",
       "    }\n",
       "\n",
       "    .dataframe tbody tr th {\n",
       "        vertical-align: top;\n",
       "    }\n",
       "\n",
       "    .dataframe thead th {\n",
       "        text-align: right;\n",
       "    }\n",
       "</style>\n",
       "<table border=\"1\" class=\"dataframe\">\n",
       "  <thead>\n",
       "    <tr style=\"text-align: right;\">\n",
       "      <th></th>\n",
       "      <th>date</th>\n",
       "      <th>ordersPerDateA</th>\n",
       "      <th>revenuePerDateA</th>\n",
       "      <th>ordersPerDateB</th>\n",
       "      <th>revenuePerDateB</th>\n",
       "      <th>ordersCummulativeA</th>\n",
       "      <th>revenueCummulativeA</th>\n",
       "      <th>ordersCummulativeB</th>\n",
       "      <th>revenueCummulativeB</th>\n",
       "      <th>visitorsPerDateA</th>\n",
       "      <th>visitorsPerDateB</th>\n",
       "      <th>visitorsCummulativeA</th>\n",
       "      <th>visitorsCummulativeB</th>\n",
       "    </tr>\n",
       "  </thead>\n",
       "  <tbody>\n",
       "    <tr>\n",
       "      <th>0</th>\n",
       "      <td>2019-08-01</td>\n",
       "      <td>24</td>\n",
       "      <td>148579</td>\n",
       "      <td>21</td>\n",
       "      <td>101217</td>\n",
       "      <td>24</td>\n",
       "      <td>148579</td>\n",
       "      <td>21</td>\n",
       "      <td>101217</td>\n",
       "      <td>719</td>\n",
       "      <td>713</td>\n",
       "      <td>719</td>\n",
       "      <td>713</td>\n",
       "    </tr>\n",
       "    <tr>\n",
       "      <th>1</th>\n",
       "      <td>2019-08-02</td>\n",
       "      <td>20</td>\n",
       "      <td>93822</td>\n",
       "      <td>24</td>\n",
       "      <td>165531</td>\n",
       "      <td>44</td>\n",
       "      <td>242401</td>\n",
       "      <td>45</td>\n",
       "      <td>266748</td>\n",
       "      <td>619</td>\n",
       "      <td>581</td>\n",
       "      <td>1338</td>\n",
       "      <td>1294</td>\n",
       "    </tr>\n",
       "    <tr>\n",
       "      <th>2</th>\n",
       "      <td>2019-08-03</td>\n",
       "      <td>24</td>\n",
       "      <td>112473</td>\n",
       "      <td>16</td>\n",
       "      <td>114248</td>\n",
       "      <td>68</td>\n",
       "      <td>354874</td>\n",
       "      <td>61</td>\n",
       "      <td>380996</td>\n",
       "      <td>507</td>\n",
       "      <td>509</td>\n",
       "      <td>1845</td>\n",
       "      <td>1803</td>\n",
       "    </tr>\n",
       "    <tr>\n",
       "      <th>3</th>\n",
       "      <td>2019-08-04</td>\n",
       "      <td>16</td>\n",
       "      <td>70825</td>\n",
       "      <td>17</td>\n",
       "      <td>108571</td>\n",
       "      <td>84</td>\n",
       "      <td>425699</td>\n",
       "      <td>78</td>\n",
       "      <td>489567</td>\n",
       "      <td>717</td>\n",
       "      <td>770</td>\n",
       "      <td>2562</td>\n",
       "      <td>2573</td>\n",
       "    </tr>\n",
       "    <tr>\n",
       "      <th>4</th>\n",
       "      <td>2019-08-05</td>\n",
       "      <td>25</td>\n",
       "      <td>124218</td>\n",
       "      <td>23</td>\n",
       "      <td>92428</td>\n",
       "      <td>109</td>\n",
       "      <td>549917</td>\n",
       "      <td>101</td>\n",
       "      <td>581995</td>\n",
       "      <td>756</td>\n",
       "      <td>707</td>\n",
       "      <td>3318</td>\n",
       "      <td>3280</td>\n",
       "    </tr>\n",
       "  </tbody>\n",
       "</table>\n",
       "</div>"
      ],
      "text/plain": [
       "        date  ordersPerDateA  revenuePerDateA  ordersPerDateB  \\\n",
       "0 2019-08-01              24           148579              21   \n",
       "1 2019-08-02              20            93822              24   \n",
       "2 2019-08-03              24           112473              16   \n",
       "3 2019-08-04              16            70825              17   \n",
       "4 2019-08-05              25           124218              23   \n",
       "\n",
       "   revenuePerDateB  ordersCummulativeA  revenueCummulativeA  \\\n",
       "0           101217                  24               148579   \n",
       "1           165531                  44               242401   \n",
       "2           114248                  68               354874   \n",
       "3           108571                  84               425699   \n",
       "4            92428                 109               549917   \n",
       "\n",
       "   ordersCummulativeB  revenueCummulativeB  visitorsPerDateA  \\\n",
       "0                  21               101217               719   \n",
       "1                  45               266748               619   \n",
       "2                  61               380996               507   \n",
       "3                  78               489567               717   \n",
       "4                 101               581995               756   \n",
       "\n",
       "   visitorsPerDateB  visitorsCummulativeA  visitorsCummulativeB  \n",
       "0               713                   719                   713  \n",
       "1               581                  1338                  1294  \n",
       "2               509                  1845                  1803  \n",
       "3               770                  2562                  2573  \n",
       "4               707                  3318                  3280  "
      ]
     },
     "execution_count": 63,
     "metadata": {},
     "output_type": "execute_result"
    }
   ],
   "source": [
    "visitorsADaily = visitors[visitors['group'] == 'A'][['date', 'visitors']]\n",
    "visitorsADaily.columns = ['date', 'visitorsPerDateA']\n",
    "#visitorsADaily.head(1)\n",
    "\n",
    "visitorsACummulative = visitorsADaily.apply(\n",
    "    lambda x: visitorsADaily[visitorsADaily['date'] <= x['date']].agg(\n",
    "        {'date': 'max', 'visitorsPerDateA': 'sum'}\n",
    "    ),\n",
    "    axis=1,\n",
    ")\n",
    "visitorsACummulative.columns = ['date', 'visitorsCummulativeA']\n",
    "#visitorsACummulative.head(1)\n",
    "\n",
    "visitorsBDaily = visitors[visitors['group'] == 'B'][['date', 'visitors']]\n",
    "visitorsBDaily.columns = ['date', 'visitorsPerDateB']\n",
    "#visitorsBDaily.head(1)\n",
    "\n",
    "visitorsBCummulative = visitorsBDaily.apply(\n",
    "    lambda x: visitorsBDaily[visitorsBDaily['date'] <= x['date']].agg(\n",
    "        {'date': 'max', 'visitorsPerDateB': 'sum'}\n",
    "    ),\n",
    "    axis=1,\n",
    ")\n",
    "visitorsBCummulative.columns = ['date', 'visitorsCummulativeB']\n",
    "#visitorsBCummulative.head(1)\n",
    "\n",
    "ordersADaily = (\n",
    "    orders[orders['group'] == 'A'][['date', 'transaction_Id', 'visitor_Id', 'revenue']]\n",
    "    .groupby('date', as_index=False)\n",
    "    .agg({'transaction_Id': pd.Series.nunique, 'revenue': 'sum'})\n",
    ")\n",
    "ordersADaily.columns = ['date', 'ordersPerDateA', 'revenuePerDateA']\n",
    "#ordersADaily.head(1)\n",
    "\n",
    "ordersACummulative = ordersADaily.apply(\n",
    "    lambda x: ordersADaily[ordersADaily['date'] <= x['date']].agg(\n",
    "        {'date': 'max', 'ordersPerDateA': 'sum', 'revenuePerDateA': 'sum'}\n",
    "    ),\n",
    "    axis=1,\n",
    ").sort_values(by=['date'])\n",
    "ordersACummulative.columns = [\n",
    "    'date',\n",
    "    'ordersCummulativeA',\n",
    "    'revenueCummulativeA',\n",
    "]\n",
    "#ordersACummulative.head(1)\n",
    "\n",
    "ordersBDaily = (\n",
    "    orders[orders['group'] == 'B'][['date', 'transaction_Id', 'visitor_Id', 'revenue']]\n",
    "    .groupby('date', as_index=False)\n",
    "    .agg({'transaction_Id': pd.Series.nunique, 'revenue': 'sum'})\n",
    ")\n",
    "ordersBDaily.columns = ['date', 'ordersPerDateB', 'revenuePerDateB']\n",
    "#ordersBDaily.head(1)\n",
    "\n",
    "ordersBCummulative = ordersBDaily.apply(\n",
    "    lambda x: ordersBDaily[ordersBDaily['date'] <= x['date']].agg(\n",
    "        {'date': 'max', 'ordersPerDateB': 'sum', 'revenuePerDateB': 'sum'}\n",
    "    ),\n",
    "    axis=1,\n",
    ").sort_values(by=['date'])\n",
    "ordersBCummulative.columns = [\n",
    "    'date',\n",
    "    'ordersCummulativeB',\n",
    "    'revenueCummulativeB',\n",
    "]\n",
    "#ordersBCummulative.head(1)\n",
    "\n",
    "data = (\n",
    "    ordersADaily.merge(\n",
    "        ordersBDaily, left_on='date', right_on='date', how='left'\n",
    "    )\n",
    "    .merge(ordersACummulative, left_on='date', right_on='date', how='left')\n",
    "    .merge(ordersBCummulative, left_on='date', right_on='date', how='left')\n",
    "    .merge(visitorsADaily, left_on='date', right_on='date', how='left')\n",
    "    .merge(visitorsBDaily, left_on='date', right_on='date', how='left')\n",
    "    .merge(visitorsACummulative, left_on='date', right_on='date', how='left')\n",
    "    .merge(visitorsBCummulative, left_on='date', right_on='date', how='left')\n",
    ")\n",
    "data.head(5)"
   ]
  },
  {
   "cell_type": "markdown",
   "metadata": {},
   "source": [
    "Объявлю переменные sampleA и sampleB, в которых пользователям с заказами будет соответствовать число заказов пользователя, а пользователям без заказов — нули."
   ]
  },
  {
   "cell_type": "code",
   "execution_count": 64,
   "metadata": {},
   "outputs": [],
   "source": [
    "ordersByUsersA = (\n",
    "    orders[orders['group'] == 'A']\n",
    "    .groupby('visitor_Id', as_index=False)\n",
    "    .agg({'transaction_Id': pd.Series.nunique})\n",
    ")\n",
    "ordersByUsersA.columns = ['userId', 'orders']\n",
    "#ordersByUsersA.head(5)\n",
    "\n",
    "ordersByUsersB = (\n",
    "    orders[orders['group'] == 'B']\n",
    "    .groupby('visitor_Id', as_index=False)\n",
    "    .agg({'transaction_Id': pd.Series.nunique})\n",
    ")\n",
    "ordersByUsersB.columns = ['userId', 'orders']\n",
    "#ordersByUsersB.head()\n",
    "\n",
    "sampleA = pd.concat(\n",
    "    [\n",
    "        ordersByUsersA['orders'],\n",
    "        pd.Series(\n",
    "            0,\n",
    "            index=np.arange(\n",
    "                data['visitorsPerDateA'].sum() - len(ordersByUsersA['orders'])\n",
    "            ),\n",
    "            name='orders',\n",
    "        ),\n",
    "    ],\n",
    "    axis=0,\n",
    ")\n",
    "#sampleA.head()\n",
    "\n",
    "sampleB = pd.concat(\n",
    "    [\n",
    "        ordersByUsersB['orders'],\n",
    "        pd.Series(\n",
    "            0,\n",
    "            index=np.arange(\n",
    "                data['visitorsPerDateB'].sum() - len(ordersByUsersB['orders'])\n",
    "            ),\n",
    "            name='orders',\n",
    "        ),\n",
    "    ],\n",
    "    axis=0,\n",
    ")\n",
    "#sampleB.head()"
   ]
  },
  {
   "cell_type": "markdown",
   "metadata": {},
   "source": [
    " \n",
    "Нулевая гипотеза **H0** - статистически значимой зависимости в среднем кол-ве заказов нет\n",
    "    \n",
    "Альтернативная гипотеза **H1** - статистически значимая зависимость в среднем кол-ве заказов есть \n",
    "\n",
    "Уровень стат.значимости \"alpha\" я возьму значение в 0.05."
   ]
  },
  {
   "cell_type": "code",
   "execution_count": 65,
   "metadata": {},
   "outputs": [
    {
     "name": "stdout",
     "output_type": "stream",
     "text": [
      "alpha = 0.05\n",
      "p-value = 0.0168\n",
      "Относительный прирост: 0.138\n"
     ]
    }
   ],
   "source": [
    "print('alpha = 0.05')\n",
    "print(\"p-value = {0:.4f}\".format(stats.mannwhitneyu(sampleA, sampleB)[1]))\n",
    "print(\"Относительный прирост: {0:.3f}\".format(sampleB.mean() / sampleA.mean() - 1))"
   ]
  },
  {
   "cell_type": "markdown",
   "metadata": {},
   "source": [
    "#### Вывод\n",
    "    \n",
    "P-value(0.0168) меньше 0.05, поэтому нулевую гипотезу отвергаем. Анализ \"сырых данных\" показывает, что в среднем кол-ве заказов между группами есть статистически значимые различия. Относительный прирость групы \"B\" к среднему кол-ву заказов группы \"A\" равен 13.8%"
   ]
  },
  {
   "cell_type": "markdown",
   "metadata": {},
   "source": [
    "### Статистическая значимость различий в среднем чеке заказа между группами по «сырым» данным"
   ]
  },
  {
   "cell_type": "markdown",
   "metadata": {},
   "source": [
    "    \n",
    "Нулевая гипотеза **H0** - статистически значимой зависимости среднем чеке заказа между группами нет\n",
    "    \n",
    "Альтернативная гипотеза **H1** - статистически значимая зависимость среднем чеке заказа между группами есть\n",
    "\n",
    "alpha = 0.05"
   ]
  },
  {
   "cell_type": "code",
   "execution_count": 66,
   "metadata": {},
   "outputs": [
    {
     "name": "stdout",
     "output_type": "stream",
     "text": [
      "alpha = 0.05\n",
      "p-value = 0.729\n",
      "Относительный прирост: 0.259\n"
     ]
    }
   ],
   "source": [
    "print('alpha = 0.05')\n",
    "print(\"p-value = {0:.3f}\".format(stats.mannwhitneyu(orders[orders['group'] == 'A']['revenue'],\\\n",
    "                                          orders[orders['group'] =='B']['revenue'])[1]))\n",
    "print(\"Относительный прирост: {0:.3f}\".format(orders[orders['group'] == 'B']['revenue']\\\n",
    "                       .mean()/orders[orders['group'] == 'A']['revenue'].mean()-1))"
   ]
  },
  {
   "cell_type": "markdown",
   "metadata": {},
   "source": [
    "#### Вывод\n",
    "P-value(0.729) значительно больше 0.05. Статистически значимых отличий в среднем чеке между группами нет. Средний чек группы \"B\" относительно группы \"A\" больше на 25.9%."
   ]
  },
  {
   "cell_type": "markdown",
   "metadata": {},
   "source": [
    "### Статистическая значимость различий в среднем количестве заказов на посетителя между группами по «очищенным» данным"
   ]
  },
  {
   "cell_type": "markdown",
   "metadata": {},
   "source": [
    "Приму за аномальных пользователей тех, кто совершил более 2-х покупок или пользователей, у который сумма заказа превышает  58233 руб.(округлю до 58000р.)\n",
    "Сделаю срезы пользователей с числом заказов больше 2 — `usersWithManyOrders` и пользователей, совершивших заказы дороже 58000р руб. — `usersWithExpensiveOrders`. Объединю их в таблице `abnormalUsers`, удалю дубликаты, отсортирую по возрастанию. "
   ]
  },
  {
   "cell_type": "markdown",
   "metadata": {},
   "source": [
    "Переменная с теми, кто совершил больше 2-х заказов"
   ]
  },
  {
   "cell_type": "code",
   "execution_count": 67,
   "metadata": {},
   "outputs": [],
   "source": [
    "usersWithManyOrders = pd.concat(\n",
    "    [\n",
    "        ordersByUsersA[ordersByUsersA['orders'] > 2]['userId'],\n",
    "        ordersByUsersB[ordersByUsersB['orders'] > 2]['userId'],\n",
    "    ],\n",
    "    axis=0,\n",
    ")\n",
    "#usersWithManyOrders.head()"
   ]
  },
  {
   "cell_type": "markdown",
   "metadata": {},
   "source": [
    "Переменная с теми, кто совершил покупки свыше 58000р."
   ]
  },
  {
   "cell_type": "code",
   "execution_count": 68,
   "metadata": {},
   "outputs": [],
   "source": [
    "usersWithExpensiveOrders = orders[orders['revenue'] > 58000]['visitor_Id']\n",
    "#usersWithExpensiveOrders.head()"
   ]
  },
  {
   "cell_type": "markdown",
   "metadata": {},
   "source": [
    "Объединю таблицы"
   ]
  },
  {
   "cell_type": "code",
   "execution_count": 69,
   "metadata": {},
   "outputs": [
    {
     "data": {
      "text/plain": [
       "1099    148427295\n",
       "18      199603092\n",
       "23      237748145\n",
       "37      249864742\n",
       "68      457167155\n",
       "dtype: int64"
      ]
     },
     "execution_count": 69,
     "metadata": {},
     "output_type": "execute_result"
    }
   ],
   "source": [
    "abnormalUsers = (\n",
    "    pd.concat([usersWithManyOrders, usersWithExpensiveOrders], axis=0)\n",
    "    .drop_duplicates()\n",
    "    .sort_values()\n",
    ")\n",
    "abnormalUsers.head()"
   ]
  },
  {
   "cell_type": "markdown",
   "metadata": {},
   "source": [
    "Считаю кол-во выбросов"
   ]
  },
  {
   "cell_type": "code",
   "execution_count": 70,
   "metadata": {},
   "outputs": [
    {
     "data": {
      "text/plain": [
       "31"
      ]
     },
     "execution_count": 70,
     "metadata": {},
     "output_type": "execute_result"
    }
   ],
   "source": [
    "len(abnormalUsers)"
   ]
  },
  {
   "cell_type": "markdown",
   "metadata": {},
   "source": [
    "#### Считаю статистическую значимость по заказам с очищенными данными"
   ]
  },
  {
   "cell_type": "markdown",
   "metadata": {},
   "source": [
    "Создам переменные `sampleAFiltered` и `sampleBFiltered`, в которых сохраню очищенные данные о заказах — не включая аномальных пользователей."
   ]
  },
  {
   "cell_type": "code",
   "execution_count": 71,
   "metadata": {},
   "outputs": [],
   "source": [
    "sampleAFiltered = pd.concat(\n",
    "    [\n",
    "        ordersByUsersA[\n",
    "            np.logical_not(ordersByUsersA['userId'].isin(abnormalUsers))\n",
    "        ]['orders'],\n",
    "        pd.Series(\n",
    "            0,\n",
    "            index=np.arange(\n",
    "                data['visitorsPerDateA'].sum() - len(ordersByUsersA['orders'])\n",
    "            ),\n",
    "            name='orders',\n",
    "        ),\n",
    "    ],\n",
    "    axis=0,\n",
    ")\n",
    "#sampleAFiltered.head()\n",
    "\n",
    "sampleBFiltered = pd.concat(\n",
    "    [\n",
    "        ordersByUsersB[\n",
    "            np.logical_not(ordersByUsersB['userId'].isin(abnormalUsers))\n",
    "        ]['orders'],\n",
    "        pd.Series(\n",
    "        0,\n",
    "        index=np.arange(\n",
    "            data['visitorsPerDateB'].sum() - len(ordersByUsersB['orders'])\n",
    "        ),\n",
    "        name='orders',\n",
    "        ),\n",
    "    ],\n",
    "    axis=0,\n",
    ")\n",
    "#sampleBFiltered.head()"
   ]
  },
  {
   "cell_type": "markdown",
   "metadata": {},
   "source": [
    "    \n",
    "Нулевая гипотеза **H0** - статистически значимой зависимости по заказам между группами нет\n",
    "    \n",
    "Альтернативная гипотеза **H1** - статистически значимая зависимость по заказам между группами есть\n",
    "\n",
    "alpha = 0.05"
   ]
  },
  {
   "cell_type": "code",
   "execution_count": 72,
   "metadata": {},
   "outputs": [
    {
     "name": "stdout",
     "output_type": "stream",
     "text": [
      "alpha = 0.05\n",
      "p-value = 0.010\n",
      "Относительный прирост: 0.174\n"
     ]
    }
   ],
   "source": [
    "print('alpha = 0.05')\n",
    "print(\"p-value = {0:.3f}\".format(stats.mannwhitneyu(sampleAFiltered, sampleBFiltered)[1]))\n",
    "print(\"Относительный прирост: {0:.3f}\".format(sampleBFiltered.mean()/sampleAFiltered.mean()-1))"
   ]
  },
  {
   "cell_type": "markdown",
   "metadata": {},
   "source": [
    "#### Вывод\n",
    "P-value(0.010) меньше 0.05, поэтому нулевую гипотезу отвергаем. Анализ \"очищенных данных\" показывает, что в среднем кол-ве заказов между группами есть статистически значимые различия.Относительный прирость групы \"B\" к среднему кол-ву заказов группы \"A\" равен 17.4%, что является большим показателем, чем стат.значимость \"сырых данных\" (13.8%)."
   ]
  },
  {
   "cell_type": "markdown",
   "metadata": {},
   "source": [
    "### Статистическая значимость различий в среднем чеке заказа между группами по «очищенным» данным"
   ]
  },
  {
   "cell_type": "markdown",
   "metadata": {},
   "source": [
    "    \n",
    "Нулевая гипотеза **H0** - статистически значимой зависимости среднем чеке заказа между группами нет\n",
    "    \n",
    "Альтернативная гипотеза **H1** - статистически значимая зависимость среднем чеке заказа между группами есть\n",
    "\n",
    "alpha = 0.05"
   ]
  },
  {
   "cell_type": "code",
   "execution_count": 73,
   "metadata": {},
   "outputs": [
    {
     "name": "stdout",
     "output_type": "stream",
     "text": [
      "alpha = 0.05\n",
      "p-value = 0.798\n",
      "Относительный прирост: -0.020\n"
     ]
    }
   ],
   "source": [
    "print('alpha = 0.05')\n",
    "print('p-value = {0:.3f}'.format(st.mannwhitneyu(\n",
    "    orders[np.logical_and(\n",
    "        orders['group']=='A',\n",
    "        np.logical_not(orders['visitor_Id'].isin(abnormalUsers)))]['revenue'],\n",
    "    orders[np.logical_and(\n",
    "        orders['group']=='B',\n",
    "        np.logical_not(orders['visitor_Id'].isin(abnormalUsers)))]['revenue'])[1]))\n",
    "\n",
    "print(\n",
    "    \"Относительный прирост: {0:.3f}\".format(\n",
    "        orders[\n",
    "            np.logical_and(\n",
    "                orders['group'] == 'B',\n",
    "                np.logical_not(orders['visitor_Id'].isin(abnormalUsers)),\n",
    "            )\n",
    "        ]['revenue'].mean()\n",
    "        / orders[\n",
    "            np.logical_and(\n",
    "                orders['group'] == 'A',\n",
    "                np.logical_not(orders['visitor_Id'].isin(abnormalUsers)),\n",
    "            )\n",
    "        ]['revenue'].mean()\n",
    "        -1\n",
    "    )\n",
    ")"
   ]
  },
  {
   "cell_type": "markdown",
   "metadata": {},
   "source": [
    "#### Вывод\n",
    "P-value(0.798) значительно больше 0.05. Различий в средних чеках нет. Изменились результаты среднего чека группы \"B\", он стал ниже на 2% относительно группы \"A\". Напомню, что при подсчете \"сырых данных\" различие в среднем чеке группы \"B\" относительно группы \"A\" составило 25.9%. Аномальные выбросы влияют на показатель среднего чека. "
   ]
  },
  {
   "cell_type": "markdown",
   "metadata": {},
   "source": [
    "## Вывод"
   ]
  },
  {
   "cell_type": "markdown",
   "metadata": {},
   "source": [
    "  \n",
    "Примите решение по результатам теста и объясните его. Варианты решений:\n",
    " 1. Остановить тест, зафиксировать победу одной из групп.\n",
    " 2. Остановить тест, зафиксировать отсутствие различий между группами.\n",
    " 3. Продолжить тест.\n",
    "\n",
    "Относительный прирост групы \"B\" к количеству заказов группы \"A\" равен 13.8% (по сырым данным).\n",
    "Средний чек группы \"B\" относительно группы \"A\" больше на 25.9%.(по сырым данным).\n",
    "Относительный прирост групы \"B\" к количество заказов группы \"A\" равен 17.4%(очищенные данные).\n",
    "Изменились результаты среднего чека группы \"B\", он стал ниже на 2%\n",
    "\n",
    "По результатам теста, в группа \"B\" показатели количества заказов выше, чем в группе \"A\", как в \"сырых\" так и в \"очищенных\" данных. Показазатели среднего чека у групп незначительно отличаются в 2% в \"очищенных данных\". Стоит обратить внимание, как аномальные выбросы влияют на показатели. \n",
    "\n",
    "Исходя из проведенного анализа, могу рекомендовать остановить анализ и в данном тестировании зафиксировать большую результативность, соответственно и большую выручку, группы \"B\". Так же , рекомендую сделать акцент на повышении среднего чека."
   ]
  },
  {
   "cell_type": "code",
   "execution_count": null,
   "metadata": {},
   "outputs": [],
   "source": []
  }
 ],
 "metadata": {
  "ExecuteTimeLog": [
   {
    "duration": 390,
    "start_time": "2023-03-01T17:27:39.962Z"
   },
   {
    "duration": 133,
    "start_time": "2023-03-01T17:28:01.080Z"
   },
   {
    "duration": 34,
    "start_time": "2023-03-01T17:28:13.923Z"
   },
   {
    "duration": 129,
    "start_time": "2023-03-01T17:28:41.830Z"
   },
   {
    "duration": 73,
    "start_time": "2023-03-01T17:29:20.921Z"
   },
   {
    "duration": 848,
    "start_time": "2023-03-01T18:03:10.724Z"
   },
   {
    "duration": 491,
    "start_time": "2023-03-01T18:04:45.509Z"
   },
   {
    "duration": 4,
    "start_time": "2023-03-01T18:06:29.250Z"
   },
   {
    "duration": 3,
    "start_time": "2023-03-01T18:06:38.859Z"
   },
   {
    "duration": 1211,
    "start_time": "2023-03-02T16:32:35.375Z"
   },
   {
    "duration": 140,
    "start_time": "2023-03-02T16:33:08.761Z"
   },
   {
    "duration": 15,
    "start_time": "2023-03-02T16:35:34.940Z"
   },
   {
    "duration": 19,
    "start_time": "2023-03-02T16:37:33.172Z"
   },
   {
    "duration": 95,
    "start_time": "2023-03-02T16:40:13.911Z"
   },
   {
    "duration": 6,
    "start_time": "2023-03-02T16:40:32.996Z"
   },
   {
    "duration": 6,
    "start_time": "2023-03-02T16:40:38.925Z"
   },
   {
    "duration": 6,
    "start_time": "2023-03-02T16:44:16.991Z"
   },
   {
    "duration": 3,
    "start_time": "2023-03-02T16:46:48.765Z"
   },
   {
    "duration": 8,
    "start_time": "2023-03-02T16:47:04.288Z"
   },
   {
    "duration": 8,
    "start_time": "2023-03-02T16:48:17.865Z"
   },
   {
    "duration": 1304,
    "start_time": "2023-03-04T06:45:00.020Z"
   },
   {
    "duration": 191,
    "start_time": "2023-03-04T06:45:38.625Z"
   },
   {
    "duration": 18,
    "start_time": "2023-03-04T06:45:47.626Z"
   },
   {
    "duration": 20,
    "start_time": "2023-03-04T06:46:01.991Z"
   },
   {
    "duration": 8,
    "start_time": "2023-03-04T06:46:25.636Z"
   },
   {
    "duration": 10,
    "start_time": "2023-03-04T06:46:58.358Z"
   },
   {
    "duration": 3,
    "start_time": "2023-03-04T06:47:22.633Z"
   },
   {
    "duration": 7,
    "start_time": "2023-03-04T06:47:23.590Z"
   },
   {
    "duration": 13,
    "start_time": "2023-03-04T06:47:59.299Z"
   },
   {
    "duration": 14,
    "start_time": "2023-03-04T06:48:23.893Z"
   },
   {
    "duration": 134,
    "start_time": "2023-03-04T06:50:07.035Z"
   },
   {
    "duration": 3,
    "start_time": "2023-03-04T06:50:31.854Z"
   },
   {
    "duration": 9,
    "start_time": "2023-03-04T06:50:38.710Z"
   },
   {
    "duration": 2,
    "start_time": "2023-03-04T06:50:47.661Z"
   },
   {
    "duration": 19,
    "start_time": "2023-03-04T06:50:55.361Z"
   },
   {
    "duration": 5,
    "start_time": "2023-03-04T06:51:03.617Z"
   },
   {
    "duration": 2,
    "start_time": "2023-03-04T06:51:09.458Z"
   },
   {
    "duration": 8,
    "start_time": "2023-03-04T06:51:25.989Z"
   },
   {
    "duration": 15,
    "start_time": "2023-03-04T06:51:46.769Z"
   },
   {
    "duration": 11,
    "start_time": "2023-03-04T06:51:53.571Z"
   },
   {
    "duration": 74,
    "start_time": "2023-03-04T06:53:18.925Z"
   },
   {
    "duration": 14,
    "start_time": "2023-03-04T06:53:28.767Z"
   },
   {
    "duration": 3,
    "start_time": "2023-03-04T06:53:36.775Z"
   },
   {
    "duration": 16,
    "start_time": "2023-03-04T06:53:41.838Z"
   },
   {
    "duration": 5,
    "start_time": "2023-03-04T06:53:51.966Z"
   },
   {
    "duration": 2,
    "start_time": "2023-03-04T06:54:00.450Z"
   },
   {
    "duration": 6,
    "start_time": "2023-03-04T06:54:19.814Z"
   },
   {
    "duration": 11,
    "start_time": "2023-03-04T06:54:26.381Z"
   },
   {
    "duration": 42,
    "start_time": "2023-03-04T06:54:36.276Z"
   },
   {
    "duration": 14,
    "start_time": "2023-03-04T07:22:46.838Z"
   },
   {
    "duration": 10,
    "start_time": "2023-03-04T07:22:59.522Z"
   },
   {
    "duration": 11,
    "start_time": "2023-03-04T07:23:06.999Z"
   },
   {
    "duration": 13,
    "start_time": "2023-03-04T07:38:22.239Z"
   },
   {
    "duration": 10,
    "start_time": "2023-03-04T07:40:56.616Z"
   },
   {
    "duration": 62,
    "start_time": "2023-03-04T07:45:07.113Z"
   },
   {
    "duration": 62,
    "start_time": "2023-03-04T07:45:35.475Z"
   },
   {
    "duration": 65,
    "start_time": "2023-03-04T07:48:20.940Z"
   },
   {
    "duration": 99,
    "start_time": "2023-03-04T07:48:57.858Z"
   },
   {
    "duration": 11,
    "start_time": "2023-03-04T07:49:47.573Z"
   },
   {
    "duration": 173,
    "start_time": "2023-03-04T07:49:51.706Z"
   },
   {
    "duration": 142,
    "start_time": "2023-03-04T07:50:00.859Z"
   },
   {
    "duration": 167,
    "start_time": "2023-03-04T07:50:11.510Z"
   },
   {
    "duration": 33,
    "start_time": "2023-03-04T07:54:00.659Z"
   },
   {
    "duration": 21,
    "start_time": "2023-03-04T07:54:03.190Z"
   },
   {
    "duration": 9,
    "start_time": "2023-03-04T07:54:27.403Z"
   },
   {
    "duration": 148,
    "start_time": "2023-03-04T07:55:43.774Z"
   },
   {
    "duration": 11,
    "start_time": "2023-03-04T07:59:58.008Z"
   },
   {
    "duration": 165,
    "start_time": "2023-03-04T08:07:47.595Z"
   },
   {
    "duration": 151,
    "start_time": "2023-03-04T08:07:50.827Z"
   },
   {
    "duration": 170,
    "start_time": "2023-03-04T08:12:08.301Z"
   },
   {
    "duration": 16,
    "start_time": "2023-03-04T08:14:39.701Z"
   },
   {
    "duration": 3,
    "start_time": "2023-03-04T08:17:00.830Z"
   },
   {
    "duration": 8,
    "start_time": "2023-03-04T08:17:04.910Z"
   },
   {
    "duration": 20,
    "start_time": "2023-03-04T08:31:08.836Z"
   },
   {
    "duration": 7,
    "start_time": "2023-03-04T08:31:17.667Z"
   },
   {
    "duration": 19,
    "start_time": "2023-03-04T08:39:07.216Z"
   },
   {
    "duration": 17,
    "start_time": "2023-03-04T08:39:16.480Z"
   },
   {
    "duration": 5,
    "start_time": "2023-03-04T08:39:41.330Z"
   },
   {
    "duration": 11,
    "start_time": "2023-03-04T08:39:42.128Z"
   },
   {
    "duration": 21,
    "start_time": "2023-03-04T08:40:08.360Z"
   },
   {
    "duration": 179,
    "start_time": "2023-03-04T08:40:22.710Z"
   },
   {
    "duration": 171,
    "start_time": "2023-03-04T08:40:34.856Z"
   },
   {
    "duration": 9,
    "start_time": "2023-03-04T08:42:08.577Z"
   },
   {
    "duration": 8,
    "start_time": "2023-03-04T08:42:16.409Z"
   },
   {
    "duration": 179,
    "start_time": "2023-03-04T08:43:53.812Z"
   },
   {
    "duration": 133,
    "start_time": "2023-03-04T08:44:14.974Z"
   },
   {
    "duration": 123,
    "start_time": "2023-03-04T08:44:22.692Z"
   },
   {
    "duration": 6,
    "start_time": "2023-03-04T08:48:29.675Z"
   },
   {
    "duration": 12,
    "start_time": "2023-03-04T08:48:38.479Z"
   },
   {
    "duration": 729,
    "start_time": "2023-03-04T08:50:23.659Z"
   },
   {
    "duration": 6,
    "start_time": "2023-03-04T08:52:10.716Z"
   },
   {
    "duration": 16,
    "start_time": "2023-03-04T09:04:32.336Z"
   },
   {
    "duration": 9,
    "start_time": "2023-03-04T09:04:42.322Z"
   },
   {
    "duration": 10,
    "start_time": "2023-03-04T09:05:39.667Z"
   },
   {
    "duration": 894,
    "start_time": "2023-03-04T09:12:30.962Z"
   },
   {
    "duration": 251,
    "start_time": "2023-03-04T09:12:47.981Z"
   },
   {
    "duration": 195,
    "start_time": "2023-03-04T09:13:13.134Z"
   },
   {
    "duration": 194,
    "start_time": "2023-03-04T09:13:36.814Z"
   },
   {
    "duration": 201,
    "start_time": "2023-03-04T09:13:45.480Z"
   },
   {
    "duration": 198,
    "start_time": "2023-03-04T09:14:00.188Z"
   },
   {
    "duration": 193,
    "start_time": "2023-03-04T09:14:05.782Z"
   },
   {
    "duration": 243,
    "start_time": "2023-03-04T09:15:02.632Z"
   },
   {
    "duration": 257,
    "start_time": "2023-03-04T09:16:25.834Z"
   },
   {
    "duration": 309,
    "start_time": "2023-03-04T09:16:39.607Z"
   },
   {
    "duration": 233,
    "start_time": "2023-03-04T09:17:00.182Z"
   },
   {
    "duration": 3,
    "start_time": "2023-03-04T09:26:07.828Z"
   },
   {
    "duration": 259,
    "start_time": "2023-03-04T10:35:58.616Z"
   },
   {
    "duration": 6,
    "start_time": "2023-03-04T10:56:29.922Z"
   },
   {
    "duration": 16,
    "start_time": "2023-03-04T10:56:49.168Z"
   },
   {
    "duration": 23,
    "start_time": "2023-03-04T10:57:04.333Z"
   },
   {
    "duration": 416,
    "start_time": "2023-03-04T11:07:53.168Z"
   },
   {
    "duration": 13,
    "start_time": "2023-03-04T13:18:37.181Z"
   },
   {
    "duration": 47,
    "start_time": "2023-03-04T13:18:37.202Z"
   },
   {
    "duration": 14,
    "start_time": "2023-03-04T13:18:37.251Z"
   },
   {
    "duration": 37,
    "start_time": "2023-03-04T13:18:37.268Z"
   },
   {
    "duration": 7,
    "start_time": "2023-03-04T13:18:37.312Z"
   },
   {
    "duration": 47,
    "start_time": "2023-03-04T13:18:37.321Z"
   },
   {
    "duration": 15,
    "start_time": "2023-03-04T13:18:37.370Z"
   },
   {
    "duration": 11,
    "start_time": "2023-03-04T13:18:37.387Z"
   },
   {
    "duration": 19,
    "start_time": "2023-03-04T13:18:37.401Z"
   },
   {
    "duration": 18,
    "start_time": "2023-03-04T13:18:37.422Z"
   },
   {
    "duration": 75,
    "start_time": "2023-03-04T13:18:37.450Z"
   },
   {
    "duration": 2,
    "start_time": "2023-03-04T13:18:37.527Z"
   },
   {
    "duration": 53,
    "start_time": "2023-03-04T13:18:37.530Z"
   },
   {
    "duration": 9,
    "start_time": "2023-03-04T13:18:37.597Z"
   },
   {
    "duration": 26,
    "start_time": "2023-03-04T13:18:37.608Z"
   },
   {
    "duration": 4,
    "start_time": "2023-03-04T13:18:37.638Z"
   },
   {
    "duration": 27,
    "start_time": "2023-03-04T13:18:37.647Z"
   },
   {
    "duration": 4,
    "start_time": "2023-03-04T13:18:37.678Z"
   },
   {
    "duration": 33,
    "start_time": "2023-03-04T13:18:37.683Z"
   },
   {
    "duration": 19,
    "start_time": "2023-03-04T13:18:37.719Z"
   },
   {
    "duration": 50,
    "start_time": "2023-03-04T13:18:37.740Z"
   },
   {
    "duration": 33,
    "start_time": "2023-03-04T13:18:37.797Z"
   },
   {
    "duration": 19,
    "start_time": "2023-03-04T13:18:37.832Z"
   },
   {
    "duration": 7,
    "start_time": "2023-03-04T13:18:37.853Z"
   },
   {
    "duration": 27,
    "start_time": "2023-03-04T13:18:37.864Z"
   },
   {
    "duration": 12,
    "start_time": "2023-03-04T13:18:37.895Z"
   },
   {
    "duration": 3,
    "start_time": "2023-03-04T13:18:37.909Z"
   },
   {
    "duration": 7,
    "start_time": "2023-03-04T13:18:37.914Z"
   },
   {
    "duration": 12,
    "start_time": "2023-03-04T13:18:37.923Z"
   },
   {
    "duration": 3,
    "start_time": "2023-03-04T13:18:37.937Z"
   },
   {
    "duration": 15,
    "start_time": "2023-03-04T13:18:37.941Z"
   },
   {
    "duration": 258,
    "start_time": "2023-03-04T13:18:37.965Z"
   },
   {
    "duration": 2,
    "start_time": "2023-03-04T13:18:38.225Z"
   },
   {
    "duration": 174,
    "start_time": "2023-03-04T13:18:38.230Z"
   },
   {
    "duration": 12,
    "start_time": "2023-03-04T13:18:38.410Z"
   },
   {
    "duration": 6,
    "start_time": "2023-03-04T13:18:38.424Z"
   },
   {
    "duration": 11,
    "start_time": "2023-03-04T13:18:38.441Z"
   },
   {
    "duration": 20,
    "start_time": "2023-03-04T13:18:38.453Z"
   },
   {
    "duration": 272,
    "start_time": "2023-03-04T13:18:38.474Z"
   },
   {
    "duration": 302,
    "start_time": "2023-03-04T13:18:38.748Z"
   },
   {
    "duration": 9,
    "start_time": "2023-03-04T13:18:39.054Z"
   },
   {
    "duration": 346,
    "start_time": "2023-03-04T13:18:39.065Z"
   },
   {
    "duration": 18,
    "start_time": "2023-03-04T13:21:25.866Z"
   },
   {
    "duration": 26,
    "start_time": "2023-03-04T13:21:33.569Z"
   },
   {
    "duration": 14,
    "start_time": "2023-03-04T13:22:20.138Z"
   },
   {
    "duration": 14,
    "start_time": "2023-03-04T13:23:09.124Z"
   },
   {
    "duration": 14,
    "start_time": "2023-03-04T13:24:54.601Z"
   },
   {
    "duration": 26,
    "start_time": "2023-03-04T13:25:35.437Z"
   },
   {
    "duration": 4,
    "start_time": "2023-03-04T13:25:40.112Z"
   },
   {
    "duration": 34,
    "start_time": "2023-03-04T13:32:53.266Z"
   },
   {
    "duration": 255,
    "start_time": "2023-03-04T13:33:01.293Z"
   },
   {
    "duration": 268,
    "start_time": "2023-03-04T13:35:52.169Z"
   },
   {
    "duration": 314,
    "start_time": "2023-03-04T13:36:18.316Z"
   },
   {
    "duration": 12,
    "start_time": "2023-03-04T14:03:27.421Z"
   },
   {
    "duration": 21,
    "start_time": "2023-03-04T14:03:49.117Z"
   },
   {
    "duration": 32,
    "start_time": "2023-03-04T14:03:56.431Z"
   },
   {
    "duration": 24,
    "start_time": "2023-03-04T14:07:42.259Z"
   },
   {
    "duration": 423,
    "start_time": "2023-03-04T14:08:34.515Z"
   },
   {
    "duration": 557,
    "start_time": "2023-03-04T14:09:26.875Z"
   },
   {
    "duration": 371,
    "start_time": "2023-03-04T14:10:10.867Z"
   },
   {
    "duration": 36,
    "start_time": "2023-03-04T14:12:42.792Z"
   },
   {
    "duration": 23,
    "start_time": "2023-03-04T14:13:22.196Z"
   },
   {
    "duration": 14,
    "start_time": "2023-03-04T14:13:23.013Z"
   },
   {
    "duration": 653,
    "start_time": "2023-03-04T14:15:17.698Z"
   },
   {
    "duration": 13,
    "start_time": "2023-03-04T14:16:46.895Z"
   },
   {
    "duration": 48,
    "start_time": "2023-03-04T14:17:17.300Z"
   },
   {
    "duration": 5,
    "start_time": "2023-03-04T14:17:21.333Z"
   },
   {
    "duration": 64,
    "start_time": "2023-03-04T14:17:21.340Z"
   },
   {
    "duration": 24,
    "start_time": "2023-03-04T14:17:21.410Z"
   },
   {
    "duration": 47,
    "start_time": "2023-03-04T14:17:21.437Z"
   },
   {
    "duration": 16,
    "start_time": "2023-03-04T14:17:21.495Z"
   },
   {
    "duration": 15,
    "start_time": "2023-03-04T14:17:21.518Z"
   },
   {
    "duration": 5,
    "start_time": "2023-03-04T14:17:21.535Z"
   },
   {
    "duration": 30,
    "start_time": "2023-03-04T14:17:21.542Z"
   },
   {
    "duration": 37,
    "start_time": "2023-03-04T14:17:21.578Z"
   },
   {
    "duration": 27,
    "start_time": "2023-03-04T14:17:21.618Z"
   },
   {
    "duration": 81,
    "start_time": "2023-03-04T14:17:21.647Z"
   },
   {
    "duration": 3,
    "start_time": "2023-03-04T14:17:21.731Z"
   },
   {
    "duration": 64,
    "start_time": "2023-03-04T14:17:21.735Z"
   },
   {
    "duration": 8,
    "start_time": "2023-03-04T14:17:21.804Z"
   },
   {
    "duration": 36,
    "start_time": "2023-03-04T14:17:21.816Z"
   },
   {
    "duration": 3,
    "start_time": "2023-03-04T14:17:21.854Z"
   },
   {
    "duration": 9,
    "start_time": "2023-03-04T14:17:21.859Z"
   },
   {
    "duration": 2,
    "start_time": "2023-03-04T14:17:21.870Z"
   },
   {
    "duration": 13,
    "start_time": "2023-03-04T14:17:21.874Z"
   },
   {
    "duration": 16,
    "start_time": "2023-03-04T14:17:21.889Z"
   },
   {
    "duration": 15,
    "start_time": "2023-03-04T14:17:21.907Z"
   },
   {
    "duration": 32,
    "start_time": "2023-03-04T14:17:21.924Z"
   },
   {
    "duration": 24,
    "start_time": "2023-03-04T14:17:21.959Z"
   },
   {
    "duration": 3,
    "start_time": "2023-03-04T14:17:21.986Z"
   },
   {
    "duration": 22,
    "start_time": "2023-03-04T14:17:21.991Z"
   },
   {
    "duration": 8,
    "start_time": "2023-03-04T14:17:22.015Z"
   },
   {
    "duration": 3,
    "start_time": "2023-03-04T14:17:22.025Z"
   },
   {
    "duration": 5,
    "start_time": "2023-03-04T14:17:22.030Z"
   },
   {
    "duration": 16,
    "start_time": "2023-03-04T14:17:22.037Z"
   },
   {
    "duration": 2,
    "start_time": "2023-03-04T14:17:22.055Z"
   },
   {
    "duration": 8,
    "start_time": "2023-03-04T14:17:22.059Z"
   },
   {
    "duration": 351,
    "start_time": "2023-03-04T14:17:22.070Z"
   },
   {
    "duration": 4,
    "start_time": "2023-03-04T14:17:22.423Z"
   },
   {
    "duration": 205,
    "start_time": "2023-03-04T14:17:22.429Z"
   },
   {
    "duration": 17,
    "start_time": "2023-03-04T14:17:22.638Z"
   },
   {
    "duration": 32,
    "start_time": "2023-03-04T14:17:22.657Z"
   },
   {
    "duration": 16,
    "start_time": "2023-03-04T14:17:22.693Z"
   },
   {
    "duration": 9,
    "start_time": "2023-03-04T14:17:22.723Z"
   },
   {
    "duration": 350,
    "start_time": "2023-03-04T14:17:22.744Z"
   },
   {
    "duration": 325,
    "start_time": "2023-03-04T14:17:23.096Z"
   },
   {
    "duration": 13,
    "start_time": "2023-03-04T14:17:23.431Z"
   },
   {
    "duration": 482,
    "start_time": "2023-03-04T14:17:23.446Z"
   },
   {
    "duration": 4,
    "start_time": "2023-03-04T14:17:23.934Z"
   },
   {
    "duration": 22,
    "start_time": "2023-03-04T14:17:23.940Z"
   },
   {
    "duration": 12,
    "start_time": "2023-03-04T14:17:23.971Z"
   },
   {
    "duration": 21,
    "start_time": "2023-03-04T14:17:23.986Z"
   },
   {
    "duration": 318,
    "start_time": "2023-03-04T14:17:24.012Z"
   },
   {
    "duration": 14,
    "start_time": "2023-03-04T14:17:24.334Z"
   },
   {
    "duration": 18,
    "start_time": "2023-03-04T14:18:17.666Z"
   },
   {
    "duration": 17,
    "start_time": "2023-03-04T14:18:39.413Z"
   },
   {
    "duration": 1431,
    "start_time": "2023-03-04T14:19:42.084Z"
   },
   {
    "duration": 329,
    "start_time": "2023-03-04T14:20:02.802Z"
   },
   {
    "duration": 401,
    "start_time": "2023-03-04T14:21:27.183Z"
   },
   {
    "duration": 4,
    "start_time": "2023-03-04T14:24:15.711Z"
   },
   {
    "duration": 4,
    "start_time": "2023-03-04T14:24:16.501Z"
   },
   {
    "duration": 247,
    "start_time": "2023-03-04T14:24:21.066Z"
   },
   {
    "duration": 8,
    "start_time": "2023-03-04T14:24:56.683Z"
   },
   {
    "duration": 365,
    "start_time": "2023-03-04T14:25:18.358Z"
   },
   {
    "duration": 1027,
    "start_time": "2023-03-04T14:25:43.869Z"
   },
   {
    "duration": 479,
    "start_time": "2023-03-04T14:26:01.931Z"
   },
   {
    "duration": 357,
    "start_time": "2023-03-04T14:27:00.454Z"
   },
   {
    "duration": 23,
    "start_time": "2023-03-04T14:28:21.369Z"
   },
   {
    "duration": 19,
    "start_time": "2023-03-04T14:29:01.097Z"
   },
   {
    "duration": 1092,
    "start_time": "2023-03-04T14:29:10.317Z"
   },
   {
    "duration": 33,
    "start_time": "2023-03-04T14:29:34.355Z"
   },
   {
    "duration": 13,
    "start_time": "2023-03-04T14:29:41.287Z"
   },
   {
    "duration": 4,
    "start_time": "2023-03-04T14:32:23.292Z"
   },
   {
    "duration": 33,
    "start_time": "2023-03-04T14:32:23.297Z"
   },
   {
    "duration": 22,
    "start_time": "2023-03-04T14:32:23.332Z"
   },
   {
    "duration": 36,
    "start_time": "2023-03-04T14:32:23.356Z"
   },
   {
    "duration": 6,
    "start_time": "2023-03-04T14:32:23.395Z"
   },
   {
    "duration": 8,
    "start_time": "2023-03-04T14:32:23.403Z"
   },
   {
    "duration": 3,
    "start_time": "2023-03-04T14:32:23.413Z"
   },
   {
    "duration": 9,
    "start_time": "2023-03-04T14:32:23.417Z"
   },
   {
    "duration": 28,
    "start_time": "2023-03-04T14:32:23.454Z"
   },
   {
    "duration": 23,
    "start_time": "2023-03-04T14:32:23.484Z"
   },
   {
    "duration": 50,
    "start_time": "2023-03-04T14:32:23.508Z"
   },
   {
    "duration": 4,
    "start_time": "2023-03-04T14:32:23.560Z"
   },
   {
    "duration": 22,
    "start_time": "2023-03-04T14:32:23.572Z"
   },
   {
    "duration": 2,
    "start_time": "2023-03-04T14:32:23.598Z"
   },
   {
    "duration": 16,
    "start_time": "2023-03-04T14:32:23.602Z"
   },
   {
    "duration": 2,
    "start_time": "2023-03-04T14:32:23.619Z"
   },
   {
    "duration": 13,
    "start_time": "2023-03-04T14:32:23.623Z"
   },
   {
    "duration": 8,
    "start_time": "2023-03-04T14:32:23.637Z"
   },
   {
    "duration": 33,
    "start_time": "2023-03-04T14:32:23.646Z"
   },
   {
    "duration": 21,
    "start_time": "2023-03-04T14:32:23.681Z"
   },
   {
    "duration": 12,
    "start_time": "2023-03-04T14:32:23.703Z"
   },
   {
    "duration": 28,
    "start_time": "2023-03-04T14:32:23.716Z"
   },
   {
    "duration": 27,
    "start_time": "2023-03-04T14:32:23.753Z"
   },
   {
    "duration": 12,
    "start_time": "2023-03-04T14:32:23.790Z"
   },
   {
    "duration": 12,
    "start_time": "2023-03-04T14:32:23.805Z"
   },
   {
    "duration": 4,
    "start_time": "2023-03-04T14:32:23.819Z"
   },
   {
    "duration": 8,
    "start_time": "2023-03-04T14:32:23.825Z"
   },
   {
    "duration": 6,
    "start_time": "2023-03-04T14:32:23.834Z"
   },
   {
    "duration": 21,
    "start_time": "2023-03-04T14:32:23.847Z"
   },
   {
    "duration": 23,
    "start_time": "2023-03-04T14:32:23.869Z"
   },
   {
    "duration": 6,
    "start_time": "2023-03-04T14:32:23.894Z"
   },
   {
    "duration": 198,
    "start_time": "2023-03-04T14:32:23.902Z"
   },
   {
    "duration": 2,
    "start_time": "2023-03-04T14:32:24.102Z"
   },
   {
    "duration": 155,
    "start_time": "2023-03-04T14:32:24.106Z"
   },
   {
    "duration": 13,
    "start_time": "2023-03-04T14:32:24.263Z"
   },
   {
    "duration": 16,
    "start_time": "2023-03-04T14:32:24.278Z"
   },
   {
    "duration": 5,
    "start_time": "2023-03-04T14:32:24.298Z"
   },
   {
    "duration": 26,
    "start_time": "2023-03-04T14:32:24.304Z"
   },
   {
    "duration": 272,
    "start_time": "2023-03-04T14:32:24.332Z"
   },
   {
    "duration": 253,
    "start_time": "2023-03-04T14:32:24.607Z"
   },
   {
    "duration": 14,
    "start_time": "2023-03-04T14:32:24.871Z"
   },
   {
    "duration": 329,
    "start_time": "2023-03-04T14:32:24.890Z"
   },
   {
    "duration": 2,
    "start_time": "2023-03-04T14:32:25.221Z"
   },
   {
    "duration": 36,
    "start_time": "2023-03-04T14:32:25.225Z"
   },
   {
    "duration": 18,
    "start_time": "2023-03-04T14:32:25.263Z"
   },
   {
    "duration": 10,
    "start_time": "2023-03-04T14:32:25.283Z"
   },
   {
    "duration": 299,
    "start_time": "2023-03-04T14:32:25.297Z"
   },
   {
    "duration": 14,
    "start_time": "2023-03-04T14:32:25.602Z"
   },
   {
    "duration": 240,
    "start_time": "2023-03-04T14:33:01.461Z"
   },
   {
    "duration": 4,
    "start_time": "2023-03-04T14:33:12.186Z"
   },
   {
    "duration": 3,
    "start_time": "2023-03-04T14:33:12.626Z"
   },
   {
    "duration": 244,
    "start_time": "2023-03-04T14:33:13.660Z"
   },
   {
    "duration": 265,
    "start_time": "2023-03-04T14:35:29.219Z"
   },
   {
    "duration": 7,
    "start_time": "2023-03-04T14:37:06.682Z"
   },
   {
    "duration": 370,
    "start_time": "2023-03-04T14:37:08.239Z"
   },
   {
    "duration": 3,
    "start_time": "2023-03-04T14:37:14.333Z"
   },
   {
    "duration": 3,
    "start_time": "2023-03-04T14:37:14.721Z"
   },
   {
    "duration": 3,
    "start_time": "2023-03-04T14:37:15.109Z"
   },
   {
    "duration": 4,
    "start_time": "2023-03-04T14:37:15.506Z"
   },
   {
    "duration": 310,
    "start_time": "2023-03-04T14:37:17.531Z"
   },
   {
    "duration": 13,
    "start_time": "2023-03-04T14:37:21.125Z"
   },
   {
    "duration": 408,
    "start_time": "2023-03-04T14:38:13.687Z"
   },
   {
    "duration": 335,
    "start_time": "2023-03-04T14:40:45.157Z"
   },
   {
    "duration": 279,
    "start_time": "2023-03-04T14:41:23.577Z"
   },
   {
    "duration": 352,
    "start_time": "2023-03-04T14:41:55.562Z"
   },
   {
    "duration": 369,
    "start_time": "2023-03-04T14:43:17.289Z"
   },
   {
    "duration": 9,
    "start_time": "2023-03-04T14:56:55.925Z"
   },
   {
    "duration": 11,
    "start_time": "2023-03-04T14:57:54.511Z"
   },
   {
    "duration": 8,
    "start_time": "2023-03-04T14:58:03.467Z"
   },
   {
    "duration": 11,
    "start_time": "2023-03-04T14:58:12.329Z"
   },
   {
    "duration": 11,
    "start_time": "2023-03-04T14:59:35.675Z"
   },
   {
    "duration": 961,
    "start_time": "2023-03-04T15:01:14.639Z"
   },
   {
    "duration": 119,
    "start_time": "2023-03-04T15:01:37.915Z"
   },
   {
    "duration": 164,
    "start_time": "2023-03-04T15:03:24.089Z"
   },
   {
    "duration": 154,
    "start_time": "2023-03-04T15:03:32.978Z"
   },
   {
    "duration": 155,
    "start_time": "2023-03-04T15:03:42.275Z"
   },
   {
    "duration": 163,
    "start_time": "2023-03-04T15:04:20.727Z"
   },
   {
    "duration": 6,
    "start_time": "2023-03-04T15:08:22.687Z"
   },
   {
    "duration": 10,
    "start_time": "2023-03-04T15:09:02.158Z"
   },
   {
    "duration": 16,
    "start_time": "2023-03-04T15:09:51.671Z"
   },
   {
    "duration": 185,
    "start_time": "2023-03-04T15:10:00.767Z"
   },
   {
    "duration": 5,
    "start_time": "2023-03-04T15:10:15.910Z"
   },
   {
    "duration": 4,
    "start_time": "2023-03-04T15:10:21.703Z"
   },
   {
    "duration": 1167,
    "start_time": "2023-03-04T15:17:13.782Z"
   },
   {
    "duration": 173,
    "start_time": "2023-03-04T15:18:33.328Z"
   },
   {
    "duration": 19,
    "start_time": "2023-03-04T15:20:19.311Z"
   },
   {
    "duration": 15,
    "start_time": "2023-03-04T15:20:33.868Z"
   },
   {
    "duration": 13,
    "start_time": "2023-03-04T15:20:55.874Z"
   },
   {
    "duration": 8,
    "start_time": "2023-03-04T15:21:03.313Z"
   },
   {
    "duration": 13,
    "start_time": "2023-03-04T15:21:13.564Z"
   },
   {
    "duration": 6,
    "start_time": "2023-03-04T15:21:58.501Z"
   },
   {
    "duration": 5,
    "start_time": "2023-03-04T15:26:24.890Z"
   },
   {
    "duration": 5,
    "start_time": "2023-03-04T19:19:09.005Z"
   },
   {
    "duration": 44,
    "start_time": "2023-03-04T19:19:09.012Z"
   },
   {
    "duration": 19,
    "start_time": "2023-03-04T19:19:09.058Z"
   },
   {
    "duration": 31,
    "start_time": "2023-03-04T19:19:09.080Z"
   },
   {
    "duration": 7,
    "start_time": "2023-03-04T19:19:09.113Z"
   },
   {
    "duration": 28,
    "start_time": "2023-03-04T19:19:09.142Z"
   },
   {
    "duration": 5,
    "start_time": "2023-03-04T19:19:09.173Z"
   },
   {
    "duration": 12,
    "start_time": "2023-03-04T19:19:09.180Z"
   },
   {
    "duration": 23,
    "start_time": "2023-03-04T19:19:09.196Z"
   },
   {
    "duration": 38,
    "start_time": "2023-03-04T19:19:09.222Z"
   },
   {
    "duration": 51,
    "start_time": "2023-03-04T19:19:09.265Z"
   },
   {
    "duration": 2,
    "start_time": "2023-03-04T19:19:09.319Z"
   },
   {
    "duration": 15,
    "start_time": "2023-03-04T19:19:09.324Z"
   },
   {
    "duration": 7,
    "start_time": "2023-03-04T19:19:09.345Z"
   },
   {
    "duration": 30,
    "start_time": "2023-03-04T19:19:09.357Z"
   },
   {
    "duration": 3,
    "start_time": "2023-03-04T19:19:09.390Z"
   },
   {
    "duration": 9,
    "start_time": "2023-03-04T19:19:09.395Z"
   },
   {
    "duration": 3,
    "start_time": "2023-03-04T19:19:09.407Z"
   },
   {
    "duration": 34,
    "start_time": "2023-03-04T19:19:09.413Z"
   },
   {
    "duration": 28,
    "start_time": "2023-03-04T19:19:09.452Z"
   },
   {
    "duration": 19,
    "start_time": "2023-03-04T19:19:09.487Z"
   },
   {
    "duration": 25,
    "start_time": "2023-03-04T19:19:09.509Z"
   },
   {
    "duration": 33,
    "start_time": "2023-03-04T19:19:09.537Z"
   },
   {
    "duration": 5,
    "start_time": "2023-03-04T19:19:09.578Z"
   },
   {
    "duration": 18,
    "start_time": "2023-03-04T19:19:09.585Z"
   },
   {
    "duration": 7,
    "start_time": "2023-03-04T19:19:09.605Z"
   },
   {
    "duration": 19,
    "start_time": "2023-03-04T19:19:09.614Z"
   },
   {
    "duration": 32,
    "start_time": "2023-03-04T19:19:09.635Z"
   },
   {
    "duration": 20,
    "start_time": "2023-03-04T19:19:09.670Z"
   },
   {
    "duration": 2,
    "start_time": "2023-03-04T19:19:09.693Z"
   },
   {
    "duration": 10,
    "start_time": "2023-03-04T19:19:09.697Z"
   },
   {
    "duration": 328,
    "start_time": "2023-03-04T19:19:09.710Z"
   },
   {
    "duration": 2,
    "start_time": "2023-03-04T19:19:10.042Z"
   },
   {
    "duration": 202,
    "start_time": "2023-03-04T19:19:10.046Z"
   },
   {
    "duration": 18,
    "start_time": "2023-03-04T19:19:10.250Z"
   },
   {
    "duration": 13,
    "start_time": "2023-03-04T19:19:10.272Z"
   },
   {
    "duration": 12,
    "start_time": "2023-03-04T19:19:10.287Z"
   },
   {
    "duration": 6,
    "start_time": "2023-03-04T19:19:10.302Z"
   },
   {
    "duration": 501,
    "start_time": "2023-03-04T19:19:10.310Z"
   },
   {
    "duration": 367,
    "start_time": "2023-03-04T19:19:10.813Z"
   },
   {
    "duration": 10,
    "start_time": "2023-03-04T19:19:11.188Z"
   },
   {
    "duration": 406,
    "start_time": "2023-03-04T19:19:11.200Z"
   },
   {
    "duration": 5,
    "start_time": "2023-03-04T19:19:11.612Z"
   },
   {
    "duration": 6,
    "start_time": "2023-03-04T19:19:11.621Z"
   },
   {
    "duration": 22,
    "start_time": "2023-03-04T19:19:11.630Z"
   },
   {
    "duration": 6,
    "start_time": "2023-03-04T19:19:11.657Z"
   },
   {
    "duration": 355,
    "start_time": "2023-03-04T19:19:11.668Z"
   },
   {
    "duration": 21,
    "start_time": "2023-03-04T19:19:12.027Z"
   },
   {
    "duration": 450,
    "start_time": "2023-03-04T19:19:12.050Z"
   },
   {
    "duration": 13,
    "start_time": "2023-03-04T19:19:12.502Z"
   },
   {
    "duration": 31,
    "start_time": "2023-03-04T19:19:12.537Z"
   },
   {
    "duration": 262,
    "start_time": "2023-03-04T19:19:12.571Z"
   },
   {
    "duration": 9,
    "start_time": "2023-03-04T19:19:12.836Z"
   },
   {
    "duration": 274,
    "start_time": "2023-03-04T19:19:12.848Z"
   },
   {
    "duration": 5,
    "start_time": "2023-03-04T19:19:13.124Z"
   },
   {
    "duration": 8,
    "start_time": "2023-03-04T19:50:03.861Z"
   },
   {
    "duration": 7,
    "start_time": "2023-03-04T19:50:10.458Z"
   },
   {
    "duration": 10,
    "start_time": "2023-03-04T19:57:48.469Z"
   },
   {
    "duration": 4,
    "start_time": "2023-03-04T19:57:54.367Z"
   },
   {
    "duration": 58,
    "start_time": "2023-03-04T19:58:24.428Z"
   },
   {
    "duration": 55,
    "start_time": "2023-03-04T19:58:31.770Z"
   },
   {
    "duration": 53,
    "start_time": "2023-03-04T19:58:35.578Z"
   },
   {
    "duration": 50,
    "start_time": "2023-03-04T19:58:48.903Z"
   },
   {
    "duration": 59,
    "start_time": "2023-03-04T19:59:18.297Z"
   },
   {
    "duration": 102,
    "start_time": "2023-03-04T19:59:41.796Z"
   },
   {
    "duration": 94,
    "start_time": "2023-03-04T19:59:52.703Z"
   },
   {
    "duration": 106,
    "start_time": "2023-03-04T20:00:50.529Z"
   },
   {
    "duration": 64,
    "start_time": "2023-03-04T20:03:21.402Z"
   },
   {
    "duration": 118,
    "start_time": "2023-03-04T20:03:53.052Z"
   },
   {
    "duration": 119,
    "start_time": "2023-03-04T20:04:33.054Z"
   },
   {
    "duration": 123,
    "start_time": "2023-03-04T20:06:43.106Z"
   },
   {
    "duration": 111,
    "start_time": "2023-03-04T20:06:46.654Z"
   },
   {
    "duration": 114,
    "start_time": "2023-03-04T20:06:53.432Z"
   },
   {
    "duration": 170,
    "start_time": "2023-03-04T20:07:29.906Z"
   },
   {
    "duration": 197,
    "start_time": "2023-03-04T20:07:43.149Z"
   },
   {
    "duration": 196,
    "start_time": "2023-03-04T20:08:01.214Z"
   },
   {
    "duration": 181,
    "start_time": "2023-03-04T20:08:25.633Z"
   },
   {
    "duration": 203,
    "start_time": "2023-03-04T20:09:09.489Z"
   },
   {
    "duration": 218,
    "start_time": "2023-03-04T20:09:25.258Z"
   },
   {
    "duration": 215,
    "start_time": "2023-03-04T20:09:54.066Z"
   },
   {
    "duration": 232,
    "start_time": "2023-03-04T20:09:57.855Z"
   },
   {
    "duration": 90,
    "start_time": "2023-03-04T20:15:05.207Z"
   },
   {
    "duration": 97,
    "start_time": "2023-03-04T20:15:10.963Z"
   },
   {
    "duration": 74,
    "start_time": "2023-03-04T20:15:18.234Z"
   },
   {
    "duration": 157,
    "start_time": "2023-03-04T20:15:49.389Z"
   },
   {
    "duration": 189,
    "start_time": "2023-03-04T20:17:42.136Z"
   },
   {
    "duration": 184,
    "start_time": "2023-03-04T20:17:53.304Z"
   },
   {
    "duration": 146,
    "start_time": "2023-03-04T20:19:31.459Z"
   },
   {
    "duration": 220,
    "start_time": "2023-03-04T20:19:43.764Z"
   },
   {
    "duration": 160,
    "start_time": "2023-03-04T20:19:50.303Z"
   },
   {
    "duration": 19,
    "start_time": "2023-03-04T20:21:56.949Z"
   },
   {
    "duration": 4,
    "start_time": "2023-03-04T20:22:29.614Z"
   },
   {
    "duration": 33,
    "start_time": "2023-03-04T20:22:37.370Z"
   },
   {
    "duration": 31,
    "start_time": "2023-03-04T20:23:19.029Z"
   },
   {
    "duration": 24,
    "start_time": "2023-03-04T20:23:23.788Z"
   },
   {
    "duration": 10,
    "start_time": "2023-03-04T20:52:24.025Z"
   },
   {
    "duration": 12,
    "start_time": "2023-03-04T21:06:35.303Z"
   },
   {
    "duration": 4,
    "start_time": "2023-03-04T21:09:25.368Z"
   },
   {
    "duration": 35,
    "start_time": "2023-03-04T21:09:25.374Z"
   },
   {
    "duration": 11,
    "start_time": "2023-03-04T21:09:25.412Z"
   },
   {
    "duration": 21,
    "start_time": "2023-03-04T21:09:25.425Z"
   },
   {
    "duration": 12,
    "start_time": "2023-03-04T21:09:25.448Z"
   },
   {
    "duration": 9,
    "start_time": "2023-03-04T21:09:25.462Z"
   },
   {
    "duration": 3,
    "start_time": "2023-03-04T21:09:25.473Z"
   },
   {
    "duration": 13,
    "start_time": "2023-03-04T21:09:25.478Z"
   },
   {
    "duration": 14,
    "start_time": "2023-03-04T21:09:25.493Z"
   },
   {
    "duration": 57,
    "start_time": "2023-03-04T21:09:25.509Z"
   },
   {
    "duration": 46,
    "start_time": "2023-03-04T21:09:25.568Z"
   },
   {
    "duration": 3,
    "start_time": "2023-03-04T21:09:25.615Z"
   },
   {
    "duration": 13,
    "start_time": "2023-03-04T21:09:25.619Z"
   },
   {
    "duration": 5,
    "start_time": "2023-03-04T21:09:25.634Z"
   },
   {
    "duration": 24,
    "start_time": "2023-03-04T21:09:25.642Z"
   },
   {
    "duration": 2,
    "start_time": "2023-03-04T21:09:25.668Z"
   },
   {
    "duration": 6,
    "start_time": "2023-03-04T21:09:25.672Z"
   },
   {
    "duration": 3,
    "start_time": "2023-03-04T21:09:25.680Z"
   },
   {
    "duration": 11,
    "start_time": "2023-03-04T21:09:25.685Z"
   },
   {
    "duration": 13,
    "start_time": "2023-03-04T21:09:25.698Z"
   },
   {
    "duration": 16,
    "start_time": "2023-03-04T21:09:25.748Z"
   },
   {
    "duration": 26,
    "start_time": "2023-03-04T21:09:25.766Z"
   },
   {
    "duration": 11,
    "start_time": "2023-03-04T21:09:25.794Z"
   },
   {
    "duration": 8,
    "start_time": "2023-03-04T21:09:25.808Z"
   },
   {
    "duration": 13,
    "start_time": "2023-03-04T21:09:25.818Z"
   },
   {
    "duration": 9,
    "start_time": "2023-03-04T21:09:25.843Z"
   },
   {
    "duration": 2,
    "start_time": "2023-03-04T21:09:25.856Z"
   },
   {
    "duration": 11,
    "start_time": "2023-03-04T21:09:25.862Z"
   },
   {
    "duration": 16,
    "start_time": "2023-03-04T21:09:25.878Z"
   },
   {
    "duration": 3,
    "start_time": "2023-03-04T21:09:25.896Z"
   },
   {
    "duration": 14,
    "start_time": "2023-03-04T21:09:25.901Z"
   },
   {
    "duration": 239,
    "start_time": "2023-03-04T21:09:25.917Z"
   },
   {
    "duration": 2,
    "start_time": "2023-03-04T21:09:26.162Z"
   },
   {
    "duration": 133,
    "start_time": "2023-03-04T21:09:26.166Z"
   },
   {
    "duration": 14,
    "start_time": "2023-03-04T21:09:26.301Z"
   },
   {
    "duration": 10,
    "start_time": "2023-03-04T21:09:26.317Z"
   },
   {
    "duration": 9,
    "start_time": "2023-03-04T21:09:26.347Z"
   },
   {
    "duration": 5,
    "start_time": "2023-03-04T21:09:26.358Z"
   },
   {
    "duration": 245,
    "start_time": "2023-03-04T21:09:26.364Z"
   },
   {
    "duration": 239,
    "start_time": "2023-03-04T21:09:26.611Z"
   },
   {
    "duration": 6,
    "start_time": "2023-03-04T21:09:26.854Z"
   },
   {
    "duration": 323,
    "start_time": "2023-03-04T21:09:26.862Z"
   },
   {
    "duration": 4,
    "start_time": "2023-03-04T21:09:27.187Z"
   },
   {
    "duration": 4,
    "start_time": "2023-03-04T21:09:27.193Z"
   },
   {
    "duration": 6,
    "start_time": "2023-03-04T21:09:27.199Z"
   },
   {
    "duration": 6,
    "start_time": "2023-03-04T21:09:27.207Z"
   },
   {
    "duration": 280,
    "start_time": "2023-03-04T21:09:27.214Z"
   },
   {
    "duration": 22,
    "start_time": "2023-03-04T21:09:27.496Z"
   },
   {
    "duration": 397,
    "start_time": "2023-03-04T21:09:27.521Z"
   },
   {
    "duration": 21,
    "start_time": "2023-03-04T21:09:27.921Z"
   },
   {
    "duration": 18,
    "start_time": "2023-03-04T21:09:27.944Z"
   },
   {
    "duration": 327,
    "start_time": "2023-03-04T21:09:27.964Z"
   },
   {
    "duration": 5,
    "start_time": "2023-03-04T21:09:28.293Z"
   },
   {
    "duration": 217,
    "start_time": "2023-03-04T21:09:28.300Z"
   },
   {
    "duration": 4,
    "start_time": "2023-03-04T21:09:28.519Z"
   },
   {
    "duration": 16,
    "start_time": "2023-03-04T21:09:28.545Z"
   },
   {
    "duration": 8,
    "start_time": "2023-03-04T21:09:28.563Z"
   },
   {
    "duration": 241,
    "start_time": "2023-03-04T21:09:28.572Z"
   },
   {
    "duration": 148,
    "start_time": "2023-03-04T21:09:28.815Z"
   },
   {
    "duration": 24,
    "start_time": "2023-03-04T21:09:28.965Z"
   },
   {
    "duration": 15,
    "start_time": "2023-03-04T21:09:28.991Z"
   },
   {
    "duration": 9,
    "start_time": "2023-03-04T21:14:05.988Z"
   },
   {
    "duration": 836,
    "start_time": "2023-03-04T21:16:34.554Z"
   },
   {
    "duration": 799,
    "start_time": "2023-03-04T21:18:13.698Z"
   },
   {
    "duration": 8,
    "start_time": "2023-03-04T21:18:17.509Z"
   },
   {
    "duration": 6,
    "start_time": "2023-03-04T21:20:19.458Z"
   },
   {
    "duration": 6,
    "start_time": "2023-03-04T21:21:47.373Z"
   },
   {
    "duration": 9,
    "start_time": "2023-03-04T21:30:33.217Z"
   },
   {
    "duration": 12,
    "start_time": "2023-03-04T21:31:10.779Z"
   },
   {
    "duration": 23,
    "start_time": "2023-03-04T21:31:14.139Z"
   },
   {
    "duration": 34,
    "start_time": "2023-03-04T21:34:04.275Z"
   },
   {
    "duration": 40,
    "start_time": "2023-03-04T21:34:37.964Z"
   },
   {
    "duration": 820,
    "start_time": "2023-03-04T21:51:50.397Z"
   },
   {
    "duration": 51,
    "start_time": "2023-03-04T21:53:08.520Z"
   },
   {
    "duration": 824,
    "start_time": "2023-03-04T22:00:20.470Z"
   },
   {
    "duration": 13,
    "start_time": "2023-03-04T22:00:30.205Z"
   },
   {
    "duration": 9,
    "start_time": "2023-03-04T22:01:44.280Z"
   },
   {
    "duration": 62,
    "start_time": "2023-03-04T22:04:36.927Z"
   },
   {
    "duration": 50,
    "start_time": "2023-03-04T22:04:58.462Z"
   },
   {
    "duration": 783,
    "start_time": "2023-03-04T22:05:18.947Z"
   },
   {
    "duration": 17,
    "start_time": "2023-03-04T22:05:28.399Z"
   },
   {
    "duration": 27,
    "start_time": "2023-03-04T22:10:15.428Z"
   },
   {
    "duration": 4,
    "start_time": "2023-03-04T22:31:55.489Z"
   },
   {
    "duration": 36,
    "start_time": "2023-03-04T22:31:55.495Z"
   },
   {
    "duration": 19,
    "start_time": "2023-03-04T22:31:55.533Z"
   },
   {
    "duration": 22,
    "start_time": "2023-03-04T22:31:55.560Z"
   },
   {
    "duration": 5,
    "start_time": "2023-03-04T22:31:55.584Z"
   },
   {
    "duration": 9,
    "start_time": "2023-03-04T22:31:55.591Z"
   },
   {
    "duration": 11,
    "start_time": "2023-03-04T22:31:55.601Z"
   },
   {
    "duration": 48,
    "start_time": "2023-03-04T22:31:55.614Z"
   },
   {
    "duration": 14,
    "start_time": "2023-03-04T22:31:55.670Z"
   },
   {
    "duration": 15,
    "start_time": "2023-03-04T22:31:55.686Z"
   },
   {
    "duration": 41,
    "start_time": "2023-03-04T22:31:55.703Z"
   },
   {
    "duration": 7,
    "start_time": "2023-03-04T22:31:55.747Z"
   },
   {
    "duration": 11,
    "start_time": "2023-03-04T22:31:55.757Z"
   },
   {
    "duration": 3,
    "start_time": "2023-03-04T22:31:55.770Z"
   },
   {
    "duration": 20,
    "start_time": "2023-03-04T22:31:55.774Z"
   },
   {
    "duration": 2,
    "start_time": "2023-03-04T22:31:55.796Z"
   },
   {
    "duration": 14,
    "start_time": "2023-03-04T22:31:55.800Z"
   },
   {
    "duration": 2,
    "start_time": "2023-03-04T22:31:55.816Z"
   },
   {
    "duration": 40,
    "start_time": "2023-03-04T22:31:55.819Z"
   },
   {
    "duration": 12,
    "start_time": "2023-03-04T22:31:55.866Z"
   },
   {
    "duration": 11,
    "start_time": "2023-03-04T22:31:55.880Z"
   },
   {
    "duration": 21,
    "start_time": "2023-03-04T22:31:55.893Z"
   },
   {
    "duration": 11,
    "start_time": "2023-03-04T22:31:55.917Z"
   },
   {
    "duration": 19,
    "start_time": "2023-03-04T22:31:55.932Z"
   },
   {
    "duration": 14,
    "start_time": "2023-03-04T22:31:55.957Z"
   },
   {
    "duration": 5,
    "start_time": "2023-03-04T22:31:55.973Z"
   },
   {
    "duration": 6,
    "start_time": "2023-03-04T22:31:55.980Z"
   },
   {
    "duration": 6,
    "start_time": "2023-03-04T22:31:55.987Z"
   },
   {
    "duration": 12,
    "start_time": "2023-03-04T22:31:55.995Z"
   },
   {
    "duration": 4,
    "start_time": "2023-03-04T22:31:56.008Z"
   },
   {
    "duration": 31,
    "start_time": "2023-03-04T22:31:56.013Z"
   },
   {
    "duration": 209,
    "start_time": "2023-03-04T22:31:56.053Z"
   },
   {
    "duration": 3,
    "start_time": "2023-03-04T22:31:56.268Z"
   },
   {
    "duration": 129,
    "start_time": "2023-03-04T22:31:56.272Z"
   },
   {
    "duration": 18,
    "start_time": "2023-03-04T22:31:56.403Z"
   },
   {
    "duration": 15,
    "start_time": "2023-03-04T22:31:56.422Z"
   },
   {
    "duration": 18,
    "start_time": "2023-03-04T22:31:56.449Z"
   },
   {
    "duration": 13,
    "start_time": "2023-03-04T22:31:56.469Z"
   },
   {
    "duration": 309,
    "start_time": "2023-03-04T22:31:56.484Z"
   },
   {
    "duration": 270,
    "start_time": "2023-03-04T22:31:56.795Z"
   },
   {
    "duration": 6,
    "start_time": "2023-03-04T22:31:57.070Z"
   },
   {
    "duration": 327,
    "start_time": "2023-03-04T22:31:57.078Z"
   },
   {
    "duration": 3,
    "start_time": "2023-03-04T22:31:57.407Z"
   },
   {
    "duration": 13,
    "start_time": "2023-03-04T22:31:57.412Z"
   },
   {
    "duration": 29,
    "start_time": "2023-03-04T22:31:57.427Z"
   },
   {
    "duration": 12,
    "start_time": "2023-03-04T22:31:57.464Z"
   },
   {
    "duration": 283,
    "start_time": "2023-03-04T22:31:57.478Z"
   },
   {
    "duration": 20,
    "start_time": "2023-03-04T22:31:57.765Z"
   },
   {
    "duration": 317,
    "start_time": "2023-03-04T22:31:57.787Z"
   },
   {
    "duration": 8,
    "start_time": "2023-03-04T22:31:58.107Z"
   },
   {
    "duration": 31,
    "start_time": "2023-03-04T22:31:58.117Z"
   },
   {
    "duration": 152,
    "start_time": "2023-03-04T22:31:58.159Z"
   },
   {
    "duration": 4,
    "start_time": "2023-03-04T22:31:58.313Z"
   },
   {
    "duration": 183,
    "start_time": "2023-03-04T22:31:58.319Z"
   },
   {
    "duration": 4,
    "start_time": "2023-03-04T22:31:58.504Z"
   },
   {
    "duration": 10,
    "start_time": "2023-03-04T22:31:58.509Z"
   },
   {
    "duration": 24,
    "start_time": "2023-03-04T22:31:58.520Z"
   },
   {
    "duration": 230,
    "start_time": "2023-03-04T22:31:58.545Z"
   },
   {
    "duration": 155,
    "start_time": "2023-03-04T22:31:58.777Z"
   },
   {
    "duration": 47,
    "start_time": "2023-03-04T22:31:58.934Z"
   },
   {
    "duration": 9,
    "start_time": "2023-03-04T22:31:58.983Z"
   },
   {
    "duration": 4,
    "start_time": "2023-03-04T22:31:58.994Z"
   },
   {
    "duration": 4,
    "start_time": "2023-03-04T22:31:59.000Z"
   },
   {
    "duration": 7,
    "start_time": "2023-03-04T22:31:59.006Z"
   },
   {
    "duration": 4,
    "start_time": "2023-03-04T22:31:59.015Z"
   },
   {
    "duration": 30,
    "start_time": "2023-03-04T22:31:59.020Z"
   },
   {
    "duration": 35,
    "start_time": "2023-03-04T22:31:59.051Z"
   },
   {
    "duration": 13,
    "start_time": "2023-03-04T22:31:59.087Z"
   },
   {
    "duration": 3,
    "start_time": "2023-03-04T22:32:11.612Z"
   },
   {
    "duration": 30,
    "start_time": "2023-03-04T22:32:12.898Z"
   },
   {
    "duration": 9,
    "start_time": "2023-03-04T22:32:13.306Z"
   },
   {
    "duration": 21,
    "start_time": "2023-03-04T22:32:14.160Z"
   },
   {
    "duration": 6,
    "start_time": "2023-03-04T22:32:14.967Z"
   },
   {
    "duration": 6,
    "start_time": "2023-03-04T22:32:16.401Z"
   },
   {
    "duration": 3,
    "start_time": "2023-03-04T22:32:17.079Z"
   },
   {
    "duration": 20,
    "start_time": "2023-03-04T22:32:17.437Z"
   },
   {
    "duration": 13,
    "start_time": "2023-03-04T22:32:18.425Z"
   },
   {
    "duration": 16,
    "start_time": "2023-03-04T22:32:19.065Z"
   },
   {
    "duration": 50,
    "start_time": "2023-03-04T22:32:20.985Z"
   },
   {
    "duration": 2,
    "start_time": "2023-03-04T22:32:21.305Z"
   },
   {
    "duration": 15,
    "start_time": "2023-03-04T22:32:21.641Z"
   },
   {
    "duration": 2,
    "start_time": "2023-03-04T22:32:21.967Z"
   },
   {
    "duration": 18,
    "start_time": "2023-03-04T22:32:22.282Z"
   },
   {
    "duration": 2,
    "start_time": "2023-03-04T22:32:22.618Z"
   },
   {
    "duration": 6,
    "start_time": "2023-03-04T22:32:22.913Z"
   },
   {
    "duration": 3,
    "start_time": "2023-03-04T22:32:23.231Z"
   },
   {
    "duration": 7,
    "start_time": "2023-03-04T22:32:23.902Z"
   },
   {
    "duration": 25,
    "start_time": "2023-03-04T22:32:24.234Z"
   },
   {
    "duration": 10,
    "start_time": "2023-03-04T22:32:24.523Z"
   },
   {
    "duration": 30,
    "start_time": "2023-03-04T22:32:26.465Z"
   },
   {
    "duration": 10,
    "start_time": "2023-03-04T22:32:27.321Z"
   },
   {
    "duration": 3,
    "start_time": "2023-03-04T22:32:27.918Z"
   },
   {
    "duration": 10,
    "start_time": "2023-03-04T22:32:28.399Z"
   },
   {
    "duration": 5,
    "start_time": "2023-03-04T22:32:28.722Z"
   },
   {
    "duration": 2,
    "start_time": "2023-03-04T22:32:29.068Z"
   },
   {
    "duration": 4,
    "start_time": "2023-03-04T22:32:29.709Z"
   },
   {
    "duration": 9,
    "start_time": "2023-03-04T22:32:29.980Z"
   },
   {
    "duration": 2,
    "start_time": "2023-03-04T22:32:31.167Z"
   },
   {
    "duration": 5,
    "start_time": "2023-03-04T22:32:31.431Z"
   },
   {
    "duration": 197,
    "start_time": "2023-03-04T22:32:31.698Z"
   },
   {
    "duration": 2,
    "start_time": "2023-03-04T22:32:31.966Z"
   },
   {
    "duration": 120,
    "start_time": "2023-03-04T22:32:32.202Z"
   },
   {
    "duration": 11,
    "start_time": "2023-03-04T22:32:32.722Z"
   },
   {
    "duration": 6,
    "start_time": "2023-03-04T22:32:32.991Z"
   },
   {
    "duration": 5,
    "start_time": "2023-03-04T22:32:33.511Z"
   },
   {
    "duration": 4,
    "start_time": "2023-03-04T22:32:33.787Z"
   },
   {
    "duration": 245,
    "start_time": "2023-03-04T22:32:34.059Z"
   },
   {
    "duration": 230,
    "start_time": "2023-03-04T22:32:35.500Z"
   },
   {
    "duration": 7,
    "start_time": "2023-03-04T22:32:47.414Z"
   },
   {
    "duration": 308,
    "start_time": "2023-03-04T22:32:48.586Z"
   },
   {
    "duration": 2,
    "start_time": "2023-03-04T22:32:50.879Z"
   },
   {
    "duration": 4,
    "start_time": "2023-03-04T22:32:51.384Z"
   },
   {
    "duration": 4,
    "start_time": "2023-03-04T22:32:51.836Z"
   },
   {
    "duration": 8,
    "start_time": "2023-03-04T22:32:52.244Z"
   },
   {
    "duration": 340,
    "start_time": "2023-03-04T22:32:53.130Z"
   },
   {
    "duration": 12,
    "start_time": "2023-03-04T22:32:54.912Z"
   },
   {
    "duration": 354,
    "start_time": "2023-03-04T22:32:55.400Z"
   },
   {
    "duration": 13,
    "start_time": "2023-03-04T22:32:56.860Z"
   },
   {
    "duration": 12,
    "start_time": "2023-03-04T22:32:57.312Z"
   },
   {
    "duration": 163,
    "start_time": "2023-03-04T22:32:57.761Z"
   },
   {
    "duration": 3,
    "start_time": "2023-03-04T22:32:59.103Z"
   },
   {
    "duration": 178,
    "start_time": "2023-03-04T22:33:00.335Z"
   },
   {
    "duration": 4,
    "start_time": "2023-03-04T22:33:01.507Z"
   },
   {
    "duration": 8,
    "start_time": "2023-03-04T22:33:03.005Z"
   },
   {
    "duration": 8,
    "start_time": "2023-03-04T22:33:03.364Z"
   },
   {
    "duration": 239,
    "start_time": "2023-03-04T22:33:03.698Z"
   },
   {
    "duration": 148,
    "start_time": "2023-03-04T22:33:04.065Z"
   },
   {
    "duration": 22,
    "start_time": "2023-03-04T22:33:04.414Z"
   },
   {
    "duration": 12,
    "start_time": "2023-03-04T22:33:05.597Z"
   },
   {
    "duration": 6,
    "start_time": "2023-03-04T22:33:07.104Z"
   },
   {
    "duration": 4,
    "start_time": "2023-03-04T22:33:07.528Z"
   },
   {
    "duration": 6,
    "start_time": "2023-03-04T22:33:07.878Z"
   },
   {
    "duration": 4,
    "start_time": "2023-03-04T22:33:08.265Z"
   },
   {
    "duration": 8,
    "start_time": "2023-03-04T22:33:08.999Z"
   },
   {
    "duration": 22,
    "start_time": "2023-03-04T22:33:09.371Z"
   },
   {
    "duration": 16,
    "start_time": "2023-03-04T22:33:10.460Z"
   },
   {
    "duration": 1058,
    "start_time": "2023-03-06T16:44:20.757Z"
   },
   {
    "duration": 127,
    "start_time": "2023-03-06T16:44:21.817Z"
   },
   {
    "duration": 15,
    "start_time": "2023-03-06T16:44:21.947Z"
   },
   {
    "duration": 22,
    "start_time": "2023-03-06T16:44:21.965Z"
   },
   {
    "duration": 5,
    "start_time": "2023-03-06T16:44:21.989Z"
   },
   {
    "duration": 9,
    "start_time": "2023-03-06T16:44:21.995Z"
   },
   {
    "duration": 5,
    "start_time": "2023-03-06T16:44:22.006Z"
   },
   {
    "duration": 29,
    "start_time": "2023-03-06T16:44:22.012Z"
   },
   {
    "duration": 34,
    "start_time": "2023-03-06T16:44:22.043Z"
   },
   {
    "duration": 14,
    "start_time": "2023-03-06T16:44:22.080Z"
   },
   {
    "duration": 77,
    "start_time": "2023-03-06T16:44:22.096Z"
   },
   {
    "duration": 3,
    "start_time": "2023-03-06T16:44:22.175Z"
   },
   {
    "duration": 17,
    "start_time": "2023-03-06T16:44:22.180Z"
   },
   {
    "duration": 14,
    "start_time": "2023-03-06T16:44:22.199Z"
   },
   {
    "duration": 30,
    "start_time": "2023-03-06T16:44:22.215Z"
   },
   {
    "duration": 33,
    "start_time": "2023-03-06T16:44:22.246Z"
   },
   {
    "duration": 12,
    "start_time": "2023-03-06T16:44:22.281Z"
   },
   {
    "duration": 4,
    "start_time": "2023-03-06T16:44:22.295Z"
   },
   {
    "duration": 12,
    "start_time": "2023-03-06T16:44:22.301Z"
   },
   {
    "duration": 14,
    "start_time": "2023-03-06T16:44:22.315Z"
   },
   {
    "duration": 39,
    "start_time": "2023-03-06T16:44:22.331Z"
   },
   {
    "duration": 21,
    "start_time": "2023-03-06T16:44:22.372Z"
   },
   {
    "duration": 8,
    "start_time": "2023-03-06T16:44:22.395Z"
   },
   {
    "duration": 6,
    "start_time": "2023-03-06T16:44:22.404Z"
   },
   {
    "duration": 31,
    "start_time": "2023-03-06T16:44:22.411Z"
   },
   {
    "duration": 26,
    "start_time": "2023-03-06T16:44:22.445Z"
   },
   {
    "duration": 6,
    "start_time": "2023-03-06T16:44:22.473Z"
   },
   {
    "duration": 7,
    "start_time": "2023-03-06T16:44:22.483Z"
   },
   {
    "duration": 12,
    "start_time": "2023-03-06T16:44:22.492Z"
   },
   {
    "duration": 7,
    "start_time": "2023-03-06T16:44:22.505Z"
   },
   {
    "duration": 11,
    "start_time": "2023-03-06T16:44:22.513Z"
   },
   {
    "duration": 186,
    "start_time": "2023-03-06T16:44:22.526Z"
   },
   {
    "duration": 2,
    "start_time": "2023-03-06T16:44:22.714Z"
   },
   {
    "duration": 133,
    "start_time": "2023-03-06T16:44:22.718Z"
   },
   {
    "duration": 11,
    "start_time": "2023-03-06T16:44:22.856Z"
   },
   {
    "duration": 8,
    "start_time": "2023-03-06T16:44:22.869Z"
   },
   {
    "duration": 7,
    "start_time": "2023-03-06T16:44:22.878Z"
   },
   {
    "duration": 10,
    "start_time": "2023-03-06T16:44:22.886Z"
   },
   {
    "duration": 340,
    "start_time": "2023-03-06T16:44:22.898Z"
   },
   {
    "duration": 247,
    "start_time": "2023-03-06T16:44:23.239Z"
   },
   {
    "duration": 8,
    "start_time": "2023-03-06T16:44:23.488Z"
   },
   {
    "duration": 372,
    "start_time": "2023-03-06T16:44:23.497Z"
   },
   {
    "duration": 3,
    "start_time": "2023-03-06T16:44:23.872Z"
   },
   {
    "duration": 13,
    "start_time": "2023-03-06T16:44:23.876Z"
   },
   {
    "duration": 18,
    "start_time": "2023-03-06T16:44:23.890Z"
   },
   {
    "duration": 10,
    "start_time": "2023-03-06T16:44:23.910Z"
   },
   {
    "duration": 223,
    "start_time": "2023-03-06T16:44:23.921Z"
   },
   {
    "duration": 21,
    "start_time": "2023-03-06T16:44:24.146Z"
   },
   {
    "duration": 330,
    "start_time": "2023-03-06T16:44:24.169Z"
   },
   {
    "duration": 8,
    "start_time": "2023-03-06T16:44:24.501Z"
   },
   {
    "duration": 37,
    "start_time": "2023-03-06T16:44:24.510Z"
   },
   {
    "duration": 145,
    "start_time": "2023-03-06T16:44:24.549Z"
   },
   {
    "duration": 4,
    "start_time": "2023-03-06T16:44:24.696Z"
   },
   {
    "duration": 178,
    "start_time": "2023-03-06T16:44:24.701Z"
   },
   {
    "duration": 4,
    "start_time": "2023-03-06T16:44:24.882Z"
   },
   {
    "duration": 26,
    "start_time": "2023-03-06T16:44:24.888Z"
   },
   {
    "duration": 17,
    "start_time": "2023-03-06T16:44:24.916Z"
   },
   {
    "duration": 254,
    "start_time": "2023-03-06T16:44:24.937Z"
   },
   {
    "duration": 143,
    "start_time": "2023-03-06T16:44:25.193Z"
   },
   {
    "duration": 27,
    "start_time": "2023-03-06T16:44:25.344Z"
   },
   {
    "duration": 24,
    "start_time": "2023-03-06T16:44:25.373Z"
   },
   {
    "duration": 139,
    "start_time": "2023-03-06T16:44:25.399Z"
   },
   {
    "duration": 34,
    "start_time": "2023-03-06T16:44:25.540Z"
   },
   {
    "duration": 27,
    "start_time": "2023-03-06T16:44:25.575Z"
   },
   {
    "duration": 16,
    "start_time": "2023-03-06T16:44:25.604Z"
   },
   {
    "duration": 17,
    "start_time": "2023-03-06T16:44:25.622Z"
   },
   {
    "duration": 42,
    "start_time": "2023-03-06T16:44:25.642Z"
   },
   {
    "duration": 15,
    "start_time": "2023-03-06T16:44:25.686Z"
   },
   {
    "duration": 1365,
    "start_time": "2023-03-06T18:43:59.989Z"
   },
   {
    "duration": 150,
    "start_time": "2023-03-06T18:44:01.356Z"
   },
   {
    "duration": 12,
    "start_time": "2023-03-06T18:44:01.507Z"
   },
   {
    "duration": 57,
    "start_time": "2023-03-06T18:44:01.522Z"
   },
   {
    "duration": 39,
    "start_time": "2023-03-06T18:44:01.581Z"
   },
   {
    "duration": 18,
    "start_time": "2023-03-06T18:44:01.622Z"
   },
   {
    "duration": 36,
    "start_time": "2023-03-06T18:44:01.641Z"
   },
   {
    "duration": 11,
    "start_time": "2023-03-06T18:44:01.680Z"
   },
   {
    "duration": 32,
    "start_time": "2023-03-06T18:44:01.692Z"
   },
   {
    "duration": 17,
    "start_time": "2023-03-06T18:44:01.727Z"
   },
   {
    "duration": 117,
    "start_time": "2023-03-06T18:44:01.746Z"
   },
   {
    "duration": 3,
    "start_time": "2023-03-06T18:44:01.866Z"
   },
   {
    "duration": 36,
    "start_time": "2023-03-06T18:44:01.871Z"
   },
   {
    "duration": 7,
    "start_time": "2023-03-06T18:44:01.909Z"
   },
   {
    "duration": 36,
    "start_time": "2023-03-06T18:44:01.917Z"
   },
   {
    "duration": 34,
    "start_time": "2023-03-06T18:44:01.955Z"
   },
   {
    "duration": 26,
    "start_time": "2023-03-06T18:44:01.991Z"
   },
   {
    "duration": 25,
    "start_time": "2023-03-06T18:44:02.019Z"
   },
   {
    "duration": 57,
    "start_time": "2023-03-06T18:44:02.046Z"
   },
   {
    "duration": 29,
    "start_time": "2023-03-06T18:44:02.105Z"
   },
   {
    "duration": 21,
    "start_time": "2023-03-06T18:44:02.136Z"
   },
   {
    "duration": 85,
    "start_time": "2023-03-06T18:44:02.159Z"
   },
   {
    "duration": 11,
    "start_time": "2023-03-06T18:44:02.245Z"
   },
   {
    "duration": 32,
    "start_time": "2023-03-06T18:44:02.258Z"
   },
   {
    "duration": 50,
    "start_time": "2023-03-06T18:44:02.292Z"
   },
   {
    "duration": 39,
    "start_time": "2023-03-06T18:44:02.344Z"
   },
   {
    "duration": 11,
    "start_time": "2023-03-06T18:44:02.384Z"
   },
   {
    "duration": 17,
    "start_time": "2023-03-06T18:44:02.399Z"
   },
   {
    "duration": 18,
    "start_time": "2023-03-06T18:44:02.417Z"
   },
   {
    "duration": 39,
    "start_time": "2023-03-06T18:44:02.437Z"
   },
   {
    "duration": 15,
    "start_time": "2023-03-06T18:44:02.479Z"
   },
   {
    "duration": 212,
    "start_time": "2023-03-06T18:44:02.496Z"
   },
   {
    "duration": 3,
    "start_time": "2023-03-06T18:44:02.710Z"
   },
   {
    "duration": 134,
    "start_time": "2023-03-06T18:44:02.714Z"
   },
   {
    "duration": 23,
    "start_time": "2023-03-06T18:44:02.850Z"
   },
   {
    "duration": 14,
    "start_time": "2023-03-06T18:44:02.875Z"
   },
   {
    "duration": 11,
    "start_time": "2023-03-06T18:44:02.891Z"
   },
   {
    "duration": 6,
    "start_time": "2023-03-06T18:44:02.904Z"
   },
   {
    "duration": 348,
    "start_time": "2023-03-06T18:44:02.912Z"
   },
   {
    "duration": 278,
    "start_time": "2023-03-06T18:44:03.263Z"
   },
   {
    "duration": 6,
    "start_time": "2023-03-06T18:44:03.543Z"
   },
   {
    "duration": 402,
    "start_time": "2023-03-06T18:44:03.551Z"
   },
   {
    "duration": 3,
    "start_time": "2023-03-06T18:44:03.955Z"
   },
   {
    "duration": 5,
    "start_time": "2023-03-06T18:44:03.981Z"
   },
   {
    "duration": 9,
    "start_time": "2023-03-06T18:44:03.988Z"
   },
   {
    "duration": 8,
    "start_time": "2023-03-06T18:44:03.999Z"
   },
   {
    "duration": 257,
    "start_time": "2023-03-06T18:44:04.009Z"
   },
   {
    "duration": 21,
    "start_time": "2023-03-06T18:44:04.268Z"
   },
   {
    "duration": 361,
    "start_time": "2023-03-06T18:44:04.291Z"
   },
   {
    "duration": 21,
    "start_time": "2023-03-06T18:44:04.655Z"
   },
   {
    "duration": 22,
    "start_time": "2023-03-06T18:44:04.678Z"
   },
   {
    "duration": 213,
    "start_time": "2023-03-06T18:44:04.703Z"
   },
   {
    "duration": 4,
    "start_time": "2023-03-06T18:44:04.918Z"
   },
   {
    "duration": 207,
    "start_time": "2023-03-06T18:44:04.923Z"
   },
   {
    "duration": 5,
    "start_time": "2023-03-06T18:44:05.132Z"
   },
   {
    "duration": 14,
    "start_time": "2023-03-06T18:44:05.139Z"
   },
   {
    "duration": 27,
    "start_time": "2023-03-06T18:44:05.165Z"
   },
   {
    "duration": 250,
    "start_time": "2023-03-06T18:44:05.195Z"
   },
   {
    "duration": 173,
    "start_time": "2023-03-06T18:44:05.446Z"
   },
   {
    "duration": 25,
    "start_time": "2023-03-06T18:44:05.620Z"
   },
   {
    "duration": 22,
    "start_time": "2023-03-06T18:44:05.647Z"
   },
   {
    "duration": 19,
    "start_time": "2023-03-06T18:44:05.672Z"
   },
   {
    "duration": 8,
    "start_time": "2023-03-06T18:44:05.693Z"
   },
   {
    "duration": 10,
    "start_time": "2023-03-06T18:44:05.703Z"
   },
   {
    "duration": 10,
    "start_time": "2023-03-06T18:44:05.715Z"
   },
   {
    "duration": 9,
    "start_time": "2023-03-06T18:44:05.726Z"
   },
   {
    "duration": 32,
    "start_time": "2023-03-06T18:44:05.736Z"
   },
   {
    "duration": 19,
    "start_time": "2023-03-06T18:44:05.770Z"
   },
   {
    "duration": 51,
    "start_time": "2023-03-07T07:46:26.086Z"
   },
   {
    "duration": 1264,
    "start_time": "2023-03-07T07:46:43.938Z"
   },
   {
    "duration": 135,
    "start_time": "2023-03-07T07:46:45.204Z"
   },
   {
    "duration": 11,
    "start_time": "2023-03-07T07:46:45.341Z"
   },
   {
    "duration": 36,
    "start_time": "2023-03-07T07:46:45.354Z"
   },
   {
    "duration": 5,
    "start_time": "2023-03-07T07:46:45.393Z"
   },
   {
    "duration": 8,
    "start_time": "2023-03-07T07:46:45.402Z"
   },
   {
    "duration": 5,
    "start_time": "2023-03-07T07:46:45.411Z"
   },
   {
    "duration": 20,
    "start_time": "2023-03-07T07:46:45.418Z"
   },
   {
    "duration": 29,
    "start_time": "2023-03-07T07:46:45.439Z"
   },
   {
    "duration": 15,
    "start_time": "2023-03-07T07:46:45.469Z"
   },
   {
    "duration": 83,
    "start_time": "2023-03-07T07:46:45.486Z"
   },
   {
    "duration": 2,
    "start_time": "2023-03-07T07:46:45.571Z"
   },
   {
    "duration": 14,
    "start_time": "2023-03-07T07:46:45.575Z"
   },
   {
    "duration": 6,
    "start_time": "2023-03-07T07:46:45.592Z"
   },
   {
    "duration": 19,
    "start_time": "2023-03-07T07:46:45.599Z"
   },
   {
    "duration": 6,
    "start_time": "2023-03-07T07:46:45.619Z"
   },
   {
    "duration": 5,
    "start_time": "2023-03-07T07:46:45.627Z"
   },
   {
    "duration": 11,
    "start_time": "2023-03-07T07:46:45.633Z"
   },
   {
    "duration": 19,
    "start_time": "2023-03-07T07:46:45.646Z"
   },
   {
    "duration": 13,
    "start_time": "2023-03-07T07:46:45.667Z"
   },
   {
    "duration": 60,
    "start_time": "2023-03-07T07:46:45.681Z"
   },
   {
    "duration": 10,
    "start_time": "2023-03-07T07:46:45.742Z"
   },
   {
    "duration": 8,
    "start_time": "2023-03-07T07:46:45.753Z"
   },
   {
    "duration": 14,
    "start_time": "2023-03-07T07:46:45.763Z"
   },
   {
    "duration": 15,
    "start_time": "2023-03-07T07:46:45.778Z"
   },
   {
    "duration": 7,
    "start_time": "2023-03-07T07:46:45.794Z"
   },
   {
    "duration": 13,
    "start_time": "2023-03-07T07:46:45.802Z"
   },
   {
    "duration": 15,
    "start_time": "2023-03-07T07:46:45.817Z"
   },
   {
    "duration": 3,
    "start_time": "2023-03-07T07:46:45.834Z"
   },
   {
    "duration": 8,
    "start_time": "2023-03-07T07:46:45.839Z"
   },
   {
    "duration": 249,
    "start_time": "2023-03-07T07:46:45.849Z"
   },
   {
    "duration": 4,
    "start_time": "2023-03-07T07:46:46.099Z"
   },
   {
    "duration": 140,
    "start_time": "2023-03-07T07:46:46.105Z"
   },
   {
    "duration": 12,
    "start_time": "2023-03-07T07:46:46.247Z"
   },
   {
    "duration": 18,
    "start_time": "2023-03-07T07:46:46.261Z"
   },
   {
    "duration": 12,
    "start_time": "2023-03-07T07:46:46.280Z"
   },
   {
    "duration": 11,
    "start_time": "2023-03-07T07:46:46.294Z"
   },
   {
    "duration": 329,
    "start_time": "2023-03-07T07:46:46.307Z"
   },
   {
    "duration": 269,
    "start_time": "2023-03-07T07:46:46.637Z"
   },
   {
    "duration": 7,
    "start_time": "2023-03-07T07:46:46.908Z"
   },
   {
    "duration": 361,
    "start_time": "2023-03-07T07:46:46.920Z"
   },
   {
    "duration": 2,
    "start_time": "2023-03-07T07:46:47.284Z"
   },
   {
    "duration": 9,
    "start_time": "2023-03-07T07:46:47.302Z"
   },
   {
    "duration": 12,
    "start_time": "2023-03-07T07:46:47.312Z"
   },
   {
    "duration": 8,
    "start_time": "2023-03-07T07:46:47.326Z"
   },
   {
    "duration": 219,
    "start_time": "2023-03-07T07:46:47.336Z"
   },
   {
    "duration": 15,
    "start_time": "2023-03-07T07:46:47.557Z"
   },
   {
    "duration": 360,
    "start_time": "2023-03-07T07:46:47.574Z"
   },
   {
    "duration": 9,
    "start_time": "2023-03-07T07:46:47.935Z"
   },
   {
    "duration": 15,
    "start_time": "2023-03-07T07:46:47.946Z"
   },
   {
    "duration": 171,
    "start_time": "2023-03-07T07:46:47.964Z"
   },
   {
    "duration": 5,
    "start_time": "2023-03-07T07:46:48.137Z"
   },
   {
    "duration": 225,
    "start_time": "2023-03-07T07:46:48.144Z"
   },
   {
    "duration": 5,
    "start_time": "2023-03-07T07:46:48.372Z"
   },
   {
    "duration": 28,
    "start_time": "2023-03-07T07:46:48.379Z"
   },
   {
    "duration": 19,
    "start_time": "2023-03-07T07:46:48.411Z"
   },
   {
    "duration": 253,
    "start_time": "2023-03-07T07:46:48.432Z"
   },
   {
    "duration": 170,
    "start_time": "2023-03-07T07:46:48.687Z"
   },
   {
    "duration": 21,
    "start_time": "2023-03-07T07:46:48.859Z"
   },
   {
    "duration": 23,
    "start_time": "2023-03-07T07:46:48.881Z"
   },
   {
    "duration": 5,
    "start_time": "2023-03-07T07:46:48.906Z"
   },
   {
    "duration": 10,
    "start_time": "2023-03-07T07:46:48.913Z"
   },
   {
    "duration": 10,
    "start_time": "2023-03-07T07:46:48.924Z"
   },
   {
    "duration": 9,
    "start_time": "2023-03-07T07:46:48.936Z"
   },
   {
    "duration": 9,
    "start_time": "2023-03-07T07:46:48.946Z"
   },
   {
    "duration": 26,
    "start_time": "2023-03-07T07:46:48.956Z"
   },
   {
    "duration": 27,
    "start_time": "2023-03-07T07:46:48.984Z"
   },
   {
    "duration": 11,
    "start_time": "2023-03-07T07:47:43.897Z"
   },
   {
    "duration": 8,
    "start_time": "2023-03-07T07:52:27.236Z"
   },
   {
    "duration": 86,
    "start_time": "2023-03-07T08:45:46.919Z"
   },
   {
    "duration": 17,
    "start_time": "2023-03-07T08:46:01.429Z"
   },
   {
    "duration": 208,
    "start_time": "2023-03-07T08:59:25.737Z"
   },
   {
    "duration": 330,
    "start_time": "2023-03-07T08:59:43.041Z"
   },
   {
    "duration": 275,
    "start_time": "2023-03-07T09:00:23.101Z"
   },
   {
    "duration": 283,
    "start_time": "2023-03-07T09:00:33.823Z"
   },
   {
    "duration": 290,
    "start_time": "2023-03-07T09:03:13.205Z"
   },
   {
    "duration": 735,
    "start_time": "2023-03-07T09:06:40.475Z"
   },
   {
    "duration": 4,
    "start_time": "2023-03-07T09:07:07.041Z"
   },
   {
    "duration": 302,
    "start_time": "2023-03-07T09:07:37.975Z"
   },
   {
    "duration": 304,
    "start_time": "2023-03-07T09:12:20.722Z"
   },
   {
    "duration": 5,
    "start_time": "2023-03-07T09:14:28.202Z"
   },
   {
    "duration": 286,
    "start_time": "2023-03-07T09:14:42.722Z"
   },
   {
    "duration": 14,
    "start_time": "2023-03-07T09:38:23.802Z"
   },
   {
    "duration": 201,
    "start_time": "2023-03-07T09:38:53.416Z"
   },
   {
    "duration": 121,
    "start_time": "2023-03-07T09:39:12.210Z"
   },
   {
    "duration": 395,
    "start_time": "2023-03-07T09:40:06.192Z"
   },
   {
    "duration": 14,
    "start_time": "2023-03-07T09:41:08.718Z"
   },
   {
    "duration": 8,
    "start_time": "2023-03-07T09:41:11.334Z"
   },
   {
    "duration": 5,
    "start_time": "2023-03-07T09:41:41.670Z"
   },
   {
    "duration": 5,
    "start_time": "2023-03-07T09:42:05.394Z"
   },
   {
    "duration": 242,
    "start_time": "2023-03-07T09:42:11.060Z"
   },
   {
    "duration": 222,
    "start_time": "2023-03-07T10:04:27.191Z"
   },
   {
    "duration": 225,
    "start_time": "2023-03-07T10:04:37.445Z"
   },
   {
    "duration": 1098,
    "start_time": "2023-03-07T10:06:17.042Z"
   },
   {
    "duration": 4,
    "start_time": "2023-03-07T10:06:29.649Z"
   },
   {
    "duration": 14,
    "start_time": "2023-03-07T10:08:56.200Z"
   },
   {
    "duration": 19,
    "start_time": "2023-03-07T10:09:08.698Z"
   },
   {
    "duration": 3,
    "start_time": "2023-03-07T10:09:55.791Z"
   },
   {
    "duration": 45,
    "start_time": "2023-03-07T10:09:55.796Z"
   },
   {
    "duration": 11,
    "start_time": "2023-03-07T10:09:55.842Z"
   },
   {
    "duration": 26,
    "start_time": "2023-03-07T10:09:55.855Z"
   },
   {
    "duration": 36,
    "start_time": "2023-03-07T10:09:55.884Z"
   },
   {
    "duration": 13,
    "start_time": "2023-03-07T10:09:55.922Z"
   },
   {
    "duration": 9,
    "start_time": "2023-03-07T10:09:55.937Z"
   },
   {
    "duration": 30,
    "start_time": "2023-03-07T10:09:55.948Z"
   },
   {
    "duration": 17,
    "start_time": "2023-03-07T10:09:55.979Z"
   },
   {
    "duration": 27,
    "start_time": "2023-03-07T10:09:55.998Z"
   },
   {
    "duration": 50,
    "start_time": "2023-03-07T10:09:56.027Z"
   },
   {
    "duration": 11,
    "start_time": "2023-03-07T10:09:56.079Z"
   },
   {
    "duration": 31,
    "start_time": "2023-03-07T10:09:56.091Z"
   },
   {
    "duration": 6,
    "start_time": "2023-03-07T10:09:56.125Z"
   },
   {
    "duration": 11,
    "start_time": "2023-03-07T10:09:56.132Z"
   },
   {
    "duration": 14,
    "start_time": "2023-03-07T10:09:56.145Z"
   },
   {
    "duration": 20,
    "start_time": "2023-03-07T10:09:56.160Z"
   },
   {
    "duration": 42,
    "start_time": "2023-03-07T10:09:56.181Z"
   },
   {
    "duration": 9,
    "start_time": "2023-03-07T10:09:56.225Z"
   },
   {
    "duration": 17,
    "start_time": "2023-03-07T10:09:56.236Z"
   },
   {
    "duration": 13,
    "start_time": "2023-03-07T10:09:56.255Z"
   },
   {
    "duration": 19,
    "start_time": "2023-03-07T10:09:56.270Z"
   },
   {
    "duration": 14,
    "start_time": "2023-03-07T10:09:56.291Z"
   },
   {
    "duration": 29,
    "start_time": "2023-03-07T10:09:56.307Z"
   },
   {
    "duration": 8,
    "start_time": "2023-03-07T10:09:56.337Z"
   },
   {
    "duration": 11,
    "start_time": "2023-03-07T10:09:56.346Z"
   },
   {
    "duration": 401,
    "start_time": "2023-03-07T10:09:56.359Z"
   },
   {
    "duration": 4,
    "start_time": "2023-03-07T10:09:56.762Z"
   },
   {
    "duration": 319,
    "start_time": "2023-03-07T10:09:56.768Z"
   },
   {
    "duration": 291,
    "start_time": "2023-03-07T10:09:57.089Z"
   },
   {
    "duration": 5,
    "start_time": "2023-03-07T10:09:57.382Z"
   },
   {
    "duration": 297,
    "start_time": "2023-03-07T10:09:57.388Z"
   },
   {
    "duration": 3,
    "start_time": "2023-03-07T10:09:57.687Z"
   },
   {
    "duration": 15,
    "start_time": "2023-03-07T10:09:57.691Z"
   },
   {
    "duration": 195,
    "start_time": "2023-03-07T10:09:57.708Z"
   },
   {
    "duration": 6,
    "start_time": "2023-03-07T10:09:57.904Z"
   },
   {
    "duration": 136,
    "start_time": "2023-03-07T10:09:57.915Z"
   },
   {
    "duration": 22,
    "start_time": "2023-03-07T10:09:58.053Z"
   },
   {
    "duration": 33,
    "start_time": "2023-03-07T10:09:58.076Z"
   },
   {
    "duration": 48,
    "start_time": "2023-03-07T10:09:58.110Z"
   },
   {
    "duration": 14,
    "start_time": "2023-03-07T10:09:58.163Z"
   },
   {
    "duration": 287,
    "start_time": "2023-03-07T10:09:58.178Z"
   },
   {
    "duration": 282,
    "start_time": "2023-03-07T10:09:58.467Z"
   },
   {
    "duration": 6,
    "start_time": "2023-03-07T10:09:58.750Z"
   },
   {
    "duration": 306,
    "start_time": "2023-03-07T10:09:58.758Z"
   },
   {
    "duration": 3,
    "start_time": "2023-03-07T10:09:59.066Z"
   },
   {
    "duration": 16,
    "start_time": "2023-03-07T10:09:59.071Z"
   },
   {
    "duration": 8,
    "start_time": "2023-03-07T10:09:59.088Z"
   },
   {
    "duration": 10,
    "start_time": "2023-03-07T10:09:59.101Z"
   },
   {
    "duration": 228,
    "start_time": "2023-03-07T10:09:59.112Z"
   },
   {
    "duration": 16,
    "start_time": "2023-03-07T10:09:59.342Z"
   },
   {
    "duration": 485,
    "start_time": "2023-03-07T10:09:59.360Z"
   },
   {
    "duration": 8,
    "start_time": "2023-03-07T10:09:59.847Z"
   },
   {
    "duration": 27,
    "start_time": "2023-03-07T10:09:59.857Z"
   },
   {
    "duration": 162,
    "start_time": "2023-03-07T10:09:59.886Z"
   },
   {
    "duration": 4,
    "start_time": "2023-03-07T10:10:00.050Z"
   },
   {
    "duration": 192,
    "start_time": "2023-03-07T10:10:00.056Z"
   },
   {
    "duration": 5,
    "start_time": "2023-03-07T10:10:00.250Z"
   },
   {
    "duration": 15,
    "start_time": "2023-03-07T10:10:00.257Z"
   },
   {
    "duration": 30,
    "start_time": "2023-03-07T10:10:00.274Z"
   },
   {
    "duration": 264,
    "start_time": "2023-03-07T10:10:00.306Z"
   },
   {
    "duration": 161,
    "start_time": "2023-03-07T10:10:00.572Z"
   },
   {
    "duration": 23,
    "start_time": "2023-03-07T10:10:00.735Z"
   },
   {
    "duration": 15,
    "start_time": "2023-03-07T10:10:00.761Z"
   },
   {
    "duration": 39,
    "start_time": "2023-03-07T10:10:00.778Z"
   },
   {
    "duration": 43,
    "start_time": "2023-03-07T10:10:00.819Z"
   },
   {
    "duration": 24,
    "start_time": "2023-03-07T10:10:00.863Z"
   },
   {
    "duration": 15,
    "start_time": "2023-03-07T10:10:00.889Z"
   },
   {
    "duration": 32,
    "start_time": "2023-03-07T10:10:00.905Z"
   },
   {
    "duration": 43,
    "start_time": "2023-03-07T10:10:00.938Z"
   },
   {
    "duration": 18,
    "start_time": "2023-03-07T10:10:00.983Z"
   },
   {
    "duration": 15,
    "start_time": "2023-03-07T10:10:23.753Z"
   },
   {
    "duration": 341,
    "start_time": "2023-03-07T10:10:55.305Z"
   },
   {
    "duration": 342,
    "start_time": "2023-03-07T10:11:08.917Z"
   },
   {
    "duration": 339,
    "start_time": "2023-03-07T10:11:40.873Z"
   },
   {
    "duration": 5,
    "start_time": "2023-03-07T10:18:11.411Z"
   },
   {
    "duration": 323,
    "start_time": "2023-03-07T10:20:54.145Z"
   },
   {
    "duration": 194,
    "start_time": "2023-03-07T10:21:27.478Z"
   },
   {
    "duration": 222,
    "start_time": "2023-03-07T10:22:08.200Z"
   },
   {
    "duration": 301,
    "start_time": "2023-03-07T10:28:58.131Z"
   },
   {
    "duration": 156,
    "start_time": "2023-03-07T10:29:47.330Z"
   },
   {
    "duration": 30,
    "start_time": "2023-03-07T10:49:53.683Z"
   },
   {
    "duration": 31,
    "start_time": "2023-03-07T10:52:04.792Z"
   },
   {
    "duration": 22,
    "start_time": "2023-03-07T10:52:12.997Z"
   },
   {
    "duration": 37,
    "start_time": "2023-03-07T10:52:26.836Z"
   },
   {
    "duration": 22,
    "start_time": "2023-03-07T10:52:37.574Z"
   },
   {
    "duration": 22,
    "start_time": "2023-03-07T10:52:43.571Z"
   },
   {
    "duration": 22,
    "start_time": "2023-03-07T10:52:52.104Z"
   },
   {
    "duration": 12,
    "start_time": "2023-03-07T10:57:22.384Z"
   },
   {
    "duration": 6,
    "start_time": "2023-03-07T10:58:54.106Z"
   },
   {
    "duration": 4,
    "start_time": "2023-03-07T10:59:32.813Z"
   },
   {
    "duration": 6,
    "start_time": "2023-03-07T11:00:19.937Z"
   },
   {
    "duration": 5,
    "start_time": "2023-03-07T11:00:46.957Z"
   },
   {
    "duration": 10,
    "start_time": "2023-03-07T11:07:46.786Z"
   },
   {
    "duration": 23,
    "start_time": "2023-03-07T11:10:15.545Z"
   },
   {
    "duration": 28,
    "start_time": "2023-03-07T11:10:48.347Z"
   },
   {
    "duration": 22,
    "start_time": "2023-03-07T11:11:13.951Z"
   },
   {
    "duration": 18,
    "start_time": "2023-03-07T11:11:26.080Z"
   },
   {
    "duration": 25,
    "start_time": "2023-03-07T11:11:38.067Z"
   },
   {
    "duration": 15,
    "start_time": "2023-03-07T11:14:10.298Z"
   },
   {
    "duration": 1154,
    "start_time": "2023-05-16T14:33:45.403Z"
   },
   {
    "duration": 121,
    "start_time": "2023-05-16T14:33:46.559Z"
   },
   {
    "duration": 16,
    "start_time": "2023-05-16T14:33:46.682Z"
   },
   {
    "duration": 30,
    "start_time": "2023-05-16T14:33:46.701Z"
   },
   {
    "duration": 15,
    "start_time": "2023-05-16T14:33:46.733Z"
   },
   {
    "duration": 10,
    "start_time": "2023-05-16T14:33:46.750Z"
   },
   {
    "duration": 4,
    "start_time": "2023-05-16T14:33:46.762Z"
   },
   {
    "duration": 16,
    "start_time": "2023-05-16T14:33:46.768Z"
   },
   {
    "duration": 37,
    "start_time": "2023-05-16T14:33:46.785Z"
   },
   {
    "duration": 23,
    "start_time": "2023-05-16T14:33:46.825Z"
   },
   {
    "duration": 105,
    "start_time": "2023-05-16T14:33:46.850Z"
   },
   {
    "duration": 14,
    "start_time": "2023-05-16T14:33:46.956Z"
   },
   {
    "duration": 27,
    "start_time": "2023-05-16T14:33:46.972Z"
   },
   {
    "duration": 10,
    "start_time": "2023-05-16T14:33:47.001Z"
   },
   {
    "duration": 32,
    "start_time": "2023-05-16T14:33:47.013Z"
   },
   {
    "duration": 17,
    "start_time": "2023-05-16T14:33:47.046Z"
   },
   {
    "duration": 16,
    "start_time": "2023-05-16T14:33:47.065Z"
   },
   {
    "duration": 73,
    "start_time": "2023-05-16T14:33:47.083Z"
   },
   {
    "duration": 14,
    "start_time": "2023-05-16T14:33:47.158Z"
   },
   {
    "duration": 16,
    "start_time": "2023-05-16T14:33:47.174Z"
   },
   {
    "duration": 13,
    "start_time": "2023-05-16T14:33:47.192Z"
   },
   {
    "duration": 10,
    "start_time": "2023-05-16T14:33:47.207Z"
   },
   {
    "duration": 32,
    "start_time": "2023-05-16T14:33:47.219Z"
   },
   {
    "duration": 23,
    "start_time": "2023-05-16T14:33:47.253Z"
   },
   {
    "duration": 10,
    "start_time": "2023-05-16T14:33:47.277Z"
   },
   {
    "duration": 13,
    "start_time": "2023-05-16T14:33:47.289Z"
   },
   {
    "duration": 277,
    "start_time": "2023-05-16T14:33:47.304Z"
   },
   {
    "duration": 9,
    "start_time": "2023-05-16T14:33:47.586Z"
   },
   {
    "duration": 286,
    "start_time": "2023-05-16T14:33:47.597Z"
   },
   {
    "duration": 305,
    "start_time": "2023-05-16T14:33:47.885Z"
   },
   {
    "duration": 6,
    "start_time": "2023-05-16T14:33:48.192Z"
   },
   {
    "duration": 333,
    "start_time": "2023-05-16T14:33:48.199Z"
   },
   {
    "duration": 2,
    "start_time": "2023-05-16T14:33:48.534Z"
   },
   {
    "duration": 28,
    "start_time": "2023-05-16T14:33:48.538Z"
   },
   {
    "duration": 203,
    "start_time": "2023-05-16T14:33:48.568Z"
   },
   {
    "duration": 2,
    "start_time": "2023-05-16T14:33:48.773Z"
   },
   {
    "duration": 132,
    "start_time": "2023-05-16T14:33:48.781Z"
   },
   {
    "duration": 16,
    "start_time": "2023-05-16T14:33:48.914Z"
   },
   {
    "duration": 22,
    "start_time": "2023-05-16T14:33:48.932Z"
   },
   {
    "duration": 9,
    "start_time": "2023-05-16T14:33:48.957Z"
   },
   {
    "duration": 11,
    "start_time": "2023-05-16T14:33:48.969Z"
   },
   {
    "duration": 334,
    "start_time": "2023-05-16T14:33:48.982Z"
   },
   {
    "duration": 333,
    "start_time": "2023-05-16T14:33:49.319Z"
   },
   {
    "duration": 9,
    "start_time": "2023-05-16T14:33:49.654Z"
   },
   {
    "duration": 329,
    "start_time": "2023-05-16T14:33:49.665Z"
   },
   {
    "duration": 2,
    "start_time": "2023-05-16T14:33:49.996Z"
   },
   {
    "duration": 17,
    "start_time": "2023-05-16T14:33:50.001Z"
   },
   {
    "duration": 22,
    "start_time": "2023-05-16T14:33:50.020Z"
   },
   {
    "duration": 9,
    "start_time": "2023-05-16T14:33:50.045Z"
   },
   {
    "duration": 237,
    "start_time": "2023-05-16T14:33:50.055Z"
   },
   {
    "duration": 13,
    "start_time": "2023-05-16T14:33:50.293Z"
   },
   {
    "duration": 350,
    "start_time": "2023-05-16T14:33:50.307Z"
   },
   {
    "duration": 8,
    "start_time": "2023-05-16T14:33:50.659Z"
   },
   {
    "duration": 15,
    "start_time": "2023-05-16T14:33:50.669Z"
   },
   {
    "duration": 196,
    "start_time": "2023-05-16T14:33:50.686Z"
   },
   {
    "duration": 5,
    "start_time": "2023-05-16T14:33:50.884Z"
   },
   {
    "duration": 218,
    "start_time": "2023-05-16T14:33:50.891Z"
   },
   {
    "duration": 5,
    "start_time": "2023-05-16T14:33:51.111Z"
   },
   {
    "duration": 252,
    "start_time": "2023-05-16T14:33:51.118Z"
   },
   {
    "duration": 4,
    "start_time": "2023-05-16T14:33:51.372Z"
   },
   {
    "duration": 17,
    "start_time": "2023-05-16T14:33:51.377Z"
   },
   {
    "duration": 21,
    "start_time": "2023-05-16T14:33:51.396Z"
   },
   {
    "duration": 241,
    "start_time": "2023-05-16T14:33:51.419Z"
   },
   {
    "duration": 147,
    "start_time": "2023-05-16T14:33:51.662Z"
   },
   {
    "duration": 31,
    "start_time": "2023-05-16T14:33:51.817Z"
   },
   {
    "duration": 12,
    "start_time": "2023-05-16T14:33:51.850Z"
   },
   {
    "duration": 28,
    "start_time": "2023-05-16T14:33:51.864Z"
   },
   {
    "duration": 9,
    "start_time": "2023-05-16T14:33:51.894Z"
   },
   {
    "duration": 14,
    "start_time": "2023-05-16T14:33:51.905Z"
   },
   {
    "duration": 25,
    "start_time": "2023-05-16T14:33:51.921Z"
   },
   {
    "duration": 10,
    "start_time": "2023-05-16T14:33:51.948Z"
   },
   {
    "duration": 22,
    "start_time": "2023-05-16T14:33:51.959Z"
   },
   {
    "duration": 16,
    "start_time": "2023-05-16T14:33:51.983Z"
   }
  ],
  "kernelspec": {
   "display_name": "Python 3 (ipykernel)",
   "language": "python",
   "name": "python3"
  },
  "language_info": {
   "codemirror_mode": {
    "name": "ipython",
    "version": 3
   },
   "file_extension": ".py",
   "mimetype": "text/x-python",
   "name": "python",
   "nbconvert_exporter": "python",
   "pygments_lexer": "ipython3",
   "version": "3.9.13"
  },
  "toc": {
   "base_numbering": 1,
   "nav_menu": {},
   "number_sections": true,
   "sideBar": true,
   "skip_h1_title": true,
   "title_cell": "Table of Contents",
   "title_sidebar": "Contents",
   "toc_cell": false,
   "toc_position": {
    "height": "calc(100% - 180px)",
    "left": "10px",
    "top": "150px",
    "width": "236.188px"
   },
   "toc_section_display": true,
   "toc_window_display": true
  }
 },
 "nbformat": 4,
 "nbformat_minor": 2
}
